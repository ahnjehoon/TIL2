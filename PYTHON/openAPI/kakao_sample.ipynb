{
 "cells": [
  {
   "cell_type": "code",
   "execution_count": 1,
   "metadata": {},
   "outputs": [],
   "source": [
    "import requests as rq\n",
    "import pandas as pd\n",
    "import json\n",
    "import bs4\n",
    "import re\n",
    "import time"
   ]
  },
  {
   "cell_type": "code",
   "execution_count": 2,
   "metadata": {},
   "outputs": [],
   "source": [
    "def getData(url, keyword):\n",
    "    params = {\n",
    "         'query' : keyword\n",
    "        ,'x' : '37.514322572335935' \n",
    "        ,'y' : '127.06283102249932'\n",
    "        ,'radius' : '1000'\n",
    "    }\n",
    "\n",
    "    headers = {\n",
    "        'Authorization' : 'KakaoAK '\n",
    "    }\n",
    "    response = rq.get(url,params=params,headers=headers)\n",
    "    response_data = json.loads(response.text)\n",
    "    return response_data"
   ]
  },
  {
   "cell_type": "code",
   "execution_count": 3,
   "metadata": {},
   "outputs": [],
   "source": [
    "def keyword():\n",
    "    return input('키워드를 입력해주세요 : ')"
   ]
  },
  {
   "cell_type": "code",
   "execution_count": 4,
   "metadata": {},
   "outputs": [],
   "source": [
    "def getDataJson(response_data):\n",
    "    data_dic = {\n",
    "         'place_name' : []\n",
    "        ,'road_address_name' : []\n",
    "        ,'x' : []\n",
    "        ,'y' : []\n",
    "    }\n",
    "    # 태그의 수만큼 반복한다.\n",
    "    for result_dic in response_data['documents'] : \n",
    "        place_name_str = result_dic['place_name'].strip()\n",
    "        road_address_name_str = result_dic['road_address_name'].strip()\n",
    "        x_str = result_dic['x']\n",
    "        y_str = result_dic['y']\n",
    "        \n",
    "        #print(place_name_str)\n",
    "        #print(road_address_name_str)\n",
    "        #print(x_str)\n",
    "        #print(y_str)\n",
    "        #print('----------------------------------')\n",
    "        \n",
    "        data_dic['place_name'].append(place_name_str)\n",
    "        data_dic['road_address_name'].append(road_address_name_str)\n",
    "        data_dic['x'].append(x_str)\n",
    "        data_dic['y'].append(y_str)\n",
    "    \n",
    "    df = pd.DataFrame.from_dict(data_dic)\n",
    "    global check_save\n",
    "    if check_save == False:\n",
    "        check_save = True\n",
    "        df.to_csv('kakao_json.csv', index=False, encoding='utf-8-sig')\n",
    "    else:\n",
    "        df.to_csv('kakao_json.csv', index=False, encoding='utf-8-sig', mode='a', header=False)\n",
    "        \n",
    "    #return data_dic"
   ]
  },
  {
   "cell_type": "code",
   "execution_count": 5,
   "metadata": {},
   "outputs": [],
   "source": [
    "url = 'https://dapi.kakao.com/v2/local/search/keyword.json'\n",
    "#response_data = getData(url, keyword())\n",
    "check_save = False\n",
    "response_data = getData(url, '은행')\n",
    "getDataJson(response_data)"
   ]
  }
 ],
 "metadata": {
  "kernelspec": {
   "display_name": "Python 3",
   "language": "python",
   "name": "python3"
  },
  "language_info": {
   "codemirror_mode": {
    "name": "ipython",
    "version": 3
   },
   "file_extension": ".py",
   "mimetype": "text/x-python",
   "name": "python",
   "nbconvert_exporter": "python",
   "pygments_lexer": "ipython3",
   "version": "3.7.1"
  }
 },
 "nbformat": 4,
 "nbformat_minor": 2
}
