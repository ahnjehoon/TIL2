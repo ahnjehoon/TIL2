{
 "cells": [
  {
   "cell_type": "code",
   "execution_count": 1,
   "metadata": {},
   "outputs": [],
   "source": [
    "import requests as rq\n",
    "import pandas as pd\n",
    "import json\n",
    "import bs4\n",
    "import re\n",
    "import time"
   ]
  },
  {
   "cell_type": "code",
   "execution_count": 2,
   "metadata": {},
   "outputs": [],
   "source": [
    "def connectionXml(url,params):\n",
    "    response = rq.get(url,params)\n",
    "    soup = bs4.BeautifulSoup(response.text, 'lxml')\n",
    "    return soup"
   ]
  },
  {
   "cell_type": "code",
   "execution_count": 3,
   "metadata": {},
   "outputs": [],
   "source": [
    "def connectionJson(url,params):\n",
    "    response = rq.get(url,params)\n",
    "    return json.loads(response.text)"
   ]
  },
  {
   "cell_type": "code",
   "execution_count": 4,
   "metadata": {},
   "outputs": [],
   "source": [
    "def getDataXml(result_xml):\n",
    "    # 데이터를 담을 딕셔너리\n",
    "    data_dic = {\n",
    "        'name' : []\n",
    "        ,'vicinity' : []\n",
    "        ,'lat' : []\n",
    "        ,'lng' : []\n",
    "    }\n",
    "    result_list = result_xml.find_all('result')\n",
    "    # 태그의 수만큼 반복한다.\n",
    "    for result_tag in result_list : \n",
    "        name_str = result_tag.find('name').text.strip()\n",
    "        vicinity_str = result_tag.find('vicinity').text.strip()\n",
    "        lat_str = result_tag.find('geometry').find('location').find('lat').text.strip()\n",
    "        lng_str = result_tag.find('geometry').find('location').find('lng').text.strip()\n",
    "        \n",
    "        #print(name_str)\n",
    "        #print(vicinity_str)\n",
    "        #print(lat_str)\n",
    "        #print(lng_str)\n",
    "        #print('----------------------------------')\n",
    "\n",
    "        data_dic['name'].append(name_str)\n",
    "        data_dic['vicinity'].append(vicinity_str)\n",
    "        data_dic['lat'].append(lat_str)\n",
    "        data_dic['lng'].append(lng_str)\n",
    "    \n",
    "    df = pd.DataFrame.from_dict(data_dic)\n",
    "    global check_save\n",
    "    if check_save == False:\n",
    "        check_save = True\n",
    "        df.to_csv('google_xml.csv', index=False, encoding='utf-8-sig')\n",
    "    else:\n",
    "        df.to_csv('google_xml.csv', index=False, encoding='utf-8-sig', mode='a', header=False)\n",
    "        \n",
    "    #return data_dic"
   ]
  },
  {
   "cell_type": "code",
   "execution_count": 5,
   "metadata": {},
   "outputs": [],
   "source": [
    "def getDataJson(result_json):\n",
    "    # 데이터를 담을 딕셔너리\n",
    "    data_dic = {\n",
    "         'name' : []\n",
    "        ,'vicinity' : []\n",
    "        ,'lat' : []\n",
    "        ,'lng' : []\n",
    "    }\n",
    "    # 태그의 수만큼 반복한다.\n",
    "    for result_dic in result_json['results'] : \n",
    "        name_str = result_dic['name'].strip()\n",
    "        vicinity_str = result_dic['vicinity'].strip()\n",
    "        lat_str = result_dic['geometry']['location']['lat']\n",
    "        lng_str = result_dic['geometry']['location']['lng']\n",
    "        \n",
    "        #print(name_str)\n",
    "        #print(vicinity_str)\n",
    "        #print(lat_str)\n",
    "        #print(lng_str)\n",
    "        #print('----------------------------------')\n",
    "        \n",
    "        data_dic['name'].append(name_str)\n",
    "        data_dic['vicinity'].append(vicinity_str)\n",
    "        data_dic['lat'].append(lat_str)\n",
    "        data_dic['lng'].append(lng_str)\n",
    "    \n",
    "    df = pd.DataFrame.from_dict(data_dic)\n",
    "    global check_save\n",
    "    if check_save == False:\n",
    "        check_save = True\n",
    "        df.to_csv('google_json.csv', index=False, encoding='utf-8-sig')\n",
    "    else:\n",
    "        df.to_csv('google_json.csv', index=False, encoding='utf-8-sig', mode='a', header=False)\n",
    "        \n",
    "    #return data_dic"
   ]
  },
  {
   "cell_type": "code",
   "execution_count": 6,
   "metadata": {},
   "outputs": [],
   "source": [
    "xml_url = 'https://maps.googleapis.com/maps/api/place/nearbysearch/xml'\n",
    "json_url = 'https://maps.googleapis.com/maps/api/place/nearbysearch/json'\n",
    "\n",
    "params = {\n",
    "    'key' : ''\n",
    "    ,'location' : '37.501334,127.039282' \n",
    "    ,'radius' : '1000'\n",
    "    ,'language' : 'ko'\n",
    "    ,'type' : 'bank'\n",
    "    ,'pagetokken' : ''\n",
    "\n",
    "}"
   ]
  },
  {
   "cell_type": "code",
   "execution_count": 10,
   "metadata": {
    "scrolled": true
   },
   "outputs": [
    {
     "name": "stdout",
     "output_type": "stream",
     "text": [
      "OK\n",
      "끝남\n"
     ]
    }
   ],
   "source": [
    "check_save = False\n",
    "# xml 데이터 가져옴\n",
    "while True:\n",
    "    time.sleep(0.5)\n",
    "    result_xml = connectionXml(xml_url, params)\n",
    "    if result_xml.find('status').text=='OK':\n",
    "        print('OK')\n",
    "        getDataXml(result_xml)\n",
    "    if result_xml.find('next_page_token') == None:\n",
    "        print('끝남')\n",
    "        break\n",
    "    else:\n",
    "        params['pagetokken'] = result_xml.find('next_page_token').text.strip()"
   ]
  },
  {
   "cell_type": "code",
   "execution_count": null,
   "metadata": {},
   "outputs": [],
   "source": []
  }
 ],
 "metadata": {
  "kernelspec": {
   "display_name": "Python 3",
   "language": "python",
   "name": "python3"
  },
  "language_info": {
   "codemirror_mode": {
    "name": "ipython",
    "version": 3
   },
   "file_extension": ".py",
   "mimetype": "text/x-python",
   "name": "python",
   "nbconvert_exporter": "python",
   "pygments_lexer": "ipython3",
   "version": "3.7.1"
  }
 },
 "nbformat": 4,
 "nbformat_minor": 2
}
