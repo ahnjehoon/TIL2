{
 "cells": [
  {
   "cell_type": "markdown",
   "metadata": {},
   "source": [
    "# OPEN API\n",
    "\n",
    "- 데이터를 수집한 곳에서 일반 개발자들에게 사용할 수 이도록 공개한 서비스\n",
    "\n",
    "- 데이터는 XML/JSON 양식으로 제공하며 웹으로 요청이 가능하게 함\n",
    "\n",
    "사용방법\n",
    "1. OPEN API 서비스를 찾음\n",
    "2. 요청할 주소를 확인\n",
    "3. 요청시 서버로 보낼 데이터(파라미터, 헤터) 확인\n",
    "4. 응답결과 수신\n",
    "5. postman과 같은 프로그램으로 서비스"
   ]
  },
  {
   "cell_type": "code",
   "execution_count": null,
   "metadata": {},
   "outputs": [],
   "source": []
  }
 ],
 "metadata": {
  "kernelspec": {
   "display_name": "Python 3",
   "language": "python",
   "name": "python3"
  },
  "language_info": {
   "codemirror_mode": {
    "name": "ipython",
    "version": 3
   },
   "file_extension": ".py",
   "mimetype": "text/x-python",
   "name": "python",
   "nbconvert_exporter": "python",
   "pygments_lexer": "ipython3",
   "version": "3.6.5"
  }
 },
 "nbformat": 4,
 "nbformat_minor": 2
}
