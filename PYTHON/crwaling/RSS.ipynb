{
 "cells": [
  {
   "cell_type": "markdown",
   "metadata": {},
   "source": [
    "# RSS 문서\n",
    "\n",
    "- 국제 표준으로 양식이 정해져 있는 문서\n",
    "- &lt;rss version=\"2.0\"&gt;로 시작하면 RSS 문서\n",
    "- rss 문서의 구조와 태그는 정해져 있는 태그를 사용하고 있고 항목 하나의 데이터를 가지고 있는 item 태그 내부는 자유롭게 구성되어 있음\n",
    "- 따라서 item 태그 내부만 살펴보면 쉽게 데이터를 가져올 수 있음"
   ]
  },
  {
   "cell_type": "markdown",
   "metadata": {},
   "source": [
    "## Parser 특징\n",
    "- lxml = HTML 전용\n",
    "- lxml-xml = XML 전용"
   ]
  },
  {
   "cell_type": "markdown",
   "metadata": {},
   "source": [
    "#bs4 사용\n",
    "import requests as rq\n",
    "import bs4\n",
    "\n",
    "url = 'http://www.aladin.co.kr/rss/special_new/book/'\n",
    "\n",
    "response = rq.get(url)\n",
    "soup = bs4.BeautifulSoup(response.text, 'lxml-xml')\n",
    "\n",
    "#print(soup.prettify())\n",
    "\n",
    "soup.select('channel > title')[0].text\n",
    "\n",
    "data = [x.text for x in soup.select('item > title')]\n",
    "#data[0].split('/')[1]\n",
    "#data\n",
    "\n",
    "data_link = [x.text for x in soup.select('item > link')]\n",
    "#data_link"
   ]
  },
  {
   "cell_type": "code",
   "execution_count": 1,
   "metadata": {},
   "outputs": [],
   "source": [
    "# !pip install feedparser\n",
    "import feedparser as fp"
   ]
  },
  {
   "cell_type": "code",
   "execution_count": 2,
   "metadata": {},
   "outputs": [],
   "source": [
    "url = 'http://www.aladin.co.kr/rss/special_new/book/'\n",
    "result = fp.parse(url)\n",
    "\n",
    "title = result.feed.title\n",
    "# print(title)\n",
    "link = result.feed.link\n",
    "# print(link)\n",
    "\n",
    "book_title = [x.title for x in result.entries]\n"
   ]
  }
 ],
 "metadata": {
  "kernelspec": {
   "display_name": "Python 3",
   "language": "python",
   "name": "python3"
  },
  "language_info": {
   "codemirror_mode": {
    "name": "ipython",
    "version": 3
   },
   "file_extension": ".py",
   "mimetype": "text/x-python",
   "name": "python",
   "nbconvert_exporter": "python",
   "pygments_lexer": "ipython3",
   "version": "3.6.5"
  }
 },
 "nbformat": 4,
 "nbformat_minor": 2
}
