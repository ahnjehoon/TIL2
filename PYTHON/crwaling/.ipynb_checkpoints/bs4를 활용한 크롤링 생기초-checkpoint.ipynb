{
 "cells": [
  {
   "cell_type": "markdown",
   "metadata": {},
   "source": [
    "# requests 모듈"
   ]
  },
  {
   "cell_type": "markdown",
   "metadata": {},
   "source": [
    "### requests : 웹 서버 요청을 쉽게 할 수 있게 만든 모듈\n",
    "\n",
    "> 파이썬 코어에 urllib 모듈이 있지만 이보다 쉽게 사용 할 수 있도록 배포된 모듈"
   ]
  },
  {
   "cell_type": "code",
   "execution_count": 1,
   "metadata": {},
   "outputs": [],
   "source": [
    "# 모듈 import\n",
    "# pip install requests\n",
    "import requests"
   ]
  },
  {
   "cell_type": "code",
   "execution_count": 2,
   "metadata": {},
   "outputs": [],
   "source": [
    "# 접속할 페이지의 주소\n",
    "url = \"https://finance.naver.com/sise/sise_index.nhn?code=KOSPI\""
   ]
  },
  {
   "cell_type": "code",
   "execution_count": 3,
   "metadata": {},
   "outputs": [],
   "source": [
    "# IHQ\n",
    "# https://finance.naver.com/item/frgn.nhn?code=003560"
   ]
  },
  {
   "cell_type": "code",
   "execution_count": 4,
   "metadata": {},
   "outputs": [
    {
     "data": {
      "text/plain": [
       "<Response [200]>"
      ]
     },
     "execution_count": 4,
     "metadata": {},
     "output_type": "execute_result"
    }
   ],
   "source": [
    "# 요청(GET 방식 요청)\n",
    "response = requests.get(url)\n",
    "response"
   ]
  },
  {
   "cell_type": "code",
   "execution_count": 5,
   "metadata": {},
   "outputs": [
    {
     "data": {
      "text/plain": [
       "<Response [200]>"
      ]
     },
     "execution_count": 5,
     "metadata": {},
     "output_type": "execute_result"
    }
   ],
   "source": [
    "# 요청(POST 방식 요청)\n",
    "response = requests.post(url)\n",
    "response"
   ]
  },
  {
   "cell_type": "code",
   "execution_count": 6,
   "metadata": {},
   "outputs": [
    {
     "name": "stdout",
     "output_type": "stream",
     "text": [
      "get : 200\n",
      "post : 200\n"
     ]
    }
   ],
   "source": [
    "# 응답 코드 가져오기\n",
    "response = requests.get(url)\n",
    "print(f'get : {response.status_code}')\n",
    "response = requests.post(url)\n",
    "print(f'post : {response.status_code}')"
   ]
  },
  {
   "cell_type": "code",
   "execution_count": 7,
   "metadata": {},
   "outputs": [],
   "source": [
    "## 문자열 포멧\n",
    "#input1 = input('이름 입력 : ')\n",
    "#input2 = input('나이 입력 : ')\n",
    "#\n",
    "#print('이름은 ' + input1 + '이고 나이는 ' + input2 + '살 입니다')\n",
    "#print(f'이름은 {input1}이고 나이는 {input2}살 입니다')"
   ]
  },
  {
   "cell_type": "code",
   "execution_count": 8,
   "metadata": {},
   "outputs": [
    {
     "data": {
      "text/plain": [
       "{'Date': 'Tue, 19 Mar 2019 01:13:53 GMT', 'Cache-Control': 'no-cache', 'Expires': 'Thu, 01 Jan 1970 00:00:00 GMT', 'Set-Cookie': 'JSESSIONID=29E853FE161C93F6E6AEBA508F3D466C; Path=/; HttpOnly', 'Content-Language': 'ko', 'Vary': 'Accept-Encoding,User-Agent', 'Content-Encoding': 'gzip', 'Referrer-Policy': 'unsafe-url', 'Transfer-Encoding': 'chunked', 'Content-Type': 'text/html;charset=EUC-KR', 'X-XSS-Protection': '1; mode=block', 'Strict-Transport-Security': 'max-age=31536000; includeSubDomains', 'Server': 'nfront'}"
      ]
     },
     "execution_count": 8,
     "metadata": {},
     "output_type": "execute_result"
    }
   ],
   "source": [
    "response = requests.get(url)\n",
    "response.headers"
   ]
  },
  {
   "cell_type": "code",
   "execution_count": 9,
   "metadata": {},
   "outputs": [
    {
     "data": {
      "text/plain": [
       "'Tue, 19 Mar 2019 01:13:53 GMT'"
      ]
     },
     "execution_count": 9,
     "metadata": {},
     "output_type": "execute_result"
    }
   ],
   "source": [
    "response.headers['Date']"
   ]
  },
  {
   "cell_type": "markdown",
   "metadata": {},
   "source": [
    "# BS4 모듈(BeautifulSoup 4)"
   ]
  },
  {
   "cell_type": "markdown",
   "metadata": {},
   "source": [
    "xml이나 html 문서를 분석해서 원하는 데이터를 쉽게 가져올 수 있도록 제작된 모듈"
   ]
  },
  {
   "cell_type": "code",
   "execution_count": 10,
   "metadata": {},
   "outputs": [],
   "source": [
    "# !pip install beautifulsoup4\n",
    "# !pip install lxml\n",
    "import bs4"
   ]
  },
  {
   "cell_type": "code",
   "execution_count": 11,
   "metadata": {},
   "outputs": [
    {
     "data": {
      "text/plain": []
     },
     "execution_count": 11,
     "metadata": {},
     "output_type": "execute_result"
    }
   ],
   "source": [
    "# 객체 생성 방법\n",
    "html = ''\n",
    "soup = bs4.BeautifulSoup(html, 'lxml')\n",
    "soup"
   ]
  },
  {
   "cell_type": "code",
   "execution_count": 12,
   "metadata": {},
   "outputs": [
    {
     "data": {
      "text/plain": [
       "<html><body><p>test</p></body></html>"
      ]
     },
     "execution_count": 12,
     "metadata": {},
     "output_type": "execute_result"
    }
   ],
   "source": [
    "html = '<p>test</p>'\n",
    "soup = bs4.BeautifulSoup(html, 'lxml')\n",
    "soup"
   ]
  },
  {
   "cell_type": "code",
   "execution_count": 13,
   "metadata": {},
   "outputs": [
    {
     "name": "stdout",
     "output_type": "stream",
     "text": [
      "<html>\n",
      " <body>\n",
      "  <p>\n",
      "   test\n",
      "  </p>\n",
      " </body>\n",
      "</html>\n"
     ]
    }
   ],
   "source": [
    "# 걍 soup.prettify() 쓰면 안되고 print로 묶어야 되더라..\n",
    "# 코드 정렬 안된 더러운 사이트에서 사용하기 좋을듯\n",
    "print(soup.prettify())"
   ]
  },
  {
   "cell_type": "code",
   "execution_count": 14,
   "metadata": {},
   "outputs": [
    {
     "name": "stdout",
     "output_type": "stream",
     "text": [
      "<html><body><p>\n",
      "    test\n",
      "</p>\n",
      "</body></html>\n",
      "@@@@@@@@@@@@@@@@@@@@@@@@@\n",
      "<p>\n",
      "    test\n",
      "</p>\n",
      "@@@@@@@@@@@@@@@@@@@@@@@@@\n",
      "\n",
      "    test\n",
      "\n",
      "@@@@@@@@@@@@@@@@@@@@@@@@@\n",
      "\n",
      "    test\n",
      "\n"
     ]
    }
   ],
   "source": [
    "# '''작은 따옴표 3개 쓰는 것은 문자열에서 작은 따옴표 큰 따옴표 두개 같이 표현하려고 씀\n",
    "# 문자가 개행됬을 때도 오류를 방지함\n",
    "html = '''\n",
    "<p>\n",
    "    test\n",
    "</p>\n",
    "'''\n",
    "soup = bs4.BeautifulSoup(html, 'lxml')\n",
    "print(soup)\n",
    "print('@@@@@@@@@@@@@@@@@@@@@@@@@')\n",
    "print(soup.p)\n",
    "print('@@@@@@@@@@@@@@@@@@@@@@@@@')\n",
    "print(soup.p.string)\n",
    "print('@@@@@@@@@@@@@@@@@@@@@@@@@')\n",
    "print(soup.p.text)"
   ]
  },
  {
   "cell_type": "markdown",
   "metadata": {},
   "source": [
    "### select\n",
    "\n",
    "html에서 사용하는 selector 문법을 이용해 태그를 지칭하는 함수\n",
    "\n",
    "* 태그이름 ; \"태그이름\"\n",
    "* class 속성 : \".class속성\"\n",
    "* id 속성 : \"#id속성\""
   ]
  },
  {
   "cell_type": "code",
   "execution_count": 31,
   "metadata": {},
   "outputs": [],
   "source": [
    "html = '''\n",
    "<p class='a1'>p 태그 1</p>\n",
    "<p class='a1'id='id1'>p 태그 2</p>\n",
    "<p class='a2'id='id2'>p 태그 3</p>\n",
    "<p class='a3'id='id3'>p 태그 4</p>\n",
    "'''\n",
    "soup = bs4.BeautifulSoup(html, 'lxml')"
   ]
  },
  {
   "cell_type": "code",
   "execution_count": 26,
   "metadata": {},
   "outputs": [
    {
     "name": "stdout",
     "output_type": "stream",
     "text": [
      "[<p class=\"a1\">p 태그 1</p>, <p class=\"a1\" id=\"i1\">p 태그 2</p>, <p class=\"a2\" id=\"i2\">p 태그 3</p>, <p class=\"a3\" id=\"i3\">p 태그 4</p>]\n",
      "[]\n",
      "[<p class=\"a1\" id=\"i1\">p 태그 2</p>]\n"
     ]
    }
   ],
   "source": [
    "# p 태그들을 가져온다\n",
    "p_list1 = soup.find_all('p')\n",
    "p_list2 = soup.select('p')\n",
    "p_list3 = soup.select('#i1')\n",
    "p_list4 = soup.select('#i1')\n",
    "\n",
    "print(p_list1)\n",
    "print(p_list2)\n",
    "print(p_list3)\n",
    "print(p_list4)"
   ]
  },
  {
   "cell_type": "code",
   "execution_count": 35,
   "metadata": {},
   "outputs": [
    {
     "name": "stdout",
     "output_type": "stream",
     "text": [
      "[<p class=\"a1\">p 태그 1</p>, <p class=\"a1\" id=\"id1\">p 태그 2</p>]\n",
      "<p class=\"a2\" id=\"id2\" name=\"name1\">p 태그 3</p>\n",
      "[<p class=\"a1\">p 태그 1</p>, <p class=\"a1\" id=\"id1\">p 태그 2</p>]\n",
      "[<p class=\"a2\" id=\"id2\" name=\"name1\">p 태그 3</p>]\n"
     ]
    }
   ],
   "source": [
    "# class 속성\n",
    "a1_class1 = soup.find_all(class_='a1')\n",
    "a2_class1 = soup.find(class_='a2')\n",
    "print(a1_class1)\n",
    "print(a2_class1)\n",
    "\n",
    "a1_class2 = soup.select('.a1')\n",
    "a2_class2 = soup.select('.a2')\n",
    "print(a1_class2)\n",
    "print(a2_class2)"
   ]
  },
  {
   "cell_type": "code",
   "execution_count": 34,
   "metadata": {},
   "outputs": [
    {
     "name": "stdout",
     "output_type": "stream",
     "text": [
      "<p class=\"a1\" id=\"id1\">p 태그 2</p>\n",
      "[<p class=\"a2\" id=\"id2\" name=\"name1\">p 태그 3</p>]\n"
     ]
    }
   ],
   "source": [
    "# id 속성\n",
    "test1_id1 = soup.find(id='id1')\n",
    "test1_id2 = soup.select('#id2')\n",
    "\n",
    "print(test1_id1)\n",
    "print(test1_id2)"
   ]
  },
  {
   "cell_type": "code",
   "execution_count": 42,
   "metadata": {},
   "outputs": [],
   "source": [
    "html = '''\n",
    "<div>\n",
    "    <div id='test1'>\n",
    "        <p>test1</p>\n",
    "    </div>\n",
    "    <div id='test2'>\n",
    "        <p>test2</p>\n",
    "    </div>\n",
    "</div>\n",
    "'''\n",
    "soup = bs4.BeautifulSoup(html, 'lxml')"
   ]
  },
  {
   "cell_type": "code",
   "execution_count": 45,
   "metadata": {},
   "outputs": [
    {
     "name": "stdout",
     "output_type": "stream",
     "text": [
      "<p>test1</p>\n",
      "<p>test2</p>\n"
     ]
    }
   ],
   "source": [
    "# id가 test1, test2인 태그를 가져온다\n",
    "test1_tag = soup.find(id='test1')\n",
    "test2_tag = soup.find(id='test2')\n",
    "\n",
    "# 각 태그 내부의 p 태그를 가져온다\n",
    "p_tag1 = test1_tag.find('p')\n",
    "p_tag2 = test2_tag.find('p')\n",
    "\n",
    "print(p_tag1)\n",
    "print(p_tag2)"
   ]
  },
  {
   "cell_type": "code",
   "execution_count": 46,
   "metadata": {},
   "outputs": [
    {
     "name": "stdout",
     "output_type": "stream",
     "text": [
      "test1\n",
      "test2\n"
     ]
    }
   ],
   "source": [
    "p_tag1 = soup.select('#test1 > p')[0].text\n",
    "p_tag2 = soup.select('#test2 > p')[0].text\n",
    "\n",
    "print(p_tag1)\n",
    "print(p_tag2)"
   ]
  },
  {
   "cell_type": "code",
   "execution_count": null,
   "metadata": {},
   "outputs": [],
   "source": []
  }
 ],
 "metadata": {
  "kernelspec": {
   "display_name": "Python 3",
   "language": "python",
   "name": "python3"
  },
  "language_info": {
   "codemirror_mode": {
    "name": "ipython",
    "version": 3
   },
   "file_extension": ".py",
   "mimetype": "text/x-python",
   "name": "python",
   "nbconvert_exporter": "python",
   "pygments_lexer": "ipython3",
   "version": "3.7.3"
  }
 },
 "nbformat": 4,
 "nbformat_minor": 2
}
