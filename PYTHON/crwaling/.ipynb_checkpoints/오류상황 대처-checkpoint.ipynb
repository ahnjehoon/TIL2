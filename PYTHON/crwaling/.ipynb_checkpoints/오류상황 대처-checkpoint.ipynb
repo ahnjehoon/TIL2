{
 "cells": [
  {
   "cell_type": "markdown",
   "metadata": {},
   "source": [
    "# 오류 대처"
   ]
  },
  {
   "cell_type": "code",
   "execution_count": 1,
   "metadata": {},
   "outputs": [],
   "source": [
    "import requests as rq\n",
    "from retrying import retry\n",
    "import time"
   ]
  },
  {
   "cell_type": "code",
   "execution_count": 2,
   "metadata": {},
   "outputs": [],
   "source": [
    "# 일시적인 오류를 나타내는 상태코드\n",
    "# 500번은 서버 개발자가 만든 코드가 잘못되어 발생되는 코드\n",
    "error_code = (404, 503, 408, 502, 504, 400)"
   ]
  },
  {
   "cell_type": "code",
   "execution_count": 3,
   "metadata": {},
   "outputs": [],
   "source": [
    "# 요청 처리를 하는 함수\n",
    "# stop_max_attemp_number : 예외가 발생했을 떄\n",
    "# 다시 호출하는 최대 횟수\n",
    "# wait_exponential_multiplier : 다시 호출시\n",
    "# 대기하는 시간 증가값\n",
    "@retry(stop_max_attempt_number=3, wait_exponential_multiplier=1000)\n",
    "def fetch(url):\n",
    "    # 요청한다\n",
    "    response = rq.get(url)\n",
    "    print(f'응답코드 : {response.status_code}')\n",
    "    # 일시적인 오류상태가 아니라면 응답결과를 반환\n",
    "    if response.status_code not in error_code:\n",
    "        return response\n",
    "    \n",
    "    # 일시적인 오류라면 예외를 발생시킨다\n",
    "    raise Exception('요청 오류 발생')"
   ]
  },
  {
   "cell_type": "code",
   "execution_count": 4,
   "metadata": {},
   "outputs": [
    {
     "name": "stdout",
     "output_type": "stream",
     "text": [
      "응답코드 : 502\n",
      "응답코드 : 408\n",
      "응답코드 : 500\n",
      "크롤링 불가 ㅅㄱ\n",
      "응답코드 : 200\n",
      "success\n",
      "크롤링 코드\n"
     ]
    }
   ],
   "source": [
    "while True :\n",
    "    try:\n",
    "        time.sleep(0.1)\n",
    "        # 요청한다\n",
    "        response = fetch('http://httpbin.org/status/200,404,503,408,500,502,504')\n",
    "        # 응답 코드에 따라 분기한다\n",
    "        if 200 <= response.status_code < 300 :\n",
    "            print('success')\n",
    "            print('크롤링 코드')\n",
    "            break\n",
    "        else:\n",
    "            print('크롤링 불가 ㅅㄱ')\n",
    "    except Exception as e:\n",
    "        print(e)\n",
    "        print('일시적 오류 발생')\n",
    "        print('오류가 발생한 주소를 파일에 저장해두세요')"
   ]
  }
 ],
 "metadata": {
  "kernelspec": {
   "display_name": "Python 3",
   "language": "python",
   "name": "python3"
  },
  "language_info": {
   "codemirror_mode": {
    "name": "ipython",
    "version": 3
   },
   "file_extension": ".py",
   "mimetype": "text/x-python",
   "name": "python",
   "nbconvert_exporter": "python",
   "pygments_lexer": "ipython3",
   "version": "3.7.3"
  }
 },
 "nbformat": 4,
 "nbformat_minor": 2
}
