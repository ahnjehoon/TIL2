{
 "cells": [
  {
   "cell_type": "markdown",
   "metadata": {},
   "source": [
    "### 웹 어플리케이션이 Ajax 통신을 이용하는 경우\n",
    "------------------------------------------\n",
    "* 웹 브라우저가 직접 서버에 요청하게 되면 수신받은 응답결과를 브라우저에 직접 처리하려함\n",
    "* 이 때문에 화면이 변경되는 일이 발생\n",
    "* 만약 개발자가 화면 변경없이 서버와 통신하고자 하면 Ajax통신을 활용함(브라우저 화면 변경 안됨)\n",
    "------------------------------------------\n",
    "##### 현재 이 플젝에 대해\n",
    "1. 우클릭시 프레임 소스보기가 없는가\n",
    "2. 페이스 소스보기를 했을때 데이터가 없는가\n",
    "3. 개발자 도구에서 Network 탭의 XHR 영역(Ajax 데이터 통신)에서 페이지를 이용할 떄 마다 통신 기록이 남는가.\n",
    "---\n",
    "* 위의 조건일 경우 Ajax를 사용하고 있는 것이므로 XHR에 나오는 통신 기록이 요청할 주소가 됨"
   ]
  },
  {
   "cell_type": "code",
   "execution_count": 1,
   "metadata": {},
   "outputs": [],
   "source": [
    "import requests as rq\n",
    "import pandas as pd\n",
    "import time\n",
    "import bs4"
   ]
  },
  {
   "cell_type": "code",
   "execution_count": 2,
   "metadata": {},
   "outputs": [],
   "source": [
    "def getDate(date) :\n",
    "    url = f'https://sports.news.naver.com/schedule/scoreBoard.nhn?date={date}&category=kbo'\n",
    "    response = rq.get(url)\n",
    "    soup = bs4.BeautifulSoup(response.text, 'lxml')\n",
    "    # print(soup)\n",
    "    # li 태그들을 가져온다.\n",
    "    li_list = soup.select('ul.tab > li')\n",
    "    # print(li_list)\n",
    "    # li 태그의 수 만큼 반복한다.\n",
    "    date_list = []\n",
    "    for i, v in enumerate(li_list):\n",
    "        if i == 0:\n",
    "            continue\n",
    "        # a 태그 추출\n",
    "        a_tag = v.select('a')[0]\n",
    "        # print(a_tag)\n",
    "        # onclick 속성의 값을 가져옴\n",
    "        onclick = a_tag.attrs['onclick']\n",
    "        #print(onclick)\n",
    "        # 날짜 값 가져옴\n",
    "        date_value = onclick.split(\"'\")[1]\n",
    "        #print(date_value)\n",
    "        date_list.append(date_value)\n",
    "    return date_list[:-1], date_list[-1]"
   ]
  },
  {
   "cell_type": "code",
   "execution_count": 3,
   "metadata": {},
   "outputs": [],
   "source": [
    "# 해당 날짜의 프로야구 데이터를 반환하는 함수\n",
    "def getKBOData(date_list):\n",
    "    url = f'https://sports.news.naver.com/schedule/scoreBoard.nhn?date={date_list}&category=kbo'\n",
    "    response = rq.get(url)\n",
    "    soup = bs4.BeautifulSoup(response.text, 'lxml')\n",
    "    \n",
    "    # 해당  날짜의 경기 데이터를 가지고 있는 ul 태그 추출\n",
    "    todaySchedule = soup.select('#todaySchedule')\n",
    "    \n",
    "    if todaySchedule == 0:\n",
    "        print(f'{now} : 경기 없음')\n",
    "    else:\n",
    "        print(f'{now} : 경기 있음')"
   ]
  },
  {
   "cell_type": "code",
   "execution_count": 4,
   "metadata": {
    "scrolled": true
   },
   "outputs": [
    {
     "name": "stdout",
     "output_type": "stream",
     "text": [
      "20190311 : 경기 있음\n",
      "20190312 : 경기 있음\n",
      "20190313 : 경기 있음\n",
      "20190314 : 경기 있음\n",
      "20190315 : 경기 있음\n",
      "20190316 : 경기 있음\n",
      "20190317 : 경기 있음\n"
     ]
    }
   ],
   "source": [
    "current_date = '20190311'\n",
    "\n",
    "date_list, next_week = getDate(current_date)\n",
    "\n",
    "for now in date_list:\n",
    "    getKBOData(now)"
   ]
  }
 ],
 "metadata": {
  "kernelspec": {
   "display_name": "Python 3",
   "language": "python",
   "name": "python3"
  },
  "language_info": {
   "codemirror_mode": {
    "name": "ipython",
    "version": 3
   },
   "file_extension": ".py",
   "mimetype": "text/x-python",
   "name": "python",
   "nbconvert_exporter": "python",
   "pygments_lexer": "ipython3",
   "version": "3.7.3"
  }
 },
 "nbformat": 4,
 "nbformat_minor": 2
}
