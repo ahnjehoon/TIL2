{
 "cells": [
  {
   "cell_type": "code",
   "execution_count": 1,
   "metadata": {},
   "outputs": [],
   "source": [
    "# robots.txt 파일을 파싱할 수 있는 모듈\n",
    "import urllib.robotparser"
   ]
  },
  {
   "cell_type": "code",
   "execution_count": 2,
   "metadata": {},
   "outputs": [],
   "source": [
    "# robots.txt를 파싱할 수 있는 객체를 생성\n",
    "rp = urllib.robotparser.RobotFileParser()\n",
    "# robots.txt파일의 경로를 설정한다.\n",
    "rp.set_url('https://twitter.com/robots.txt')\n",
    "# 읽어온다.\n",
    "rp.read()"
   ]
  },
  {
   "cell_type": "code",
   "execution_count": 3,
   "metadata": {},
   "outputs": [
    {
     "name": "stdout",
     "output_type": "stream",
     "text": [
      "a1 : False\n"
     ]
    }
   ],
   "source": [
    "# 주소가 허용되는지 확인한다.\n",
    "a1 = rp.can_fetch('*', 'https://twitter.com/search/realtime')\n",
    "print(f'a1 : {a1}')"
   ]
  },
  {
   "cell_type": "code",
   "execution_count": 4,
   "metadata": {},
   "outputs": [
    {
     "name": "stdout",
     "output_type": "stream",
     "text": [
      "a2 : True\n"
     ]
    }
   ],
   "source": [
    "a2 = rp.can_fetch('*', 'https://twitter.com/*?lang=')\n",
    "print(f'a2 : {a2}')"
   ]
  },
  {
   "cell_type": "code",
   "execution_count": 5,
   "metadata": {},
   "outputs": [
    {
     "name": "stdout",
     "output_type": "stream",
     "text": [
      "delay time : None\n"
     ]
    }
   ],
   "source": [
    "# 딜레임 타임 값\n",
    "a3 = rp.crawl_delay('*')\n",
    "print(f'delay time : {a3}')"
   ]
  },
  {
   "cell_type": "code",
   "execution_count": null,
   "metadata": {},
   "outputs": [],
   "source": []
  }
 ],
 "metadata": {
  "kernelspec": {
   "display_name": "Python 3",
   "language": "python",
   "name": "python3"
  },
  "language_info": {
   "codemirror_mode": {
    "name": "ipython",
    "version": 3
   },
   "file_extension": ".py",
   "mimetype": "text/x-python",
   "name": "python",
   "nbconvert_exporter": "python",
   "pygments_lexer": "ipython3",
   "version": "3.6.5"
  }
 },
 "nbformat": 4,
 "nbformat_minor": 2
}
