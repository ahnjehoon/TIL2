{
 "cells": [
  {
   "cell_type": "markdown",
   "metadata": {},
   "source": [
    "# 크롤링 방법1(bs4 + requests)\n",
    "### bs4(BeautifulSoup4)\n",
    "- 파이썬 내장모듈로써 추가설치 필요 없음\n",
    "- HTML 코드를 파이썬에서 사용 가능한 객체로 바꿔줌\n",
    "- 즉 HTML 데이터의 문자열 데이터를 받아 올수있을때만 사용가능\n",
    "- 서버로 부터 받은 데이터만 활용 가능"
   ]
  },
  {
   "cell_type": "code",
   "execution_count": null,
   "metadata": {},
   "outputs": [],
   "source": [
    "import requests as rq\n",
    "import bs4\n",
    "from selenium import webdriver"
   ]
  },
  {
   "cell_type": "code",
   "execution_count": null,
   "metadata": {},
   "outputs": [],
   "source": [
    "# 요청할 주소\n",
    "url = 'http://softcampus.co.kr/test100.jsp'"
   ]
  },
  {
   "cell_type": "code",
   "execution_count": null,
   "metadata": {},
   "outputs": [],
   "source": [
    "# requsets + bs4\n",
    "response = rq.get(url)\n",
    "soup = bs4.BeautifulSoup(response.text, 'lxml')\n",
    "# 서버로 부터 받은 응답결과에는 id가 test인 태그가 없다\n",
    "tag_test = soup.select('#test')\n",
    "print(tag_test)\n",
    "print(response.text)"
   ]
  },
  {
   "cell_type": "code",
   "execution_count": null,
   "metadata": {},
   "outputs": [],
   "source": [
    "# selenium\n",
    "driver = webdriver.Chrome('chromedriver')\n",
    "driver.get(url)\n",
    "\n",
    "test_tag = driver.find_element_by_id('test')\n",
    "#print(test_tag)\n",
    "print(test_tag.text)\n",
    "print(driver.page_source)"
   ]
  },
  {
   "cell_type": "code",
   "execution_count": null,
   "metadata": {},
   "outputs": [],
   "source": [
    "# selenium + bs4\n",
    "driver = webdriver.Chrome('chromedriver')\n",
    "driver.get(url)\n",
    "#body = driver.find_element_by_tag_name('body')\n",
    "#print(body.text)\n",
    "html = driver.page_source\n",
    "soup = bs4.BeautifulSoup(driver.page_source, 'lxml')\n",
    "test_tag = soup.select('#test')[0]\n",
    "print(test_tag.text)"
   ]
  },
  {
   "cell_type": "markdown",
   "metadata": {},
   "source": [
    "# 크롤링 방법2(Selenium)\n",
    "- 웹을 테스팅 하기위해 나온 프레임워크\n",
    "- 단독으로 사용하지 못하고 중간다리역할을 하는 __웹 드라이버__가 필요함\n",
    "- 난 크롬 쓸꺼라서 http://chromedriver.chromium.org/downloads 여기서 받음\n",
    "    * 다운로드 받은 크롬드라이버가 크롬브라우저를 조작함\n",
    "    * 크롬하고 드라이버하고 버전 맞춰야 됨(버전 맞춰 깔아라..)\n",
    "- bs4하고 다른점은 브라우저에서 받은 결과 활용가능"
   ]
  },
  {
   "cell_type": "raw",
   "metadata": {},
   "source": [
    "# 이거 하면 정지당한다... 하지말자...\n",
    "# selenium 설치\n",
    "# 아나콘다 설치시 안해도됨\n",
    "# !pip install selenium\n",
    "\n",
    "from selenium import webdriver\n",
    "from selenium.webdriver.support.ui import Select\n",
    "\n",
    "# 웹 드라이브 가동\n",
    "driver = webdriver.Chrome('chromedriver')\n",
    "\n",
    "# 구글 요청\n",
    "#driver.get('https://google.com')\n",
    "\n",
    "# 네이버 요청\n",
    "driver.get('https://www.naver.com')\n",
    "\n",
    "# join_button = driver.find_element_by_css_selector('#account > div > div > a')\n",
    "join_button.click()\n",
    "\n",
    "# 동의 창\n",
    "# 전체 동의\n",
    "driver.find_element_by_css_selector('#join_form > div.terms_p > p > span > label').click()\n",
    "# 선택적 동의1\n",
    "driver.find_element_by_css_selector('#join_form > div.terms_p > ul > li:nth-child(3) > span > label').click()\n",
    "# 선택적 동의2\n",
    "driver.find_element_by_css_selector('#join_form > div.terms_p > ul > li:nth-child(4) > span > label').click()\n",
    "# 동의 회원가입 창으로 ㄱㄱ\n",
    "driver.find_element_by_css_selector('#btnAgree').click()\n",
    "\n",
    "# 회원가입 창\n",
    "# id 입력\n",
    "driver.find_element_by_css_selector('#id').send_keys('boninfa12f')\n",
    "# 비밀번호 입력\n",
    "driver.find_element_by_css_selector('#pswd1').send_keys('asdofiur@!1')\n",
    "# 비밀번호 확인\n",
    "driver.find_element_by_css_selector('#pswd2').send_keys('asdofiur@!1')\n",
    "# 이름 입력\n",
    "driver.find_element_by_css_selector('#name').send_keys('안제훈')\n",
    "\n",
    "# 생년월일\n",
    "driver.find_element_by_css_selector('#yy').send_keys('1993')\n",
    "Select(driver.find_element_by_css_selector('#mm')).select_by_value('01')\n",
    "driver.find_element_by_css_selector('#dd').send_keys('16')\n",
    "\n",
    "Select(driver.find_element_by_css_selector('#gender')).select_by_value('0')\n",
    "\n",
    "driver.find_element_by_css_selector('#email').send_keys('ahnjehoon@naver.com')\n",
    "\n",
    "driver.find_element_by_css_selector('#phoneNo').send_keys('01091594775')\n",
    "\n",
    "#driver.find_element_by_css_selector('#btnSend').click()"
   ]
  },
  {
   "cell_type": "code",
   "execution_count": null,
   "metadata": {},
   "outputs": [],
   "source": []
  }
 ],
 "metadata": {
  "kernelspec": {
   "display_name": "Python 3",
   "language": "python",
   "name": "python3"
  },
  "language_info": {
   "codemirror_mode": {
    "name": "ipython",
    "version": 3
   },
   "file_extension": ".py",
   "mimetype": "text/x-python",
   "name": "python",
   "nbconvert_exporter": "python",
   "pygments_lexer": "ipython3",
   "version": "3.6.5"
  }
 },
 "nbformat": 4,
 "nbformat_minor": 2
}
