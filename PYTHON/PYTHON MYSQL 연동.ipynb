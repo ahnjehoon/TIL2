{
 "cells": [
  {
   "cell_type": "raw",
   "metadata": {},
   "source": [
    "!pip install PyMySQL"
   ]
  },
  {
   "cell_type": "code",
   "execution_count": 1,
   "metadata": {},
   "outputs": [],
   "source": [
    "import pymysql"
   ]
  },
  {
   "cell_type": "code",
   "execution_count": 5,
   "metadata": {},
   "outputs": [],
   "source": [
    "# MySQL Connection 연결\n",
    "conn = pymysql.connect(host='70.12.112.184', user='root', password='1111', db='product_predict', charset='utf8')"
   ]
  },
  {
   "cell_type": "code",
   "execution_count": 6,
   "metadata": {},
   "outputs": [],
   "source": [
    "# Connection 으로부터 Dictoionary Cursor 생성\n",
    "curs = conn.cursor(pymysql.cursors.DictCursor)"
   ]
  },
  {
   "cell_type": "code",
   "execution_count": 7,
   "metadata": {},
   "outputs": [
    {
     "data": {
      "text/plain": [
       "6"
      ]
     },
     "execution_count": 7,
     "metadata": {},
     "output_type": "execute_result"
    }
   ],
   "source": [
    "# SQL문 실행\n",
    "sql = \"select * from test_table\"\n",
    "#curs.execute(sql, (1, '서울'))\n",
    "curs.execute(sql)"
   ]
  },
  {
   "cell_type": "code",
   "execution_count": 8,
   "metadata": {
    "scrolled": true
   },
   "outputs": [
    {
     "name": "stdout",
     "output_type": "stream",
     "text": [
      "{'col1': 1, 'col2': 'test1', 'col3': 'test2', 'col4': 'test3'}\n",
      "{'col1': 2, 'col2': 'test1', 'col3': 'test2', 'col4': 'test3'}\n",
      "{'col1': 3, 'col2': 'test1', 'col3': 'test2', 'col4': 'test3'}\n",
      "{'col1': 4, 'col2': 'test1', 'col3': 'test2', 'col4': 'test3'}\n",
      "{'col1': 5, 'col2': 'test1', 'col3': 'test2', 'col4': 'test3'}\n",
      "{'col1': 6, 'col2': 'test1', 'col3': 'test2', 'col4': 'test3'}\n"
     ]
    }
   ],
   "source": [
    "rows = curs.fetchall()\n",
    "for row in rows:\n",
    "    print(row)\n"
   ]
  },
  {
   "cell_type": "code",
   "execution_count": 9,
   "metadata": {},
   "outputs": [],
   "source": [
    "# Connection 닫기\n",
    "conn.close()"
   ]
  },
  {
   "cell_type": "code",
   "execution_count": null,
   "metadata": {},
   "outputs": [],
   "source": []
  }
 ],
 "metadata": {
  "kernelspec": {
   "display_name": "Python 3",
   "language": "python",
   "name": "python3"
  },
  "language_info": {
   "codemirror_mode": {
    "name": "ipython",
    "version": 3
   },
   "file_extension": ".py",
   "mimetype": "text/x-python",
   "name": "python",
   "nbconvert_exporter": "python",
   "pygments_lexer": "ipython3",
   "version": "3.7.3"
  }
 },
 "nbformat": 4,
 "nbformat_minor": 2
}
