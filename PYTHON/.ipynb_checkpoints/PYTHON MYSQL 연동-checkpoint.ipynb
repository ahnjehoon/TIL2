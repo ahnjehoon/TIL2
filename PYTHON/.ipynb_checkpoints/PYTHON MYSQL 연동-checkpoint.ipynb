{
 "cells": [
  {
   "cell_type": "code",
   "execution_count": null,
   "metadata": {},
   "outputs": [],
   "source": [
    "!pip install PyMySQL"
   ]
  },
  {
   "cell_type": "code",
   "execution_count": null,
   "metadata": {},
   "outputs": [],
   "source": [
    "import pymysql\n",
    " \n",
    "# MySQL Connection 연결\n",
    "conn = pymysql.connect(host='localhost', user='tester', password='7890',\n",
    "                       db='testdb', charset='utf8')\n",
    " \n",
    "# Connection 으로부터 Dictoionary Cursor 생성\n",
    "curs = conn.cursor(pymysql.cursors.DictCursor)\n",
    " \n",
    "# SQL문 실행\n",
    "sql = \"select * from customer where category=%s and region=%s\"\n",
    "curs.execute(sql, (1, '서울'))\n",
    " \n",
    "# 데이타 Fetch\n",
    "rows = curs.fetchall()\n",
    "for row in rows:\n",
    "    print(row)\n",
    "    # 출력 : {'category': 1, 'id': 1, 'region': '서울', 'name': '김정수'}\n",
    "    print(row['id'], row['name'], row['region'])\n",
    "    # 1 김정수 서울\n",
    " \n",
    "# Connection 닫기\n",
    "conn.close()"
   ]
  },
  {
   "cell_type": "code",
   "execution_count": null,
   "metadata": {},
   "outputs": [],
   "source": []
  },
  {
   "cell_type": "code",
   "execution_count": null,
   "metadata": {},
   "outputs": [],
   "source": []
  },
  {
   "cell_type": "code",
   "execution_count": null,
   "metadata": {},
   "outputs": [],
   "source": []
  }
 ],
 "metadata": {
  "kernelspec": {
   "display_name": "Python 3",
   "language": "python",
   "name": "python3"
  },
  "language_info": {
   "codemirror_mode": {
    "name": "ipython",
    "version": 3
   },
   "file_extension": ".py",
   "mimetype": "text/x-python",
   "name": "python",
   "nbconvert_exporter": "python",
   "pygments_lexer": "ipython3",
   "version": "3.7.3"
  }
 },
 "nbformat": 4,
 "nbformat_minor": 2
}
