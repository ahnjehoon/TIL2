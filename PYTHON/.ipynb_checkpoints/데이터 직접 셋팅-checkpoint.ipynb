{
 "cells": [
  {
   "cell_type": "code",
   "execution_count": 1,
   "metadata": {},
   "outputs": [],
   "source": [
    "import surprise as sp\n",
    "import pandas as pd"
   ]
  },
  {
   "cell_type": "code",
   "execution_count": 2,
   "metadata": {},
   "outputs": [],
   "source": [
    "# 데이터\n",
    "user_name_list = ('홍길동', '김길동', '최길동','박길동', '이길동', '황길동')\n",
    "item_name_list = ('아이폰', '갤럭시S', 'G8', '픽셀', '파워맥스'\n",
    "                  , '홍미노트', '갤럭시A', '갤럭시J', '갤럭시F')\n",
    "\n",
    "rating_data = (\n",
    "    (1, 1, 5.), (1, 2, 4.5), (1, 3, 3.), (1, 6, 2.),\n",
    "    (2, 1, 5.), (2, 2, 3.) , (2, 7, 5.), \n",
    "    (3, 1, 4.), (3, 2, 4.) , (3, 6, 1.), (3, 8, 3.),\n",
    "    (4, 1, 1.), (4, 2, 1.) , (3, 6, 5.),\n",
    "    (5, 1, 1.)\n",
    ")"
   ]
  },
  {
   "cell_type": "code",
   "execution_count": 3,
   "metadata": {},
   "outputs": [],
   "source": [
    "# surprise 위해서 데이터를 구성\n",
    "rating_dic = {\n",
    "     'user_id' : []\n",
    "    ,'item_id' : []\n",
    "    ,'rating' : []\n",
    "}\n",
    "\n",
    "for user_data in rating_data:\n",
    "    rating_dic['user_id'].append(user_data[0])\n",
    "    rating_dic['item_id'].append(user_data[1])\n",
    "    rating_dic['rating'].append(user_data[2])\n",
    "\n",
    "df = pd.DataFrame(rating_dic)\n"
   ]
  },
  {
   "cell_type": "code",
   "execution_count": 4,
   "metadata": {},
   "outputs": [],
   "source": [
    "# rating_scale : 평점 범위\n",
    "reader = sp.Reader(rating_scale=(0., 5.))\n",
    "col_list = ['user_id', 'item_id', 'rating']\n",
    "# user_id => user, item_id => item, rating => rate\n",
    "data = sp.Dataset.load_from_df(df[col_list], reader)"
   ]
  },
  {
   "cell_type": "code",
   "execution_count": 5,
   "metadata": {},
   "outputs": [
    {
     "name": "stdout",
     "output_type": "stream",
     "text": [
      "Computing the pearson similarity matrix...\n",
      "Done computing similarity matrix.\n"
     ]
    },
    {
     "data": {
      "text/plain": [
       "<surprise.prediction_algorithms.knns.KNNBasic at 0x47b4518>"
      ]
     },
     "execution_count": 5,
     "metadata": {},
     "output_type": "execute_result"
    }
   ],
   "source": [
    "# 학습한다\n",
    "trainset = data.build_full_trainset()\n",
    "option = {'name' : 'pearson'}\n",
    "model = sp.KNNBasic(sim_options=option)\n",
    "model.fit(trainset)"
   ]
  },
  {
   "cell_type": "code",
   "execution_count": 6,
   "metadata": {},
   "outputs": [
    {
     "name": "stdout",
     "output_type": "stream",
     "text": [
      "아이폰\n",
      "갤럭시S\n",
      "G8\n",
      "픽셀\n"
     ]
    }
   ],
   "source": [
    "# 3개 추천\n",
    "result = model.get_neighbors(4, k=4)\n",
    "for r1 in result:\n",
    "    print(f'{item_name_list[r1]}')"
   ]
  }
 ],
 "metadata": {
  "kernelspec": {
   "display_name": "Python 3",
   "language": "python",
   "name": "python3"
  },
  "language_info": {
   "codemirror_mode": {
    "name": "ipython",
    "version": 3
   },
   "file_extension": ".py",
   "mimetype": "text/x-python",
   "name": "python",
   "nbconvert_exporter": "python",
   "pygments_lexer": "ipython3",
   "version": "3.6.5"
  }
 },
 "nbformat": 4,
 "nbformat_minor": 2
}
