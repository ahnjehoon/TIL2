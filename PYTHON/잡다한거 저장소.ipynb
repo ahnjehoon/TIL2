{
 "cells": [
  {
   "cell_type": "markdown",
   "metadata": {},
   "source": [
    "상세한건 DOCUMENT를 보자"
   ]
  },
  {
   "cell_type": "markdown",
   "metadata": {},
   "source": [
    "- 파이썬에서 변수에 변수를 넣게?되면 메모리를 공유하는 ShallowCopy가 일어남\n",
    "  <br>ex) val2 = val1\n",
    "- df2 = df.copy() 하면됨"
   ]
  },
  {
   "cell_type": "code",
   "execution_count": null,
   "metadata": {},
   "outputs": [],
   "source": []
  },
  {
   "cell_type": "markdown",
   "metadata": {},
   "source": [
    "### 파일 읽기\n",
    "\n",
    "```python\n",
    "with open(\"C:/open_data_key.txt\", 'r', encoding='utf-8') as f:\n",
    "    ServiceKey = f.read()\n",
    "# 여러줄일 때\n",
    "with open(\"C:/content.txt\", 'r', encoding='utf-8') as f:\n",
    "    content = f.readlines()\n",
    "```"
   ]
  },
  {
   "cell_type": "markdown",
   "metadata": {},
   "source": [
    "### 특수문자 제거\n",
    "```python\n",
    "content = [x.strip() for x in content]\n",
    "# space로 구분되있는거 배열로 만들기\n",
    "content = [x.split(' ') for x in content]\n",
    "```"
   ]
  },
  {
   "cell_type": "markdown",
   "metadata": {},
   "source": [
    "### print 시 공백없이 출력하는 방법\n",
    "- sep='' 를 뒤에 추가해주면 됨\n",
    "```python\n",
    "for x in content:\n",
    "    print(\"test\",x[0],\"'ㅇㅇ'\", x[1], sep='')\n",
    "```"
   ]
  },
  {
   "cell_type": "markdown",
   "metadata": {},
   "source": [
    "### 문자열 합치기\n",
    "```python\n",
    "output = []\n",
    "for x in content:\n",
    "    temp = \"data.find_all('\"+x[0]+\"')[0]      #\"+x[1]\n",
    "    output.append(temp)\n",
    "```"
   ]
  },
  {
   "cell_type": "markdown",
   "metadata": {},
   "source": [
    "### for문에서 key, value 값으로 나누기\n",
    "```python\n",
    "for k, v in enumerate(output):\n",
    "    print(k, v)\n",
    "```"
   ]
  },
  {
   "cell_type": "markdown",
   "metadata": {},
   "source": [
    "# OS\n",
    "`import os` 해서 씀"
   ]
  },
  {
   "cell_type": "markdown",
   "metadata": {},
   "source": [
    "### 디렉토리 생성\n",
    "```python\n",
    "dir_path = \"폴더를 생성하고 싶은 경로\"\n",
    "dir_name = \"폴더 이름\n",
    "os.mkdir(dir_path + \"/\" + dir_name + \"/\")\n",
    "```"
   ]
  },
  {
   "cell_type": "markdown",
   "metadata": {},
   "source": [
    "# requests"
   ]
  },
  {
   "cell_type": "markdown",
   "metadata": {},
   "source": [
    "### URL Encode 방지\n",
    "- requests 모듈 이용시 %가 %25로 인코딩되서 씀\n",
    "\n",
    "```python\n",
    "params = \"&\".join(\"%s=%s\" % (k,v) for k,v in params.items())\n",
    "data = requests.get(url, params)\n",
    "```"
   ]
  },
  {
   "cell_type": "markdown",
   "metadata": {},
   "source": [
    "# numpy"
   ]
  },
  {
   "cell_type": "markdown",
   "metadata": {},
   "source": [
    "### 각 행과 열을 바꿔버리는 방법\n",
    "- loadtxt의 unpack 매개변수와 transpose는 각 행을 열로 바꾸어버림\n",
    "\n",
    "```python\n",
    "data = np.loadtxt('./data.csv'\n",
    "                  ,delimiter=','\n",
    "                  ,uppack=True\n",
    "                  ,dtype='float32'\n",
    "                 )\n",
    "transpose_data = np.transpose(data)\n",
    "```\n",
    "\n",
    "### 행과 열 합치는 방법\n",
    "- 기본 데이터 셋\n",
    "\n",
    "```python\n",
    "x = np.array([[1.0,2.0],[3.0,4.0]])\n",
    "y = np.array([[5.0,6.0],[7.0,8.0]])\n",
    "```\n",
    "- 행 합치는 방법 axis = 0\n",
    "\n",
    "```python\n",
    "print(np.concatenate((x,y),axis = 0))\n",
    "# 결과\n",
    "[[1. 2.]\n",
    " [3. 4.]\n",
    " [5. 6.]\n",
    " [7. 8.]]\n",
    "```\n",
    "- 열 합치는 방법 axis = 1\n",
    "\n",
    "```python\n",
    "print(np.concatenate((x,y),axis = 1))\n",
    "# 결과\n",
    "[[1. 2. 5. 6.]\n",
    " [3. 4. 7. 8.]]\n",
    "```"
   ]
  },
  {
   "cell_type": "markdown",
   "metadata": {},
   "source": [
    "### 로그스케일링\n",
    "- log는 exp의 역함수(곱셈의 역함수는 나눗셈)\n",
    "- 0의 로그 마이너스 무한대. 음수는 없다\n",
    "- 위의 이유로 인해 0이 있다면 오류가 생기기 때문에 로그스케일링할때 +1을 해줌\n",
    "- numpy에서는 알아서 잘 해주는듯\n",
    "```python\n",
    "np.log1p(200000)\n",
    "np.expm1(12.206077645517674)\n",
    "```"
   ]
  },
  {
   "cell_type": "code",
   "execution_count": null,
   "metadata": {},
   "outputs": [],
   "source": []
  },
  {
   "cell_type": "markdown",
   "metadata": {},
   "source": [
    "# sklearn"
   ]
  },
  {
   "cell_type": "markdown",
   "metadata": {},
   "source": [
    "### train_set test_set 나누는 방법\n",
    "- train 70%, test 30%\n",
    "\n",
    "```python\n",
    "from sklearn.model_selection import train_test_split\n",
    "x_train, x_test, y_train, y_test = train_test_split(x, y, test_size=0.3, random_state=2019)\n",
    "```"
   ]
  },
  {
   "cell_type": "markdown",
   "metadata": {},
   "source": [
    "### One Hot Encoding\n",
    "```python\n",
    "from sklearn.preprocessing import LabelEncoder\n",
    "from sklearn.preprocessing import OneHotEncoder\n",
    "# integer encode\n",
    "label_encoder = LabelEncoder()\n",
    "integer_encoded = label_encoder.fit_transform(data)\n",
    "print(integer_encoded)\n",
    "# binary encode\n",
    "onehot_encoder = OneHotEncoder(sparse=False)\n",
    "integer_encoded = integer_encoded.reshape(len(integer_encoded), 1)\n",
    "onehot_encoded = onehot_encoder.fit_transform(integer_encoded)\n",
    "print(onehot_encoded)\n",
    "```"
   ]
  },
  {
   "cell_type": "markdown",
   "metadata": {},
   "source": [
    "# pandas\n",
    "```python\n",
    "import pandas as pd\n",
    "```\n",
    "\n",
    "### dataframe 잘릴때 여러개 보고싶은 경우\n",
    "```pd.set_option('display.max_columns', 30)```\n",
    "\n",
    "### loc iloc 차이\n",
    "- .iloc\n",
    "<br>integer positon를 통해 값을 찾을 수 있다. label로는 찾을 수 없다\n",
    "- .loc\n",
    "<br>label 을 통해 값을 찾을 수 있다. integer position로는 찾을 수 없다.\n"
   ]
  },
  {
   "cell_type": "markdown",
   "metadata": {},
   "source": [
    "### 중복제거한 항목을 보고 싶을 때 drop_duplicates()\n",
    "```python\n",
    "df[['col1','col2']].drop_duplicates()\n",
    "```"
   ]
  },
  {
   "cell_type": "markdown",
   "metadata": {},
   "source": [
    "### 컬럼별 상태 보고 싶을때\n",
    "- df.dtypes"
   ]
  },
  {
   "cell_type": "markdown",
   "metadata": {},
   "source": [
    "### 특정컬럼 형태 변환\n",
    "- dataframe to (int or str)\n",
    "\n",
    "```python\n",
    "df['col1'] = df['col1'].apply(int)\n",
    "df['col2'] = df['col2'].apply(str)\n",
    "```"
   ]
  },
  {
   "cell_type": "markdown",
   "metadata": {},
   "source": [
    "### 검색하기\n",
    "```python\n",
    "df[(df['col1']==search_condition1) & (df['col2']==search_condition2)]\n",
    "```"
   ]
  },
  {
   "cell_type": "code",
   "execution_count": null,
   "metadata": {},
   "outputs": [],
   "source": []
  }
 ],
 "metadata": {
  "kernelspec": {
   "display_name": "Python 3",
   "language": "python",
   "name": "python3"
  },
  "language_info": {
   "codemirror_mode": {
    "name": "ipython",
    "version": 3
   },
   "file_extension": ".py",
   "mimetype": "text/x-python",
   "name": "python",
   "nbconvert_exporter": "python",
   "pygments_lexer": "ipython3",
   "version": "3.7.3"
  }
 },
 "nbformat": 4,
 "nbformat_minor": 2
}
