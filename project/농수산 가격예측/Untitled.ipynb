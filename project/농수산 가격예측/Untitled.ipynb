{
 "cells": [
  {
   "cell_type": "markdown",
   "metadata": {},
   "source": [
    "- aucsecode 경매구분코드\n",
    "- aucsenm 경매구분코드명\n",
    "- catgorycode 구부류코드\n",
    "  거래되는 농축수산물 부류코드<br>\n",
    "  행정표준코드 사용 : 2013년 농축수산물 표준코드(부류코드)\n",
    "\n",
    "- catgorynewcode>10</catgorynewcode>\n",
    "- catgorynewnm>엽경채류</catgorynewnm>\n",
    "- catgorynm>엽경채류</catgorynm>\n",
    "- cprinsttcode>21000101</cprinsttcode>\n",
    "- cprinsttnewcode>6046902</cprinsttnewcode>\n",
    "- cprmtccode>678890</cprmtccode>\n",
    "- cpruseprdlstcode>3408</cpruseprdlstcode>\n",
    "- cpruseprdlstnm>배추</cpruseprdlstnm>\n",
    "- delngde>20190416</delngde>\n",
    "- delngprut>2</delngprut>\n",
    "- delngqy>40</delngqy>\n",
    "- insttnewnm>농협부산(공)</insttnewnm>\n",
    "- insttnm>농협부산(공)</insttnm>\n",
    "- ledgno>000000000001538</ledgno>\n",
    "- rnum>1</rnum>\n",
    "- sbidpric>5500</sbidpric>\n",
    "- shipmntsecode>2</shipmntsecode>\n",
    "- shipmntsenm>계통</shipmntsenm>\n",
    "- sleseqn>00010</sleseqn>\n",
    "- stdfrmlcnewcode>101</stdfrmlcnewcode>\n",
    "- stdfrmlcnewnm>상자</stdfrmlcnewnm>\n",
    "- stdmgnewcode>1ZZ</stdmgnewcode>\n",
    "- stdmgnewnm>기타</stdmgnewnm>\n",
    "- stdmtcnewcode>50200</stdmtcnewcode>\n",
    "- stdmtcnewnm>경상남도 합천군</stdmtcnewnm>\n",
    "- stdprdlstcode>1001</stdprdlstcode>\n",
    "- stdprdlstnewcode>1001</stdprdlstnewcode>\n",
    "- stdprdlstnewnm>배추</stdprdlstnewnm>\n",
    "- stdprdlstnm>배추</stdprdlstnm>\n",
    "- stdqlitynewcode>12</stdqlitynewcode>\n",
    "- stdqlitynewnm>상</stdqlitynewnm>\n",
    "- stdspciescode>100108</stdspciescode>\n",
    "- stdspciesnewcode>100108</stdspciesnewcode>\n",
    "- stdspciesnewnm>쌈(알배기)배추</stdspciesnewnm>\n",
    "- stdspciesnm>쌈배추</stdspciesnm>\n",
    "- stdunitnewcode>12</stdunitnewcode>\n",
    "- stdunitnewnm>kg</stdunitnewnm>\n",
    "- whsalmrktcode>210001</whsalmrktcode>\n",
    "- whsalmrktnewcode>1046901</whsalmrktnewcode>\n",
    "- whsalmrktnewnm>부산엄궁농산물도매시장</whsalmrktnewnm>\n",
    "- whsalmrktnm>부산엄궁도매시장</whsalmrktnm>"
   ]
  },
  {
   "cell_type": "code",
   "execution_count": null,
   "metadata": {},
   "outputs": [],
   "source": []
  },
  {
   "cell_type": "markdown",
   "metadata": {},
   "source": [
    "- aucsecode : 경매 구분 코드\n",
    "- aucSeNm\t경매구분코드명\n",
    "- whsalMrktNewCode\t시장코드\n",
    "- whsalMrktNewNm\t시장명\n"
   ]
  },
  {
   "cell_type": "code",
   "execution_count": 1,
   "metadata": {},
   "outputs": [],
   "source": [
    "import requests as rq\n",
    "import pandas as pd\n",
    "import json\n",
    "import bs4\n",
    "import re"
   ]
  },
  {
   "cell_type": "code",
   "execution_count": 2,
   "metadata": {},
   "outputs": [],
   "source": [
    "with open(\"C:/open_data_key.txt\", 'r', encoding='utf-8') as f:\n",
    "    ServiceKey = f.read()"
   ]
  },
  {
   "cell_type": "code",
   "execution_count": 3,
   "metadata": {},
   "outputs": [],
   "source": [
    "def connectionXML(url,params):\n",
    "    response = rq.get(url,params)\n",
    "    soup = bs4.BeautifulSoup(response.text, 'lxml')\n",
    "    return soup"
   ]
  },
  {
   "cell_type": "code",
   "execution_count": 25,
   "metadata": {},
   "outputs": [
    {
     "data": {
      "text/plain": [
       "'경매'"
      ]
     },
     "execution_count": 25,
     "metadata": {},
     "output_type": "execute_result"
    }
   ],
   "source": [
    "data.find_all('aucsenm')[0].text.strip()"
   ]
  },
  {
   "cell_type": "code",
   "execution_count": 26,
   "metadata": {},
   "outputs": [
    {
     "name": "stdout",
     "output_type": "stream",
     "text": [
      "<?xml version=\"1.0\" encoding=\"UTF-8\" standalone=\"yes\"?><html><body><response><header><resultcode>00</resultcode><resultmsg>NORMAL SERVICE.</resultmsg></header><items><item><aucsecode>1</aucsecode><aucsenm>경매</aucsenm><catgorycode>10</catgorycode><catgorynewcode>10</catgorynewcode><catgorynewnm>엽경채류</catgorynewnm><catgorynm>엽경채류</catgorynm><cprinsttcode>21000101</cprinsttcode><cprinsttnewcode>6046902</cprinsttnewcode><cprmtccode>678890</cprmtccode><cpruseprdlstcode>3408</cpruseprdlstcode><cpruseprdlstnm>배추</cpruseprdlstnm><delngde>20190416</delngde><delngprut>2</delngprut><delngqy>40</delngqy><insttnewnm>농협부산(공)</insttnewnm><insttnm>농협부산(공)</insttnm><ledgno>000000000001538</ledgno><rnum>1</rnum><sbidpric>5500</sbidpric><shipmntsecode>2</shipmntsecode><shipmntsenm>계통</shipmntsenm><sleseqn>00010</sleseqn><stdfrmlcnewcode>101</stdfrmlcnewcode><stdfrmlcnewnm>상자</stdfrmlcnewnm><stdmgnewcode>1ZZ</stdmgnewcode><stdmgnewnm>기타</stdmgnewnm><stdmtcnewcode>50200</stdmtcnewcode><stdmtcnewnm>경상남도 합천군</stdmtcnewnm><stdprdlstcode>1001</stdprdlstcode><stdprdlstnewcode>1001</stdprdlstnewcode><stdprdlstnewnm>배추</stdprdlstnewnm><stdprdlstnm>배추</stdprdlstnm><stdqlitynewcode>12</stdqlitynewcode><stdqlitynewnm>상</stdqlitynewnm><stdspciescode>100108</stdspciescode><stdspciesnewcode>100108</stdspciesnewcode><stdspciesnewnm>쌈(알배기)배추</stdspciesnewnm><stdspciesnm>쌈배추</stdspciesnm><stdunitnewcode>12</stdunitnewcode><stdunitnewnm>kg</stdunitnewnm><whsalmrktcode>210001</whsalmrktcode><whsalmrktnewcode>1046901</whsalmrktnewcode><whsalmrktnewnm>부산엄궁농산물도매시장</whsalmrktnewnm><whsalmrktnm>부산엄궁도매시장</whsalmrktnm></item><item><aucsecode>1</aucsecode><aucsenm>경매</aucsenm><catgorycode>10</catgorycode><catgorynewcode>10</catgorynewcode><catgorynewnm>엽경채류</catgorynewnm><catgorynm>엽경채류</catgorynm><cprinsttcode>21000101</cprinsttcode><cprinsttnewcode>6046902</cprinsttnewcode><cprmtccode>678890</cprmtccode><cpruseprdlstcode>3408</cpruseprdlstcode><cpruseprdlstnm>배추</cpruseprdlstnm><delngde>20190416</delngde><delngprut>2</delngprut><delngqy>40</delngqy><insttnewnm>농협부산(공)</insttnewnm><insttnm>농협부산(공)</insttnm><ledgno>000000000001538</ledgno><rnum>2</rnum><sbidpric>5500</sbidpric><shipmntsecode>2</shipmntsecode><shipmntsenm>계통</shipmntsenm><sleseqn>00020</sleseqn><stdfrmlcnewcode>101</stdfrmlcnewcode><stdfrmlcnewnm>상자</stdfrmlcnewnm><stdmgnewcode>1ZZ</stdmgnewcode><stdmgnewnm>기타</stdmgnewnm><stdmtcnewcode>50200</stdmtcnewcode><stdmtcnewnm>경상남도 합천군</stdmtcnewnm><stdprdlstcode>1001</stdprdlstcode><stdprdlstnewcode>1001</stdprdlstnewcode><stdprdlstnewnm>배추</stdprdlstnewnm><stdprdlstnm>배추</stdprdlstnm><stdqlitynewcode>12</stdqlitynewcode><stdqlitynewnm>상</stdqlitynewnm><stdspciescode>100108</stdspciescode><stdspciesnewcode>100108</stdspciesnewcode><stdspciesnewnm>쌈(알배기)배추</stdspciesnewnm><stdspciesnm>쌈배추</stdspciesnm><stdunitnewcode>12</stdunitnewcode><stdunitnewnm>kg</stdunitnewnm><whsalmrktcode>210001</whsalmrktcode><whsalmrktnewcode>1046901</whsalmrktnewcode><whsalmrktnewnm>부산엄궁농산물도매시장</whsalmrktnewnm><whsalmrktnm>부산엄궁도매시장</whsalmrktnm></item></items><numofrows>2</numofrows><pageno>1</pageno><totalcount>612</totalcount></response></body></html>\n"
     ]
    }
   ],
   "source": [
    "print(data)"
   ]
  },
  {
   "cell_type": "code",
   "execution_count": 4,
   "metadata": {},
   "outputs": [],
   "source": [
    "def getDataXml(result_xml):\n",
    "    # 데이터를 담을 딕셔너리\n",
    "    data_dic = {\n",
    "        'name' : []\n",
    "        ,'vicinity' : []\n",
    "        ,'lat' : []\n",
    "        ,'lng' : []\n",
    "    }\n",
    "    result_list = result_xml.find_all('result')\n",
    "    # 태그의 수만큼 반복한다.\n",
    "    for result_tag in result_list : \n",
    "        name_str = result_tag.find('name').text.strip()\n",
    "        vicinity_str = result_tag.find('vicinity').text.strip()\n",
    "        lat_str = result_tag.find('geometry').find('location').find('lat').text.strip()\n",
    "        lng_str = result_tag.find('geometry').find('location').find('lng').text.strip()\n",
    "        \n",
    "        #print(name_str)\n",
    "        #print(vicinity_str)\n",
    "        #print(lat_str)\n",
    "        #print(lng_str)\n",
    "        #print('----------------------------------')\n",
    "\n",
    "        data_dic['name'].append(name_str)\n",
    "        data_dic['vicinity'].append(vicinity_str)\n",
    "        data_dic['lat'].append(lat_str)\n",
    "        data_dic['lng'].append(lng_str)\n",
    "    \n",
    "    df = pd.DataFrame.from_dict(data_dic)\n",
    "    global check_save\n",
    "    if check_save == False:\n",
    "        check_save = True\n",
    "        df.to_csv('google_xml.csv', index=False, encoding='utf-8-sig')\n",
    "    else:\n",
    "        df.to_csv('google_xml.csv', index=False, encoding='utf-8-sig', mode='a', header=False)\n",
    "        \n",
    "    #return data_dic"
   ]
  },
  {
   "cell_type": "code",
   "execution_count": 13,
   "metadata": {},
   "outputs": [],
   "source": [
    "# 페이지 번호\n",
    "pageNo = 1\n",
    "# 불러올때 출력할 행 수\n",
    "numOfRows = 2\n",
    "# 날짜\n",
    "delngDe = 20190416\n",
    "# 품목 코드\n",
    "prdlstCd = 1001"
   ]
  },
  {
   "cell_type": "code",
   "execution_count": 14,
   "metadata": {},
   "outputs": [],
   "source": [
    "url = 'http://apis.data.go.kr/B552895/openapi/service/OrgPriceAuctionService/getExactProdPriceList'\n",
    "params = {\n",
    "     'ServiceKey': ServiceKey  \n",
    "    ,'pageNo': pageNo\n",
    "    ,'numOfRows': numOfRows\n",
    "    ,'delngDe': delngDe\n",
    "    ,'prdlstCd': prdlstCd\n",
    "}\n",
    "# URL encode 방지\n",
    "# requests 모듈 이용시 %가 %25로 인코딩되서 씀\n",
    "params = \"&\".join(\"%s=%s\" % (k,v) for k,v in params.items())\n",
    "data = connectionXML(url, params)"
   ]
  },
  {
   "cell_type": "code",
   "execution_count": 15,
   "metadata": {},
   "outputs": [
    {
     "data": {
      "text/plain": [
       "<?xml version=\"1.0\" encoding=\"UTF-8\" standalone=\"yes\"?><html><body><response><header><resultcode>00</resultcode><resultmsg>NORMAL SERVICE.</resultmsg></header><items><item><aucsecode>1</aucsecode><aucsenm>경매</aucsenm><catgorycode>10</catgorycode><catgorynewcode>10</catgorynewcode><catgorynewnm>엽경채류</catgorynewnm><catgorynm>엽경채류</catgorynm><cprinsttcode>21000101</cprinsttcode><cprinsttnewcode>6046902</cprinsttnewcode><cprmtccode>678890</cprmtccode><cpruseprdlstcode>3408</cpruseprdlstcode><cpruseprdlstnm>배추</cpruseprdlstnm><delngde>20190416</delngde><delngprut>2</delngprut><delngqy>40</delngqy><insttnewnm>농협부산(공)</insttnewnm><insttnm>농협부산(공)</insttnm><ledgno>000000000001538</ledgno><rnum>1</rnum><sbidpric>5500</sbidpric><shipmntsecode>2</shipmntsecode><shipmntsenm>계통</shipmntsenm><sleseqn>00010</sleseqn><stdfrmlcnewcode>101</stdfrmlcnewcode><stdfrmlcnewnm>상자</stdfrmlcnewnm><stdmgnewcode>1ZZ</stdmgnewcode><stdmgnewnm>기타</stdmgnewnm><stdmtcnewcode>50200</stdmtcnewcode><stdmtcnewnm>경상남도 합천군</stdmtcnewnm><stdprdlstcode>1001</stdprdlstcode><stdprdlstnewcode>1001</stdprdlstnewcode><stdprdlstnewnm>배추</stdprdlstnewnm><stdprdlstnm>배추</stdprdlstnm><stdqlitynewcode>12</stdqlitynewcode><stdqlitynewnm>상</stdqlitynewnm><stdspciescode>100108</stdspciescode><stdspciesnewcode>100108</stdspciesnewcode><stdspciesnewnm>쌈(알배기)배추</stdspciesnewnm><stdspciesnm>쌈배추</stdspciesnm><stdunitnewcode>12</stdunitnewcode><stdunitnewnm>kg</stdunitnewnm><whsalmrktcode>210001</whsalmrktcode><whsalmrktnewcode>1046901</whsalmrktnewcode><whsalmrktnewnm>부산엄궁농산물도매시장</whsalmrktnewnm><whsalmrktnm>부산엄궁도매시장</whsalmrktnm></item><item><aucsecode>1</aucsecode><aucsenm>경매</aucsenm><catgorycode>10</catgorycode><catgorynewcode>10</catgorynewcode><catgorynewnm>엽경채류</catgorynewnm><catgorynm>엽경채류</catgorynm><cprinsttcode>21000101</cprinsttcode><cprinsttnewcode>6046902</cprinsttnewcode><cprmtccode>678890</cprmtccode><cpruseprdlstcode>3408</cpruseprdlstcode><cpruseprdlstnm>배추</cpruseprdlstnm><delngde>20190416</delngde><delngprut>2</delngprut><delngqy>40</delngqy><insttnewnm>농협부산(공)</insttnewnm><insttnm>농협부산(공)</insttnm><ledgno>000000000001538</ledgno><rnum>2</rnum><sbidpric>5500</sbidpric><shipmntsecode>2</shipmntsecode><shipmntsenm>계통</shipmntsenm><sleseqn>00020</sleseqn><stdfrmlcnewcode>101</stdfrmlcnewcode><stdfrmlcnewnm>상자</stdfrmlcnewnm><stdmgnewcode>1ZZ</stdmgnewcode><stdmgnewnm>기타</stdmgnewnm><stdmtcnewcode>50200</stdmtcnewcode><stdmtcnewnm>경상남도 합천군</stdmtcnewnm><stdprdlstcode>1001</stdprdlstcode><stdprdlstnewcode>1001</stdprdlstnewcode><stdprdlstnewnm>배추</stdprdlstnewnm><stdprdlstnm>배추</stdprdlstnm><stdqlitynewcode>12</stdqlitynewcode><stdqlitynewnm>상</stdqlitynewnm><stdspciescode>100108</stdspciescode><stdspciesnewcode>100108</stdspciesnewcode><stdspciesnewnm>쌈(알배기)배추</stdspciesnewnm><stdspciesnm>쌈배추</stdspciesnm><stdunitnewcode>12</stdunitnewcode><stdunitnewnm>kg</stdunitnewnm><whsalmrktcode>210001</whsalmrktcode><whsalmrktnewcode>1046901</whsalmrktnewcode><whsalmrktnewnm>부산엄궁농산물도매시장</whsalmrktnewnm><whsalmrktnm>부산엄궁도매시장</whsalmrktnm></item></items><numofrows>2</numofrows><pageno>1</pageno><totalcount>612</totalcount></response></body></html>"
      ]
     },
     "execution_count": 15,
     "metadata": {},
     "output_type": "execute_result"
    }
   ],
   "source": [
    "data"
   ]
  },
  {
   "cell_type": "code",
   "execution_count": null,
   "metadata": {},
   "outputs": [],
   "source": []
  }
 ],
 "metadata": {
  "kernelspec": {
   "display_name": "Python 3",
   "language": "python",
   "name": "python3"
  },
  "language_info": {
   "codemirror_mode": {
    "name": "ipython",
    "version": 3
   },
   "file_extension": ".py",
   "mimetype": "text/x-python",
   "name": "python",
   "nbconvert_exporter": "python",
   "pygments_lexer": "ipython3",
   "version": "3.7.3"
  }
 },
 "nbformat": 4,
 "nbformat_minor": 2
}
