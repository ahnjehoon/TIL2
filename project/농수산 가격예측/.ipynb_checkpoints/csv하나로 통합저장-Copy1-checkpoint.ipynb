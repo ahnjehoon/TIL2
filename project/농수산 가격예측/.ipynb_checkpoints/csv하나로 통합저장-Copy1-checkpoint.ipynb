{
 "cells": [
  {
   "cell_type": "code",
   "execution_count": 1,
   "metadata": {},
   "outputs": [],
   "source": [
    "import requests as rq\n",
    "import pandas as pd\n",
    "import json\n",
    "import bs4\n",
    "import re"
   ]
  },
  {
   "cell_type": "code",
   "execution_count": 2,
   "metadata": {},
   "outputs": [],
   "source": [
    "with open(\"C:/open_data_key.txt\", 'r', encoding='utf-8') as f:\n",
    "    ServiceKey = f.readlines()[0][:-1]"
   ]
  },
  {
   "cell_type": "code",
   "execution_count": 3,
   "metadata": {},
   "outputs": [],
   "source": [
    "def connectionXML(url,params):\n",
    "    response = rq.get(url,params)\n",
    "    soup = bs4.BeautifulSoup(response.text, 'lxml')\n",
    "    return soup"
   ]
  },
  {
   "cell_type": "code",
   "execution_count": 4,
   "metadata": {},
   "outputs": [],
   "source": [
    "def NoneXMLdata(params):\n",
    "    if params == None: return ''\n",
    "    else: return params.text.strip()"
   ]
  },
  {
   "cell_type": "code",
   "execution_count": 5,
   "metadata": {},
   "outputs": [],
   "source": [
    "data_dic = {\n",
    "         'aucsecode' : []\n",
    "        ,'aucsenm' : []\n",
    "        ,'catgorycode' : []\n",
    "        ,'catgorynewcode' : []\n",
    "        ,'catgorynewnm' : []\n",
    "        ,'catgorynm' : []\n",
    "        ,'cprinsttcode' : []\n",
    "        ,'cprinsttnewcode' : []\n",
    "        ,'cprmtccode' : []\n",
    "        ,'cpruseprdlstcode' : []\n",
    "        ,'cpruseprdlstnm' : []\n",
    "        ,'delngde' : []\n",
    "        ,'delngprut' : []\n",
    "        ,'delngqy' : []\n",
    "        ,'insttnewnm' : []\n",
    "        ,'insttnm' : []\n",
    "        ,'ledgno' : []\n",
    "        ,'rnum' : []\n",
    "        ,'sbidpric' : []\n",
    "        ,'shipmntsecode' : []\n",
    "        ,'shipmntsenm' : []\n",
    "        ,'sleseqn' : []\n",
    "        ,'stdfrmlcnewcode' : []\n",
    "        ,'stdfrmlcnewnm' : []\n",
    "        ,'stdmgnewcode' : []\n",
    "        ,'stdmgnewnm' : []\n",
    "        ,'stdmtcnewcode' : []\n",
    "        ,'stdmtcnewnm' : []\n",
    "        ,'stdprdlstcode' : []\n",
    "        ,'stdprdlstnewcode' : []\n",
    "        ,'stdprdlstnewnm' : []\n",
    "        ,'stdprdlstnm' : []\n",
    "        ,'stdqlitynewcode' : []\n",
    "        ,'stdqlitynewnm' : []\n",
    "        ,'stdspciescode' : []\n",
    "        ,'stdspciesnewcode' : []\n",
    "        ,'stdspciesnewnm' : []\n",
    "        ,'stdspciesnm' : []\n",
    "        ,'stdunitnewcode' : []\n",
    "        ,'stdunitnewnm' : []\n",
    "        ,'whsalmrktcode' : []\n",
    "        ,'whsalmrktnewcode' : []\n",
    "        ,'whsalmrktnewnm' : []\n",
    "        ,'whsalmrktnm' : []\n",
    "    }"
   ]
  },
  {
   "cell_type": "code",
   "execution_count": 6,
   "metadata": {},
   "outputs": [],
   "source": [
    "def getDataXML(result_xml):\n",
    "    if len(data.find_all('item')) == 0:\n",
    "        return\n",
    "    # 데이터를 담을 딕셔너리\n",
    "    \n",
    "    result_list = result_xml.find_all('item')\n",
    "    # 태그의 수만큼 반복한다.\n",
    "    for result_tag in result_list : \n",
    "        aucsecode = NoneXMLdata(result_tag.find('aucsecode'))\n",
    "        aucsenm = NoneXMLdata(result_tag.find('aucsenm'))\n",
    "        catgorycode = NoneXMLdata(result_tag.find('catgorycode'))\n",
    "        catgorynewcode = NoneXMLdata(result_tag.find('catgorynewcode'))\n",
    "        catgorynewnm = NoneXMLdata(result_tag.find('catgorynewnm'))\n",
    "        catgorynm = NoneXMLdata(result_tag.find('catgorynm'))\n",
    "        cprinsttcode = NoneXMLdata(result_tag.find('cprinsttcode'))\n",
    "        cprinsttnewcode = NoneXMLdata(result_tag.find('cprinsttnewcode'))\n",
    "        cprmtccode = NoneXMLdata(result_tag.find('cprmtccode'))\n",
    "        cpruseprdlstcode = NoneXMLdata(result_tag.find('cpruseprdlstcode'))\n",
    "        cpruseprdlstnm = NoneXMLdata(result_tag.find('cpruseprdlstnm'))\n",
    "        delngde = NoneXMLdata(result_tag.find('delngde'))\n",
    "        delngprut = NoneXMLdata(result_tag.find('delngprut'))\n",
    "        delngqy = NoneXMLdata(result_tag.find('delngqy'))\n",
    "        insttnewnm = NoneXMLdata(result_tag.find('insttnewnm'))\n",
    "        insttnm = NoneXMLdata(result_tag.find('insttnm'))\n",
    "        ledgno = NoneXMLdata(result_tag.find('ledgno'))\n",
    "        rnum = NoneXMLdata(result_tag.find('rnum'))\n",
    "        sbidpric = NoneXMLdata(result_tag.find('sbidpric'))\n",
    "        shipmntsecode = NoneXMLdata(result_tag.find('shipmntsecode'))\n",
    "        shipmntsenm = NoneXMLdata(result_tag.find('shipmntsenm'))\n",
    "        sleseqn = NoneXMLdata(result_tag.find('sleseqn'))\n",
    "        stdfrmlcnewcode = NoneXMLdata(result_tag.find('stdfrmlcnewcode'))\n",
    "        stdfrmlcnewnm = NoneXMLdata(result_tag.find('stdfrmlcnewnm'))\n",
    "        stdmgnewcode = NoneXMLdata(result_tag.find('stdmgnewcode'))\n",
    "        stdmgnewnm = NoneXMLdata(result_tag.find('stdmgnewnm'))\n",
    "        stdmtcnewcode = NoneXMLdata(result_tag.find('stdmtcnewcode'))\n",
    "        stdmtcnewnm = NoneXMLdata(result_tag.find('stdmtcnewnm'))\n",
    "        stdprdlstcode = NoneXMLdata(result_tag.find('stdprdlstcode'))\n",
    "        stdprdlstnewcode = NoneXMLdata(result_tag.find('stdprdlstnewcode'))\n",
    "        stdprdlstnewnm = NoneXMLdata(result_tag.find('stdprdlstnewnm'))\n",
    "        stdprdlstnm = NoneXMLdata(result_tag.find('stdprdlstnm'))\n",
    "        stdqlitynewcode = NoneXMLdata(result_tag.find('stdqlitynewcode'))\n",
    "        stdqlitynewnm = NoneXMLdata(result_tag.find('stdqlitynewnm'))\n",
    "        stdspciescode = NoneXMLdata(result_tag.find('stdspciescode'))\n",
    "        stdspciesnewcode = NoneXMLdata(result_tag.find('stdspciesnewcode'))\n",
    "        stdspciesnewnm = NoneXMLdata(result_tag.find('stdspciesnewnm'))\n",
    "        stdspciesnm = NoneXMLdata(result_tag.find('stdspciesnm'))\n",
    "        stdunitnewcode = NoneXMLdata(result_tag.find('stdunitnewcode'))\n",
    "        stdunitnewnm = NoneXMLdata(result_tag.find('stdunitnewnm'))\n",
    "        whsalmrktcode = NoneXMLdata(result_tag.find('whsalmrktcode'))\n",
    "        whsalmrktnewcode = NoneXMLdata(result_tag.find('whsalmrktnewcode'))\n",
    "        whsalmrktnewnm = NoneXMLdata(result_tag.find('whsalmrktnewnm'))\n",
    "        whsalmrktnm = NoneXMLdata(result_tag.find('whsalmrktnm'))\n",
    "        \n",
    "        data_dic['aucsecode'].append(aucsecode)\n",
    "        data_dic['aucsenm'].append(aucsenm)\n",
    "        data_dic['catgorycode'].append(catgorycode)\n",
    "        data_dic['catgorynewcode'].append(catgorynewcode)\n",
    "        data_dic['catgorynewnm'].append(catgorynewnm)\n",
    "        data_dic['catgorynm'].append(catgorynm)\n",
    "        data_dic['cprinsttcode'].append(cprinsttcode)\n",
    "        data_dic['cprinsttnewcode'].append(cprinsttnewcode)\n",
    "        data_dic['cprmtccode'].append(cprmtccode)\n",
    "        data_dic['cpruseprdlstcode'].append(cpruseprdlstcode)\n",
    "        data_dic['cpruseprdlstnm'].append(cpruseprdlstnm)\n",
    "        data_dic['delngde'].append(delngde)\n",
    "        data_dic['delngprut'].append(delngprut)\n",
    "        data_dic['delngqy'].append(delngqy)\n",
    "        data_dic['insttnewnm'].append(insttnewnm)\n",
    "        data_dic['insttnm'].append(insttnm)\n",
    "        data_dic['ledgno'].append(ledgno)\n",
    "        data_dic['rnum'].append(rnum)\n",
    "        data_dic['sbidpric'].append(sbidpric)\n",
    "        data_dic['shipmntsecode'].append(shipmntsecode)\n",
    "        data_dic['shipmntsenm'].append(shipmntsenm)\n",
    "        data_dic['sleseqn'].append(sleseqn)\n",
    "        data_dic['stdfrmlcnewcode'].append(stdfrmlcnewcode)\n",
    "        data_dic['stdfrmlcnewnm'].append(stdfrmlcnewnm)\n",
    "        data_dic['stdmgnewcode'].append(stdmgnewcode)\n",
    "        data_dic['stdmgnewnm'].append(stdmgnewnm)\n",
    "        data_dic['stdmtcnewcode'].append(stdmtcnewcode)\n",
    "        data_dic['stdmtcnewnm'].append(stdmtcnewnm)\n",
    "        data_dic['stdprdlstcode'].append(stdprdlstcode)\n",
    "        data_dic['stdprdlstnewcode'].append(stdprdlstnewcode)\n",
    "        data_dic['stdprdlstnewnm'].append(stdprdlstnewnm)\n",
    "        data_dic['stdprdlstnm'].append(stdprdlstnm)\n",
    "        data_dic['stdqlitynewcode'].append(stdqlitynewcode)\n",
    "        data_dic['stdqlitynewnm'].append(stdqlitynewnm)\n",
    "        data_dic['stdspciescode'].append(stdspciescode)\n",
    "        data_dic['stdspciesnewcode'].append(stdspciesnewcode)\n",
    "        data_dic['stdspciesnewnm'].append(stdspciesnewnm)\n",
    "        data_dic['stdspciesnm'].append(stdspciesnm)\n",
    "        data_dic['stdunitnewcode'].append(stdunitnewcode)\n",
    "        data_dic['stdunitnewnm'].append(stdunitnewnm)\n",
    "        data_dic['whsalmrktcode'].append(whsalmrktcode)\n",
    "        data_dic['whsalmrktnewcode'].append(whsalmrktnewcode)\n",
    "        data_dic['whsalmrktnewnm'].append(whsalmrktnewnm)\n",
    "        data_dic['whsalmrktnm'].append(whsalmrktnm)\n",
    "    \n",
    "    "
   ]
  },
  {
   "cell_type": "code",
   "execution_count": 7,
   "metadata": {},
   "outputs": [],
   "source": [
    "# 페이지 번호\n",
    "pageNo = 1\n",
    "# 불러올때 출력할 행 수\n",
    "numOfRows = 100000\n",
    "# 품목 코드\n",
    "prdlstCd = 1001"
   ]
  },
  {
   "cell_type": "code",
   "execution_count": 8,
   "metadata": {},
   "outputs": [],
   "source": [
    "url = 'http://apis.data.go.kr/B552895/openapi/service/OrgPriceAuctionService/getExactProdPriceList'\n",
    "params = {\n",
    "     'ServiceKey': ServiceKey  \n",
    "    ,'pageNo': pageNo\n",
    "    ,'numOfRows': numOfRows\n",
    "    ,'prdlstCd': prdlstCd\n",
    "}"
   ]
  },
  {
   "cell_type": "code",
   "execution_count": 14,
   "metadata": {},
   "outputs": [],
   "source": [
    "# date_list = [d.strftime('%Y%m%d') for d in pd.date_range('20150202','20170202')]\n",
    "date_list = [d.strftime('%Y%m%d') for d in pd.date_range('20170301','20170401')]\n",
    "for v in date_list:\n",
    "    params['delngDe'] = v\n",
    "    params_encode = \"&\".join(\"%s=%s\" % (k,v) for k,v in params.items())\n",
    "    data = connectionXML(url, params_encode)\n",
    "    getDataXML(data)"
   ]
  },
  {
   "cell_type": "code",
   "execution_count": null,
   "metadata": {},
   "outputs": [],
   "source": [
    "df = pd.DataFrame.from_dict(data_dic)\n",
    "df.to_csv('2017112620171231.csv', index=False, encoding='utf-8-sig')"
   ]
  },
  {
   "cell_type": "code",
   "execution_count": 15,
   "metadata": {},
   "outputs": [
    {
     "data": {
      "text/plain": [
       "(45912, 44)"
      ]
     },
     "execution_count": 15,
     "metadata": {},
     "output_type": "execute_result"
    }
   ],
   "source": [
    "df = pd.DataFrame.from_dict(data_dic)\n",
    "df.shape"
   ]
  },
  {
   "cell_type": "code",
   "execution_count": 39,
   "metadata": {},
   "outputs": [
    {
     "data": {
      "text/plain": [
       "array(['호호', '호호', '호호', ..., '하하', '하하', '하하'], dtype='<U2')"
      ]
     },
     "execution_count": 39,
     "metadata": {},
     "output_type": "execute_result"
    }
   ],
   "source": [
    "np.where(df['delngde'] < 20171126, '하하', '호호')"
   ]
  },
  {
   "cell_type": "code",
   "execution_count": 37,
   "metadata": {},
   "outputs": [
    {
     "data": {
      "text/plain": [
       "(array([ 9209,  9210,  9211, ..., 45909, 45910, 45911], dtype=int64),)"
      ]
     },
     "execution_count": 37,
     "metadata": {},
     "output_type": "execute_result"
    }
   ],
   "source": [
    "np.where(df['delngde'] < 20171126)"
   ]
  },
  {
   "cell_type": "code",
   "execution_count": 49,
   "metadata": {},
   "outputs": [
    {
     "ename": "ValueError",
     "evalue": "Buffer has wrong number of dimensions (expected 1, got 3)",
     "output_type": "error",
     "traceback": [
      "\u001b[1;31m---------------------------------------------------------------------------\u001b[0m",
      "\u001b[1;31mValueError\u001b[0m                                Traceback (most recent call last)",
      "\u001b[1;32m<ipython-input-49-b4c9ba46efbd>\u001b[0m in \u001b[0;36m<module>\u001b[1;34m\u001b[0m\n\u001b[1;32m----> 1\u001b[1;33m \u001b[0mdf\u001b[0m\u001b[1;33m.\u001b[0m\u001b[0mloc\u001b[0m\u001b[1;33m[\u001b[0m\u001b[1;33m[\u001b[0m\u001b[0mnp\u001b[0m\u001b[1;33m.\u001b[0m\u001b[0mwhere\u001b[0m\u001b[1;33m(\u001b[0m\u001b[0mdf\u001b[0m\u001b[1;33m[\u001b[0m\u001b[1;34m'delngde'\u001b[0m\u001b[1;33m]\u001b[0m \u001b[1;33m<\u001b[0m \u001b[1;36m20171126\u001b[0m\u001b[1;33m)\u001b[0m\u001b[1;33m]\u001b[0m\u001b[1;33m,\u001b[0m\u001b[1;33m:\u001b[0m\u001b[1;33m]\u001b[0m\u001b[1;33m\u001b[0m\u001b[1;33m\u001b[0m\u001b[0m\n\u001b[0m",
      "\u001b[1;32mC:\\ProgramData\\Anaconda3\\lib\\site-packages\\pandas\\core\\indexing.py\u001b[0m in \u001b[0;36m__getitem__\u001b[1;34m(self, key)\u001b[0m\n\u001b[0;32m   1492\u001b[0m             \u001b[1;32mexcept\u001b[0m \u001b[1;33m(\u001b[0m\u001b[0mKeyError\u001b[0m\u001b[1;33m,\u001b[0m \u001b[0mIndexError\u001b[0m\u001b[1;33m,\u001b[0m \u001b[0mAttributeError\u001b[0m\u001b[1;33m)\u001b[0m\u001b[1;33m:\u001b[0m\u001b[1;33m\u001b[0m\u001b[1;33m\u001b[0m\u001b[0m\n\u001b[0;32m   1493\u001b[0m                 \u001b[1;32mpass\u001b[0m\u001b[1;33m\u001b[0m\u001b[1;33m\u001b[0m\u001b[0m\n\u001b[1;32m-> 1494\u001b[1;33m             \u001b[1;32mreturn\u001b[0m \u001b[0mself\u001b[0m\u001b[1;33m.\u001b[0m\u001b[0m_getitem_tuple\u001b[0m\u001b[1;33m(\u001b[0m\u001b[0mkey\u001b[0m\u001b[1;33m)\u001b[0m\u001b[1;33m\u001b[0m\u001b[1;33m\u001b[0m\u001b[0m\n\u001b[0m\u001b[0;32m   1495\u001b[0m         \u001b[1;32melse\u001b[0m\u001b[1;33m:\u001b[0m\u001b[1;33m\u001b[0m\u001b[1;33m\u001b[0m\u001b[0m\n\u001b[0;32m   1496\u001b[0m             \u001b[1;31m# we by definition only have the 0th axis\u001b[0m\u001b[1;33m\u001b[0m\u001b[1;33m\u001b[0m\u001b[1;33m\u001b[0m\u001b[0m\n",
      "\u001b[1;32mC:\\ProgramData\\Anaconda3\\lib\\site-packages\\pandas\\core\\indexing.py\u001b[0m in \u001b[0;36m_getitem_tuple\u001b[1;34m(self, tup)\u001b[0m\n\u001b[0;32m    886\u001b[0m                 \u001b[1;32mcontinue\u001b[0m\u001b[1;33m\u001b[0m\u001b[1;33m\u001b[0m\u001b[0m\n\u001b[0;32m    887\u001b[0m \u001b[1;33m\u001b[0m\u001b[0m\n\u001b[1;32m--> 888\u001b[1;33m             \u001b[0mretval\u001b[0m \u001b[1;33m=\u001b[0m \u001b[0mgetattr\u001b[0m\u001b[1;33m(\u001b[0m\u001b[0mretval\u001b[0m\u001b[1;33m,\u001b[0m \u001b[0mself\u001b[0m\u001b[1;33m.\u001b[0m\u001b[0mname\u001b[0m\u001b[1;33m)\u001b[0m\u001b[1;33m.\u001b[0m\u001b[0m_getitem_axis\u001b[0m\u001b[1;33m(\u001b[0m\u001b[0mkey\u001b[0m\u001b[1;33m,\u001b[0m \u001b[0maxis\u001b[0m\u001b[1;33m=\u001b[0m\u001b[0mi\u001b[0m\u001b[1;33m)\u001b[0m\u001b[1;33m\u001b[0m\u001b[1;33m\u001b[0m\u001b[0m\n\u001b[0m\u001b[0;32m    889\u001b[0m \u001b[1;33m\u001b[0m\u001b[0m\n\u001b[0;32m    890\u001b[0m         \u001b[1;32mreturn\u001b[0m \u001b[0mretval\u001b[0m\u001b[1;33m\u001b[0m\u001b[1;33m\u001b[0m\u001b[0m\n",
      "\u001b[1;32mC:\\ProgramData\\Anaconda3\\lib\\site-packages\\pandas\\core\\indexing.py\u001b[0m in \u001b[0;36m_getitem_axis\u001b[1;34m(self, key, axis)\u001b[0m\n\u001b[0;32m   1900\u001b[0m                     \u001b[1;32mraise\u001b[0m \u001b[0mValueError\u001b[0m\u001b[1;33m(\u001b[0m\u001b[1;34m'Cannot index with multidimensional key'\u001b[0m\u001b[1;33m)\u001b[0m\u001b[1;33m\u001b[0m\u001b[1;33m\u001b[0m\u001b[0m\n\u001b[0;32m   1901\u001b[0m \u001b[1;33m\u001b[0m\u001b[0m\n\u001b[1;32m-> 1902\u001b[1;33m                 \u001b[1;32mreturn\u001b[0m \u001b[0mself\u001b[0m\u001b[1;33m.\u001b[0m\u001b[0m_getitem_iterable\u001b[0m\u001b[1;33m(\u001b[0m\u001b[0mkey\u001b[0m\u001b[1;33m,\u001b[0m \u001b[0maxis\u001b[0m\u001b[1;33m=\u001b[0m\u001b[0maxis\u001b[0m\u001b[1;33m)\u001b[0m\u001b[1;33m\u001b[0m\u001b[1;33m\u001b[0m\u001b[0m\n\u001b[0m\u001b[0;32m   1903\u001b[0m \u001b[1;33m\u001b[0m\u001b[0m\n\u001b[0;32m   1904\u001b[0m             \u001b[1;31m# nested tuple slicing\u001b[0m\u001b[1;33m\u001b[0m\u001b[1;33m\u001b[0m\u001b[1;33m\u001b[0m\u001b[0m\n",
      "\u001b[1;32mC:\\ProgramData\\Anaconda3\\lib\\site-packages\\pandas\\core\\indexing.py\u001b[0m in \u001b[0;36m_getitem_iterable\u001b[1;34m(self, key, axis)\u001b[0m\n\u001b[0;32m   1203\u001b[0m             \u001b[1;31m# A collection of keys\u001b[0m\u001b[1;33m\u001b[0m\u001b[1;33m\u001b[0m\u001b[1;33m\u001b[0m\u001b[0m\n\u001b[0;32m   1204\u001b[0m             keyarr, indexer = self._get_listlike_indexer(key, axis,\n\u001b[1;32m-> 1205\u001b[1;33m                                                          raise_missing=False)\n\u001b[0m\u001b[0;32m   1206\u001b[0m             return self.obj._reindex_with_indexers({axis: [keyarr, indexer]},\n\u001b[0;32m   1207\u001b[0m                                                    copy=True, allow_dups=True)\n",
      "\u001b[1;32mC:\\ProgramData\\Anaconda3\\lib\\site-packages\\pandas\\core\\indexing.py\u001b[0m in \u001b[0;36m_get_listlike_indexer\u001b[1;34m(self, key, axis, raise_missing)\u001b[0m\n\u001b[0;32m   1152\u001b[0m             \u001b[1;32mif\u001b[0m \u001b[0mlen\u001b[0m\u001b[1;33m(\u001b[0m\u001b[0max\u001b[0m\u001b[1;33m)\u001b[0m \u001b[1;32mor\u001b[0m \u001b[1;32mnot\u001b[0m \u001b[0mlen\u001b[0m\u001b[1;33m(\u001b[0m\u001b[0mkey\u001b[0m\u001b[1;33m)\u001b[0m\u001b[1;33m:\u001b[0m\u001b[1;33m\u001b[0m\u001b[1;33m\u001b[0m\u001b[0m\n\u001b[0;32m   1153\u001b[0m                 \u001b[0mkey\u001b[0m \u001b[1;33m=\u001b[0m \u001b[0mself\u001b[0m\u001b[1;33m.\u001b[0m\u001b[0m_convert_for_reindex\u001b[0m\u001b[1;33m(\u001b[0m\u001b[0mkey\u001b[0m\u001b[1;33m,\u001b[0m \u001b[0maxis\u001b[0m\u001b[1;33m)\u001b[0m\u001b[1;33m\u001b[0m\u001b[1;33m\u001b[0m\u001b[0m\n\u001b[1;32m-> 1154\u001b[1;33m             \u001b[0mindexer\u001b[0m \u001b[1;33m=\u001b[0m \u001b[0max\u001b[0m\u001b[1;33m.\u001b[0m\u001b[0mget_indexer_for\u001b[0m\u001b[1;33m(\u001b[0m\u001b[0mkey\u001b[0m\u001b[1;33m)\u001b[0m\u001b[1;33m\u001b[0m\u001b[1;33m\u001b[0m\u001b[0m\n\u001b[0m\u001b[0;32m   1155\u001b[0m             \u001b[0mkeyarr\u001b[0m \u001b[1;33m=\u001b[0m \u001b[0max\u001b[0m\u001b[1;33m.\u001b[0m\u001b[0mreindex\u001b[0m\u001b[1;33m(\u001b[0m\u001b[0mkeyarr\u001b[0m\u001b[1;33m)\u001b[0m\u001b[1;33m[\u001b[0m\u001b[1;36m0\u001b[0m\u001b[1;33m]\u001b[0m\u001b[1;33m\u001b[0m\u001b[1;33m\u001b[0m\u001b[0m\n\u001b[0;32m   1156\u001b[0m         \u001b[1;32melse\u001b[0m\u001b[1;33m:\u001b[0m\u001b[1;33m\u001b[0m\u001b[1;33m\u001b[0m\u001b[0m\n",
      "\u001b[1;32mC:\\ProgramData\\Anaconda3\\lib\\site-packages\\pandas\\core\\indexes\\base.py\u001b[0m in \u001b[0;36mget_indexer_for\u001b[1;34m(self, target, **kwargs)\u001b[0m\n\u001b[0;32m   4453\u001b[0m         \"\"\"\n\u001b[0;32m   4454\u001b[0m         \u001b[1;32mif\u001b[0m \u001b[0mself\u001b[0m\u001b[1;33m.\u001b[0m\u001b[0mis_unique\u001b[0m\u001b[1;33m:\u001b[0m\u001b[1;33m\u001b[0m\u001b[1;33m\u001b[0m\u001b[0m\n\u001b[1;32m-> 4455\u001b[1;33m             \u001b[1;32mreturn\u001b[0m \u001b[0mself\u001b[0m\u001b[1;33m.\u001b[0m\u001b[0mget_indexer\u001b[0m\u001b[1;33m(\u001b[0m\u001b[0mtarget\u001b[0m\u001b[1;33m,\u001b[0m \u001b[1;33m**\u001b[0m\u001b[0mkwargs\u001b[0m\u001b[1;33m)\u001b[0m\u001b[1;33m\u001b[0m\u001b[1;33m\u001b[0m\u001b[0m\n\u001b[0m\u001b[0;32m   4456\u001b[0m         \u001b[0mindexer\u001b[0m\u001b[1;33m,\u001b[0m \u001b[0m_\u001b[0m \u001b[1;33m=\u001b[0m \u001b[0mself\u001b[0m\u001b[1;33m.\u001b[0m\u001b[0mget_indexer_non_unique\u001b[0m\u001b[1;33m(\u001b[0m\u001b[0mtarget\u001b[0m\u001b[1;33m,\u001b[0m \u001b[1;33m**\u001b[0m\u001b[0mkwargs\u001b[0m\u001b[1;33m)\u001b[0m\u001b[1;33m\u001b[0m\u001b[1;33m\u001b[0m\u001b[0m\n\u001b[0;32m   4457\u001b[0m         \u001b[1;32mreturn\u001b[0m \u001b[0mindexer\u001b[0m\u001b[1;33m\u001b[0m\u001b[1;33m\u001b[0m\u001b[0m\n",
      "\u001b[1;32mC:\\ProgramData\\Anaconda3\\lib\\site-packages\\pandas\\core\\indexes\\base.py\u001b[0m in \u001b[0;36mget_indexer\u001b[1;34m(self, target, method, limit, tolerance)\u001b[0m\n\u001b[0;32m   2753\u001b[0m                                  'backfill or nearest reindexing')\n\u001b[0;32m   2754\u001b[0m \u001b[1;33m\u001b[0m\u001b[0m\n\u001b[1;32m-> 2755\u001b[1;33m             \u001b[0mindexer\u001b[0m \u001b[1;33m=\u001b[0m \u001b[0mself\u001b[0m\u001b[1;33m.\u001b[0m\u001b[0m_engine\u001b[0m\u001b[1;33m.\u001b[0m\u001b[0mget_indexer\u001b[0m\u001b[1;33m(\u001b[0m\u001b[0mtarget\u001b[0m\u001b[1;33m.\u001b[0m\u001b[0m_ndarray_values\u001b[0m\u001b[1;33m)\u001b[0m\u001b[1;33m\u001b[0m\u001b[1;33m\u001b[0m\u001b[0m\n\u001b[0m\u001b[0;32m   2756\u001b[0m \u001b[1;33m\u001b[0m\u001b[0m\n\u001b[0;32m   2757\u001b[0m         \u001b[1;32mreturn\u001b[0m \u001b[0mensure_platform_int\u001b[0m\u001b[1;33m(\u001b[0m\u001b[0mindexer\u001b[0m\u001b[1;33m)\u001b[0m\u001b[1;33m\u001b[0m\u001b[1;33m\u001b[0m\u001b[0m\n",
      "\u001b[1;32mpandas/_libs/index.pyx\u001b[0m in \u001b[0;36mpandas._libs.index.IndexEngine.get_indexer\u001b[1;34m()\u001b[0m\n",
      "\u001b[1;32mpandas/_libs/hashtable_class_helper.pxi\u001b[0m in \u001b[0;36mpandas._libs.hashtable.Int64HashTable.lookup\u001b[1;34m()\u001b[0m\n",
      "\u001b[1;31mValueError\u001b[0m: Buffer has wrong number of dimensions (expected 1, got 3)"
     ]
    }
   ],
   "source": [
    "df.loc[[np.where(df['delngde'] < 20171126)],:]"
   ]
  },
  {
   "cell_type": "code",
   "execution_count": 34,
   "metadata": {},
   "outputs": [
    {
     "data": {
      "text/plain": [
       "0        False\n",
       "1        False\n",
       "2        False\n",
       "3        False\n",
       "4        False\n",
       "5        False\n",
       "6        False\n",
       "7        False\n",
       "8        False\n",
       "9        False\n",
       "10       False\n",
       "11       False\n",
       "12       False\n",
       "13       False\n",
       "14       False\n",
       "15       False\n",
       "16       False\n",
       "17       False\n",
       "18       False\n",
       "19       False\n",
       "20       False\n",
       "21       False\n",
       "22       False\n",
       "23       False\n",
       "24       False\n",
       "25       False\n",
       "26       False\n",
       "27       False\n",
       "28       False\n",
       "29       False\n",
       "         ...  \n",
       "45882     True\n",
       "45883     True\n",
       "45884     True\n",
       "45885     True\n",
       "45886     True\n",
       "45887     True\n",
       "45888     True\n",
       "45889     True\n",
       "45890     True\n",
       "45891     True\n",
       "45892     True\n",
       "45893     True\n",
       "45894     True\n",
       "45895     True\n",
       "45896     True\n",
       "45897     True\n",
       "45898     True\n",
       "45899     True\n",
       "45900     True\n",
       "45901     True\n",
       "45902     True\n",
       "45903     True\n",
       "45904     True\n",
       "45905     True\n",
       "45906     True\n",
       "45907     True\n",
       "45908     True\n",
       "45909     True\n",
       "45910     True\n",
       "45911     True\n",
       "Name: delngde, Length: 45912, dtype: bool"
      ]
     },
     "execution_count": 34,
     "metadata": {},
     "output_type": "execute_result"
    }
   ],
   "source": [
    "np.where df['delngde'] < 20171126"
   ]
  },
  {
   "cell_type": "code",
   "execution_count": 31,
   "metadata": {},
   "outputs": [
    {
     "ename": "TypeError",
     "evalue": "'<' not supported between instances of 'str' and 'int'",
     "output_type": "error",
     "traceback": [
      "\u001b[1;31m---------------------------------------------------------------------------\u001b[0m",
      "\u001b[1;31mTypeError\u001b[0m                                 Traceback (most recent call last)",
      "\u001b[1;32m<ipython-input-31-344931ff52db>\u001b[0m in \u001b[0;36m<module>\u001b[1;34m\u001b[0m\n\u001b[1;32m----> 1\u001b[1;33m \u001b[1;33m[\u001b[0m\u001b[0mx\u001b[0m \u001b[1;32mfor\u001b[0m \u001b[0mx\u001b[0m \u001b[1;32min\u001b[0m \u001b[0mdf\u001b[0m\u001b[1;33m[\u001b[0m\u001b[1;33m[\u001b[0m\u001b[1;34m'delngde'\u001b[0m\u001b[1;33m]\u001b[0m\u001b[1;33m]\u001b[0m \u001b[1;32mif\u001b[0m \u001b[0mx\u001b[0m \u001b[1;33m<\u001b[0m \u001b[1;36m20171126\u001b[0m\u001b[1;33m]\u001b[0m\u001b[1;33m\u001b[0m\u001b[1;33m\u001b[0m\u001b[0m\n\u001b[0m",
      "\u001b[1;32m<ipython-input-31-344931ff52db>\u001b[0m in \u001b[0;36m<listcomp>\u001b[1;34m(.0)\u001b[0m\n\u001b[1;32m----> 1\u001b[1;33m \u001b[1;33m[\u001b[0m\u001b[0mx\u001b[0m \u001b[1;32mfor\u001b[0m \u001b[0mx\u001b[0m \u001b[1;32min\u001b[0m \u001b[0mdf\u001b[0m\u001b[1;33m[\u001b[0m\u001b[1;33m[\u001b[0m\u001b[1;34m'delngde'\u001b[0m\u001b[1;33m]\u001b[0m\u001b[1;33m]\u001b[0m \u001b[1;32mif\u001b[0m \u001b[0mx\u001b[0m \u001b[1;33m<\u001b[0m \u001b[1;36m20171126\u001b[0m\u001b[1;33m]\u001b[0m\u001b[1;33m\u001b[0m\u001b[1;33m\u001b[0m\u001b[0m\n\u001b[0m",
      "\u001b[1;31mTypeError\u001b[0m: '<' not supported between instances of 'str' and 'int'"
     ]
    }
   ],
   "source": [
    "[x for x in df['delngde'] if x < 20171126]"
   ]
  },
  {
   "cell_type": "code",
   "execution_count": null,
   "metadata": {},
   "outputs": [],
   "source": [
    "[bean for bean in beans if bean.type == 'coffee']"
   ]
  },
  {
   "cell_type": "code",
   "execution_count": null,
   "metadata": {},
   "outputs": [],
   "source": []
  }
 ],
 "metadata": {
  "kernelspec": {
   "display_name": "Python 3",
   "language": "python",
   "name": "python3"
  },
  "language_info": {
   "codemirror_mode": {
    "name": "ipython",
    "version": 3
   },
   "file_extension": ".py",
   "mimetype": "text/x-python",
   "name": "python",
   "nbconvert_exporter": "python",
   "pygments_lexer": "ipython3",
   "version": "3.7.3"
  }
 },
 "nbformat": 4,
 "nbformat_minor": 2
}
