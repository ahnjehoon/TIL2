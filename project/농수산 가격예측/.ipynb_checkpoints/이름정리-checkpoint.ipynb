{
 "cells": [
  {
   "cell_type": "markdown",
   "metadata": {},
   "source": [
    "구부류 - 2013년 농축수산물 표준코드(부류코드)\n",
    "\n",
    "구품목 - 2013년 농축수산물 표준코드(품목코드)\n",
    "\n",
    "구품종 - 2013년 농축수산물 표준코드(품종코드)\n",
    "\n",
    "부류 - 2015년 농축수산물 표준코드(부류명)\n",
    "\n",
    "품목 - 2015년 농축수산물 표준코드(품목명)\n",
    "\n",
    "품종 - 2015년 농축수산물 표준코드(품종코드)\n",
    "\n",
    "법인코드 - 2015년 농축수산물 표준코드(법인코드)"
   ]
  },
  {
   "cell_type": "markdown",
   "metadata": {},
   "source": [
    "### 전체적으로 받는 값들 response 태그 안에 들어가 있는 것들\n",
    "\n",
    "- resultcode 결과코드\n",
    "\n",
    "- resultmsg 결과메세지\n",
    "\n",
    "- numofrows 한 페이지 결과\n",
    "\n",
    "  이건 임의로 마음껏 늘려도 될듯 \n",
    "\n",
    "- pageno 페이지 번호\n",
    "\n",
    "- totalcount 전체 결과 수"
   ]
  },
  {
   "cell_type": "markdown",
   "metadata": {},
   "source": [
    "### 결과로 받는 값들\n",
    "- aucsecode 경매구분코드\n",
    "- aucsenm 경매구분코드명\n",
    "- catgorycode 구부류코드\n",
    "- catgorynewcode 부류코드\n",
    "- catgorynewnm 부류명\n",
    "- catgorynm 구부류명\n",
    "- cprinsttcode 구법인코드\n",
    "  도매시장법인 구분을 위한 코드\n",
    "  전국 도매시장, 법인, 산지공판장, 산지 위판장에서 공통적으로 사용했던 법인코드임 \n",
    "- cprinsttnewcode 법인코드\n",
    "- cprmtccode 구산지코드\n",
    "  출하된 상품의 위치에 대한 산지코드로 과거 우편번호 6자리 체계\n",
    "- cpruseprdlstcode 법인사용품목코드\n",
    "- cpruseprdlstnm 법인사용품목명\n",
    "- delngde 경락일자\n",
    "- delngprut 거래단량\n",
    "- delngqy 거래량\n",
    "- insttnewnm 법인명\n",
    "- insttnm 구법인명\n",
    "- ledgno 경매원표번호\n",
    "- rnum 안나와있음. rownum약자인듯\n",
    "- sbidpric 거래가격\n",
    "- shipmntsecode 출하구분코드\n",
    "- shipmntsenm 출하구분명\n",
    "- sleseqn 일련번호\n",
    "- stdfrmlcnewcode 포장상태코드\n",
    "- stdfrmlcnewnm 포장상태명\n",
    "- stdmgnewcode 크기코드\n",
    "- stdmgnewnm 크기명\n",
    "- stdmtcnewcode 산지코드\n",
    "- stdmtcnewnm 산지명\n",
    "- stdprdlstcode 구품목코드\n",
    "- stdprdlstnewcode 품목코드\n",
    "- stdprdlstnewnm 품목명\n",
    "- stdprdlstnm 구품목명\n",
    "- stdqlitynewcode 등급코드\n",
    "- stdqlitynewnm 등급명\n",
    "- stdspciescode 구품종코드\n",
    "- stdspciesnewcode 품종코드\n",
    "- stdspciesnewnm 품종명\n",
    "- stdspciesnm 구품종명\n",
    "- stdunitnewcode 단위코드\n",
    "- stdunitnewnm 단위명\n",
    "- whsalmrktcode 구시장코드\n",
    "- whsalmrktnewcode 시장코드\n",
    "- whsalmrktnewnm 시장명\n",
    "- whsalmrktnm 구시장명"
   ]
  },
  {
   "cell_type": "raw",
   "metadata": {},
   "source": [
    "### 오퍼레이션 목록\n",
    "| 서비스명                | 목록이름                           | 설명                  |\n",
    "|:------------------------|:-----------------------------------|:----------------------|\n",
    "| getExactProdPriceList   | 원천정산경락가격품목목록조회       | 경락일자+품목코드     |\n",
    "| getExactMarketPriceList | 원천정산경락가격도매시장목록조회   | 경락일자+도매시장코드 |\n",
    "| getRealProdPriceList    | 원천실시간경락가격품목목록조회     | 경락일자+품목코드     |\n",
    "| getRealMarketPriceList  | 원천실시간경락가격도매시장목록조회 | 경락일자+도매시장코드 |\n",
    "\n",
    "http://apis.data.go.kr/B552895/openapi/service/OrgPriceAuctionService/[서비스명]"
   ]
  },
  {
   "cell_type": "markdown",
   "metadata": {},
   "source": [
    "# 그래서 쓸 변수는??\n"
   ]
  },
  {
   "cell_type": "raw",
   "metadata": {},
   "source": [
    "### 요청할때 파라미터들\n",
    "|코드명           |항목명                   |항목설명                            |\n",
    "|-----------------|-------------------------|------------------------------------|\n",
    "|    numOfRows    |    한 페이지 결과 수    |    한 페이지 결과 수               |\n",
    "|    pageNo       |    페이지 번호          |    페이지 번호                     |\n",
    "|    delngDe      |    경락일자             |    경락일자                        |\n",
    "|    prdlstCd     |    품목코드             |    거래되는 농축수산물 품목코드    |\n",
    "|    prdlstNm     |    품목명               |    거래되는 농축수산물 품목명      |\n",
    "|    whsalCd      |    도매시장코드         |    도매시장 코드                   |\n",
    "|    whsalNm      |    도매시장명           |    도매시장 명칭                   |\n",
    "|    cprCd        |    법인코드             |    법인코드                        |\n",
    "|    cprNm        |    법인명               |    법인 명칭                       |\n",
    "|    catgoryCd    |    부류코드             |    거래되는 농축수산물 부류코드    |\n",
    "|    catgoryNm    |    부류명               |    거래되는 농축수산물 부류명      |\n",
    "|    spciesCd     |    품종코드             |    거래되는 농축수산물 품종코드    |\n",
    "|    spciesNm     |    품종명               |    거래되는 농축수산물 품종명      |\n",
    "|    numOfRows    |    한 페이지 결과 수    |    한 페이지 결과 수               |"
   ]
  },
  {
   "cell_type": "raw",
   "metadata": {},
   "source": [
    "### 데이터 분석할 때\n",
    "--작성중"
   ]
  }
 ],
 "metadata": {
  "kernelspec": {
   "display_name": "Python 3",
   "language": "python",
   "name": "python3"
  },
  "language_info": {
   "codemirror_mode": {
    "name": "ipython",
    "version": 3
   },
   "file_extension": ".py",
   "mimetype": "text/x-python",
   "name": "python",
   "nbconvert_exporter": "python",
   "pygments_lexer": "ipython3",
   "version": "3.7.3"
  }
 },
 "nbformat": 4,
 "nbformat_minor": 2
}
