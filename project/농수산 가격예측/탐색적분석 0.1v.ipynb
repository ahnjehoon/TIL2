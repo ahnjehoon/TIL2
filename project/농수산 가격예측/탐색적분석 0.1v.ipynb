{
 "cells": [
  {
   "cell_type": "code",
   "execution_count": 1,
   "metadata": {},
   "outputs": [],
   "source": [
    "import matplotlib.pyplot as plt #Visulization\n",
    "import seaborn as sns #Visulization\n",
    "import warnings \n",
    "warnings.filterwarnings('ignore')\n",
    "%matplotlib inline"
   ]
  },
  {
   "cell_type": "code",
   "execution_count": 15,
   "metadata": {},
   "outputs": [],
   "source": [
    "import requests as rq\n",
    "import pandas as pd\n",
    "import numpy as np\n",
    "import math\n",
    "import json\n",
    "import bs4\n",
    "import re\n",
    "\n",
    "import pymysql\n",
    "pymysql.install_as_MySQLdb()\n",
    "import MySQLdb\n",
    "from sqlalchemy import create_engine\n",
    "\n",
    "with open(\"C:/open_data_key.txt\", 'r', encoding='utf-8') as f:\n",
    "    data_key = f.readlines()\n",
    "ServiceKey = data_key[0][:-1]\n",
    "connection_string = data_key[1]\n",
    "\n",
    "engine = create_engine(connection_string, encoding='utf-8', echo=False)"
   ]
  },
  {
   "cell_type": "code",
   "execution_count": 3,
   "metadata": {},
   "outputs": [],
   "source": [
    "df = pd.read_csv(\"20170101_20171118.csv\")"
   ]
  },
  {
   "cell_type": "code",
   "execution_count": 4,
   "metadata": {},
   "outputs": [],
   "source": [
    "df_train = df"
   ]
  },
  {
   "cell_type": "code",
   "execution_count": 5,
   "metadata": {},
   "outputs": [
    {
     "data": {
      "text/plain": [
       "(328690, 45)"
      ]
     },
     "execution_count": 5,
     "metadata": {},
     "output_type": "execute_result"
    }
   ],
   "source": [
    "df.shape"
   ]
  },
  {
   "cell_type": "code",
   "execution_count": 6,
   "metadata": {
    "collapsed": true
   },
   "outputs": [
    {
     "data": {
      "text/plain": [
       "id                      0\n",
       "aucsecode               0\n",
       "aucsenm                92\n",
       "catgorycode             0\n",
       "catgorynewcode          0\n",
       "catgorynewnm            0\n",
       "catgorynm               0\n",
       "cprinsttcode            0\n",
       "cprinsttnewcode         0\n",
       "cprmtccode              6\n",
       "cpruseprdlstcode    94141\n",
       "cpruseprdlstnm      97445\n",
       "delngde                 0\n",
       "delngprut               0\n",
       "delngqy                 0\n",
       "insttnewnm           5748\n",
       "insttnm                 0\n",
       "ledgno                  0\n",
       "rnum                    0\n",
       "sbidpric                0\n",
       "shipmntsecode       86268\n",
       "shipmntsenm         86290\n",
       "sleseqn                 0\n",
       "stdfrmlcnewcode         0\n",
       "stdfrmlcnewnm           0\n",
       "stdmgnewcode            0\n",
       "stdmgnewnm              0\n",
       "stdmtcnewcode        8498\n",
       "stdmtcnewnm         14473\n",
       "stdprdlstcode           0\n",
       "stdprdlstnewcode        0\n",
       "stdprdlstnewnm          0\n",
       "stdprdlstnm             0\n",
       "stdqlitynewcode         0\n",
       "stdqlitynewnm           0\n",
       "stdspciescode           0\n",
       "stdspciesnewcode        0\n",
       "stdspciesnewnm          0\n",
       "stdspciesnm             0\n",
       "stdunitnewcode          0\n",
       "stdunitnewnm            0\n",
       "whsalmrktcode           0\n",
       "whsalmrktnewcode        0\n",
       "whsalmrktnewnm          0\n",
       "whsalmrktnm             0\n",
       "dtype: int64"
      ]
     },
     "execution_count": 6,
     "metadata": {},
     "output_type": "execute_result"
    }
   ],
   "source": [
    "# 결측치 확인\n",
    "(df_train.isnull()).sum(axis=0) #걸럼별 결측치 계수"
   ]
  },
  {
   "cell_type": "code",
   "execution_count": 7,
   "metadata": {},
   "outputs": [
    {
     "name": "stdout",
     "output_type": "stream",
     "text": [
      "id                  328690\n",
      "aucsecode                5\n",
      "aucsenm                  4\n",
      "catgorycode              1\n",
      "catgorynewcode           1\n",
      "catgorynewnm             1\n",
      "catgorynm                1\n",
      "cprinsttcode            83\n",
      "cprinsttnewcode         83\n",
      "cprmtccode            1587\n",
      "cpruseprdlstcode       170\n",
      "cpruseprdlstnm          19\n",
      "delngde                194\n",
      "delngprut              178\n",
      "delngqy               1105\n",
      "insttnewnm              81\n",
      "insttnm                 82\n",
      "ledgno              104274\n",
      "rnum                  3597\n",
      "sbidpric              5538\n",
      "shipmntsecode            6\n",
      "shipmntsenm              5\n",
      "sleseqn              15330\n",
      "stdfrmlcnewcode         14\n",
      "stdfrmlcnewnm           14\n",
      "stdmgnewcode            52\n",
      "stdmgnewnm              52\n",
      "stdmtcnewcode          433\n",
      "stdmtcnewnm            228\n",
      "stdprdlstcode            1\n",
      "stdprdlstnewcode         1\n",
      "stdprdlstnewnm           1\n",
      "stdprdlstnm              1\n",
      "stdqlitynewcode         11\n",
      "stdqlitynewnm           11\n",
      "stdspciescode           14\n",
      "stdspciesnewcode        14\n",
      "stdspciesnewnm          14\n",
      "stdspciesnm             14\n",
      "stdunitnewcode           3\n",
      "stdunitnewnm             3\n",
      "whsalmrktcode           33\n",
      "whsalmrktnewcode        33\n",
      "whsalmrktnewnm          33\n",
      "whsalmrktnm             33\n",
      "dtype: int64\n"
     ]
    }
   ],
   "source": [
    "print(df.nunique())"
   ]
  },
  {
   "cell_type": "code",
   "execution_count": 8,
   "metadata": {},
   "outputs": [
    {
     "data": {
      "text/html": [
       "<div>\n",
       "<style scoped>\n",
       "    .dataframe tbody tr th:only-of-type {\n",
       "        vertical-align: middle;\n",
       "    }\n",
       "\n",
       "    .dataframe tbody tr th {\n",
       "        vertical-align: top;\n",
       "    }\n",
       "\n",
       "    .dataframe thead th {\n",
       "        text-align: right;\n",
       "    }\n",
       "</style>\n",
       "<table border=\"1\" class=\"dataframe\">\n",
       "  <thead>\n",
       "    <tr style=\"text-align: right;\">\n",
       "      <th></th>\n",
       "      <th>aucsecode</th>\n",
       "      <th>aucsenm</th>\n",
       "    </tr>\n",
       "  </thead>\n",
       "  <tbody>\n",
       "    <tr>\n",
       "      <th>0</th>\n",
       "      <td>1</td>\n",
       "      <td>경매</td>\n",
       "    </tr>\n",
       "    <tr>\n",
       "      <th>50</th>\n",
       "      <td>2</td>\n",
       "      <td>정가수의</td>\n",
       "    </tr>\n",
       "    <tr>\n",
       "      <th>80</th>\n",
       "      <td>3</td>\n",
       "      <td>자기계산</td>\n",
       "    </tr>\n",
       "    <tr>\n",
       "      <th>13904</th>\n",
       "      <td>5</td>\n",
       "      <td>NaN</td>\n",
       "    </tr>\n",
       "    <tr>\n",
       "      <th>36629</th>\n",
       "      <td>4</td>\n",
       "      <td>매수도매</td>\n",
       "    </tr>\n",
       "  </tbody>\n",
       "</table>\n",
       "</div>"
      ],
      "text/plain": [
       "       aucsecode aucsenm\n",
       "0              1      경매\n",
       "50             2    정가수의\n",
       "80             3    자기계산\n",
       "13904          5     NaN\n",
       "36629          4    매수도매"
      ]
     },
     "execution_count": 8,
     "metadata": {},
     "output_type": "execute_result"
    }
   ],
   "source": [
    "df[['aucsecode','aucsenm']].drop_duplicates()"
   ]
  },
  {
   "cell_type": "code",
   "execution_count": 9,
   "metadata": {
    "scrolled": true
   },
   "outputs": [
    {
     "data": {
      "text/plain": [
       "<matplotlib.axes._subplots.AxesSubplot at 0xc72ef98>"
      ]
     },
     "execution_count": 9,
     "metadata": {},
     "output_type": "execute_result"
    },
    {
     "data": {
      "image/png": "[encoded data removed]",
      "text/plain": [
       "<Figure size 720x288 with 1 Axes>"
      ]
     },
     "metadata": {
      "needs_background": "light"
     },
     "output_type": "display_data"
    }
   ],
   "source": [
    "f, ax = plt.subplots(figsize=(10, 4))\n",
    "sns.distplot(df['sbidpric'])"
   ]
  },
  {
   "cell_type": "code",
   "execution_count": 10,
   "metadata": {
    "scrolled": true
   },
   "outputs": [
    {
     "data": {
      "text/plain": [
       "<matplotlib.axes._subplots.AxesSubplot at 0xc8f0470>"
      ]
     },
     "execution_count": 10,
     "metadata": {},
     "output_type": "execute_result"
    },
    {
     "data": {
      "image/png": "[encoded data removed]",
      "text/plain": [
       "<Figure size 720x288 with 1 Axes>"
      ]
     },
     "metadata": {
      "needs_background": "light"
     },
     "output_type": "display_data"
    }
   ],
   "source": [
    "df['sbidpric'] = np.log1p(df['sbidpric'])\n",
    "#histogram\n",
    "f, ax = plt.subplots(figsize=(10, 4))\n",
    "sns.distplot(df['sbidpric'])"
   ]
  },
  {
   "cell_type": "code",
   "execution_count": 14,
   "metadata": {},
   "outputs": [
    {
     "data": {
      "image/png": "[encoded data removed]",
      "text/plain": [
       "<Figure size 576x432 with 1 Axes>"
      ]
     },
     "metadata": {
      "needs_background": "light"
     },
     "output_type": "display_data"
    }
   ],
   "source": [
    "data = pd.concat([df_train['sbidpric'], df_train['stdspciesnewcode']], axis=1)\n",
    "f, ax = plt.subplots(figsize=(8, 6))\n",
    "fig = sns.boxplot(x='stdspciesnewcode', y=\"sbidpric\", data=data)"
   ]
  },
  {
   "cell_type": "code",
   "execution_count": null,
   "metadata": {},
   "outputs": [],
   "source": []
  },
  {
   "cell_type": "code",
   "execution_count": null,
   "metadata": {},
   "outputs": [],
   "source": []
  },
  {
   "cell_type": "code",
   "execution_count": null,
   "metadata": {},
   "outputs": [],
   "source": []
  },
  {
   "cell_type": "code",
   "execution_count": 11,
   "metadata": {},
   "outputs": [
    {
     "ename": "NameError",
     "evalue": "name 'train' is not defined",
     "output_type": "error",
     "traceback": [
      "\u001b[1;31m---------------------------------------------------------------------------\u001b[0m",
      "\u001b[1;31mNameError\u001b[0m                                 Traceback (most recent call last)",
      "\u001b[1;32m<ipython-input-11-48d4fe16f40f>\u001b[0m in \u001b[0;36m<module>\u001b[1;34m\u001b[0m\n\u001b[0;32m      1\u001b[0m \u001b[1;31m# Knowing the Price variable\u001b[0m\u001b[1;33m\u001b[0m\u001b[1;33m\u001b[0m\u001b[1;33m\u001b[0m\u001b[0m\n\u001b[0;32m      2\u001b[0m \u001b[0mf\u001b[0m\u001b[1;33m,\u001b[0m \u001b[0max\u001b[0m \u001b[1;33m=\u001b[0m \u001b[0mplt\u001b[0m\u001b[1;33m.\u001b[0m\u001b[0msubplots\u001b[0m\u001b[1;33m(\u001b[0m\u001b[1;36m1\u001b[0m\u001b[1;33m,\u001b[0m \u001b[1;36m2\u001b[0m\u001b[1;33m,\u001b[0m \u001b[0mfigsize\u001b[0m \u001b[1;33m=\u001b[0m \u001b[1;33m(\u001b[0m\u001b[1;36m14\u001b[0m\u001b[1;33m,\u001b[0m \u001b[1;36m6\u001b[0m\u001b[1;33m)\u001b[0m\u001b[1;33m)\u001b[0m\u001b[1;33m\u001b[0m\u001b[1;33m\u001b[0m\u001b[0m\n\u001b[1;32m----> 3\u001b[1;33m \u001b[0msns\u001b[0m\u001b[1;33m.\u001b[0m\u001b[0mdistplot\u001b[0m\u001b[1;33m(\u001b[0m\u001b[0mtrain\u001b[0m\u001b[1;33m[\u001b[0m\u001b[1;34m'price'\u001b[0m\u001b[1;33m]\u001b[0m\u001b[1;33m,\u001b[0m \u001b[0max\u001b[0m\u001b[1;33m=\u001b[0m\u001b[0max\u001b[0m\u001b[1;33m[\u001b[0m\u001b[1;36m0\u001b[0m\u001b[1;33m]\u001b[0m\u001b[1;33m)\u001b[0m\u001b[1;33m\u001b[0m\u001b[1;33m\u001b[0m\u001b[0m\n\u001b[0m\u001b[0;32m      4\u001b[0m \u001b[0max\u001b[0m\u001b[1;33m[\u001b[0m\u001b[1;36m0\u001b[0m\u001b[1;33m]\u001b[0m\u001b[1;33m.\u001b[0m\u001b[0mset_title\u001b[0m\u001b[1;33m(\u001b[0m\u001b[1;34m'Price Distribution'\u001b[0m\u001b[1;33m)\u001b[0m\u001b[1;33m\u001b[0m\u001b[1;33m\u001b[0m\u001b[0m\n\u001b[0;32m      5\u001b[0m \u001b[0mplt\u001b[0m\u001b[1;33m.\u001b[0m\u001b[0mxlim\u001b[0m\u001b[1;33m(\u001b[0m\u001b[1;33m)\u001b[0m\u001b[1;33m\u001b[0m\u001b[1;33m\u001b[0m\u001b[0m\n",
      "\u001b[1;31mNameError\u001b[0m: name 'train' is not defined"
     ]
    },
    {
     "data": {
      "image/png": "[encoded data removed]",
      "text/plain": [
       "<Figure size 1008x432 with 2 Axes>"
      ]
     },
     "metadata": {
      "needs_background": "light"
     },
     "output_type": "display_data"
    }
   ],
   "source": [
    "# Knowing the Price variable\n",
    "f, ax = plt.subplots(1, 2, figsize = (14, 6))\n",
    "sns.distplot(train['price'], ax=ax[0])\n",
    "ax[0].set_title('Price Distribution')\n",
    "plt.xlim()\n",
    "\n",
    "sns.scatterplot(range(train.shape[0]), train['price'].sort_values(), ax=ax[1], marker=\"x\")\n",
    "ax[1].set_title('Price Curve Distribution', fontsize=15)\n",
    "\n",
    "plt.show()"
   ]
  },
  {
   "cell_type": "code",
   "execution_count": null,
   "metadata": {},
   "outputs": [],
   "source": [
    "[bean for bean in beans if bean.type == 'coffee']"
   ]
  }
 ],
 "metadata": {
  "kernelspec": {
   "display_name": "Python 3",
   "language": "python",
   "name": "python3"
  },
  "language_info": {
   "codemirror_mode": {
    "name": "ipython",
    "version": 3
   },
   "file_extension": ".py",
   "mimetype": "text/x-python",
   "name": "python",
   "nbconvert_exporter": "python",
   "pygments_lexer": "ipython3",
   "version": "3.7.3"
  }
 },
 "nbformat": 4,
 "nbformat_minor": 2
}
