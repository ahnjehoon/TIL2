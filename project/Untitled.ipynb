{
 "cells": [
  {
   "cell_type": "code",
   "execution_count": 1,
   "metadata": {},
   "outputs": [],
   "source": [
    "import pandas as pd\n",
    "import numpy as np"
   ]
  },
  {
   "cell_type": "code",
   "execution_count": 2,
   "metadata": {},
   "outputs": [],
   "source": [
    "df = pd.read_csv('sales.csv')"
   ]
  },
  {
   "cell_type": "code",
   "execution_count": 3,
   "metadata": {},
   "outputs": [],
   "source": [
    "# 대충 10000개로 쪼개서 테스트\n",
    "df = df.iloc[:10000]\n",
    "# df2 = df.iloc[:10000]\n",
    "# df2.shape\n",
    "# df2.head(5)"
   ]
  },
  {
   "cell_type": "code",
   "execution_count": 4,
   "metadata": {
    "scrolled": true
   },
   "outputs": [],
   "source": [
    "df['date'] = df['date'].apply(lambda x: x[6:10] + x[3:5] + x[0:2])\n",
    "df = df.loc[(df['date_block_num'] == 0) & (df['date_block_num'] != 1)].sort_values(by='date', ascending=False)"
   ]
  },
  {
   "cell_type": "code",
   "execution_count": 13,
   "metadata": {},
   "outputs": [],
   "source": [
    "판매 = df.iloc[np.where(df['item_cnt_day'] != -1)]\n",
    "환불 = df.iloc[np.where(df['item_cnt_day'] == -1)]"
   ]
  },
  {
   "cell_type": "code",
   "execution_count": 14,
   "metadata": {},
   "outputs": [],
   "source": [
    "eee = pd.DataFrame(columns=df.columns.values)\n",
    "eee['idx'] = ''"
   ]
  },
  {
   "cell_type": "code",
   "execution_count": 7,
   "metadata": {},
   "outputs": [
    {
     "name": "stderr",
     "output_type": "stream",
     "text": [
      "C:\\ProgramData\\Anaconda3\\lib\\site-packages\\ipykernel_launcher.py:11: SettingWithCopyWarning: \n",
      "A value is trying to be set on a copy of a slice from a DataFrame.\n",
      "Try using .loc[row_indexer,col_indexer] = value instead\n",
      "\n",
      "See the caveats in the documentation: http://pandas.pydata.org/pandas-docs/stable/indexing.html#indexing-view-versus-copy\n",
      "  # This is added back by InteractiveShellApp.init_path()\n"
     ]
    }
   ],
   "source": [
    "date = 환불['date'].values\n",
    "shop_id = 환불['shop_id'].values\n",
    "item_id = 환불['item_id'].values\n",
    "\n",
    "for i in range(len(환불)):\n",
    "    temp_idx = np.where((판매['shop_id'] == shop_id[i]) & (판매['item_id'] == item_id[i]) & (판매['date'] <= date[i]))[0]\n",
    "    \n",
    "    # 아무런 값이 없을 때\n",
    "    if len(temp_idx) == 0:\n",
    "        temp = 환불.iloc[[i]]\n",
    "        temp['idx'] = ''\n",
    "        eee = eee.append(temp)\n",
    "    # 판매데이터 안에 값이 있을 때\n",
    "    else:\n",
    "        temp = 판매.loc[[temp_idx[0]]]\n",
    "        판매 = 판매.drop(temp_idx[0])\n",
    "        temp['idx'] = temp.name\n",
    "        eee = eee.append(temp)"
   ]
  }
 ],
 "metadata": {
  "kernelspec": {
   "display_name": "Python 3",
   "language": "python",
   "name": "python3"
  },
  "language_info": {
   "codemirror_mode": {
    "name": "ipython",
    "version": 3
   },
   "file_extension": ".py",
   "mimetype": "text/x-python",
   "name": "python",
   "nbconvert_exporter": "python",
   "pygments_lexer": "ipython3",
   "version": "3.7.3"
  }
 },
 "nbformat": 4,
 "nbformat_minor": 2
}
