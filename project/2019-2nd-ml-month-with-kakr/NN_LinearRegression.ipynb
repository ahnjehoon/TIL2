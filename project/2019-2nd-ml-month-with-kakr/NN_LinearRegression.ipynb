{
 "cells": [
  {
   "cell_type": "code",
   "execution_count": 1,
   "metadata": {},
   "outputs": [
    {
     "name": "stderr",
     "output_type": "stream",
     "text": [
      "C:\\ProgramData\\Anaconda3\\lib\\site-packages\\h5py\\__init__.py:36: FutureWarning: Conversion of the second argument of issubdtype from `float` to `np.floating` is deprecated. In future, it will be treated as `np.float64 == np.dtype(float).type`.\n",
      "  from ._conv import register_converters as _register_converters\n"
     ]
    }
   ],
   "source": [
    "import tensorflow as tf\n",
    "import pandas as pd\n",
    "import numpy as np\n",
    "from sklearn.preprocessing import normalize\n",
    "from sklearn.model_selection import train_test_split"
   ]
  },
  {
   "cell_type": "code",
   "execution_count": 2,
   "metadata": {},
   "outputs": [],
   "source": [
    "df_train = pd.read_csv(\"train.csv\")\n",
    "df_test = pd.read_csv(\"test.csv\")"
   ]
  },
  {
   "cell_type": "markdown",
   "metadata": {},
   "source": [
    "### 데이터 전처리"
   ]
  },
  {
   "cell_type": "code",
   "execution_count": 3,
   "metadata": {},
   "outputs": [
    {
     "data": {
      "text/plain": [
       "array(['201410', '201502', '201406', '201501', '201504', '201405',\n",
       "       '201503', '201407', '201412', '201408', '201411', '201409',\n",
       "       '201505'], dtype=object)"
      ]
     },
     "execution_count": 3,
     "metadata": {},
     "output_type": "execute_result"
    }
   ],
   "source": [
    "# 날짜값 변경\n",
    "def datePreprocessing(text):\n",
    "    return text[0:6]\n",
    "df_train['date'] = df_train['date'].apply(datePreprocessing)\n",
    "\n",
    "# 제대로 됬나 확인\n",
    "df_train['date'].unique()"
   ]
  },
  {
   "cell_type": "code",
   "execution_count": 4,
   "metadata": {},
   "outputs": [
    {
     "data": {
      "text/plain": [
       "(15035, 21)"
      ]
     },
     "execution_count": 4,
     "metadata": {},
     "output_type": "execute_result"
    }
   ],
   "source": [
    "df_train.shape"
   ]
  },
  {
   "cell_type": "code",
   "execution_count": 5,
   "metadata": {},
   "outputs": [
    {
     "name": "stdout",
     "output_type": "stream",
     "text": [
      "(10524, 19)\n",
      "(4511, 19)\n",
      "(10524, 1)\n",
      "(4511, 1)\n"
     ]
    }
   ],
   "source": [
    "X = normalize(pd.concat([df_train.iloc[:,[1]], df_train.iloc[:,3:21]], axis=1))\n",
    "y = df_train.iloc[:,[2]]\n",
    "X_train, X_test, y_train, y_test = train_test_split(X, y, test_size=0.3, random_state=123)\n",
    "print(X_train.shape)\n",
    "print(X_test.shape)\n",
    "print(y_train.shape)\n",
    "print(y_test.shape)"
   ]
  },
  {
   "cell_type": "code",
   "execution_count": 6,
   "metadata": {},
   "outputs": [],
   "source": [
    "X_ph = tf.placeholder(tf.float32, shape=(None,X_train.shape[1]))\n",
    "y_ph = tf.placeholder(tf.float32, shape=(None,1))\n",
    "# hidden 1\n",
    "w1 = tf.Variable(tf.random_normal([X_train.shape[1],15]))\n",
    "b1 = tf.Variable(tf.zeros([15]))\n",
    "hidden1 = tf.matmul(X_ph, w1) + b1\n",
    "\n",
    "# hidden 2\n",
    "w2 = tf.Variable(tf.random_normal([15,10]))\n",
    "b2 = tf.Variable(tf.zeros([10]))\n",
    "hidden2 = tf.matmul(hidden1, w2) + b2\n",
    "\n",
    "# hidden 3\n",
    "w3 = tf.Variable(tf.random_normal([10,5]))\n",
    "b3 = tf.Variable(tf.zeros([5]))\n",
    "hidden3 = tf.matmul(hidden2, w3) + b3\n",
    "\n",
    "# output layer\n",
    "W = tf.Variable(tf.random_normal([5,1]))\n",
    "b = tf.Variable(tf.zeros([1]))\n",
    "y_model = tf.matmul(hidden3, W) + b"
   ]
  },
  {
   "cell_type": "code",
   "execution_count": 7,
   "metadata": {},
   "outputs": [],
   "source": [
    "train_size = X_train.shape[0]\n",
    "learn_rate = 0.05\n",
    "batch_size = 30\n",
    "epoch = 20000\n",
    "\n",
    "loss = tf.reduce_mean(tf.square(y_model - y_ph))\n",
    "optimizer = tf.train.AdamOptimizer(learning_rate = learn_rate)\n",
    "train = optimizer.minimize(loss)\n",
    "init = tf.global_variables_initializer()"
   ]
  },
  {
   "cell_type": "code",
   "execution_count": 8,
   "metadata": {},
   "outputs": [
    {
     "name": "stdout",
     "output_type": "stream",
     "text": [
      "epoch = 5000        rmse = 259607.96875\n",
      "epoch = 10000        rmse = 253216.125\n",
      "epoch = 15000        rmse = 255736.5\n",
      "epoch = 20000        rmse = 254293.46875\n",
      "insample MSE = 64665165824.0\n",
      "insample RMSE = 254293.46875\n",
      "outsample MSE = 74468425728.0\n",
      "outsample RMSE = 272889.03125\n"
     ]
    }
   ],
   "source": [
    "with tf.Session() as sess:\n",
    "    sess.run(init)\n",
    "    for i in range(epoch):\n",
    "        rand_idx = np.random.randint(0, train_size, batch_size)\n",
    "        rand_feed = {X_ph:X_train[rand_idx,:], y_ph:y_train.values[rand_idx,:]}\n",
    "        sess.run(train,feed_dict=rand_feed)\n",
    "        \n",
    "        train_feed = {X_ph:X_train, y_ph:y_train}\n",
    "        rmse = np.sqrt(sess.run(loss, feed_dict=train_feed))\n",
    "        if (i+1) % 5000 == 0 : print(f'epoch = {i + 1}        rmse = {rmse}')\n",
    "    train_feed = {X_ph:X_train, y_ph:y_train}\n",
    "    test_feed = {X_ph:X_test, y_ph:y_test}\n",
    "    \n",
    "    inmse  = sess.run(loss, feed_dict=train_feed)\n",
    "    outmse = sess.run(loss, feed_dict=test_feed)\n",
    "        \n",
    "    print(f'insample MSE = {inmse}')\n",
    "    print(f'insample RMSE = {np.sqrt(inmse)}')\n",
    "    print(f'outsample MSE = {outmse}')\n",
    "    print(f'outsample RMSE = {np.sqrt(outmse)}')\n"
   ]
  },
  {
   "cell_type": "code",
   "execution_count": null,
   "metadata": {},
   "outputs": [],
   "source": []
  }
 ],
 "metadata": {
  "kernelspec": {
   "display_name": "Python 3",
   "language": "python",
   "name": "python3"
  },
  "language_info": {
   "codemirror_mode": {
    "name": "ipython",
    "version": 3
   },
   "file_extension": ".py",
   "mimetype": "text/x-python",
   "name": "python",
   "nbconvert_exporter": "python",
   "pygments_lexer": "ipython3",
   "version": "3.7.3"
  }
 },
 "nbformat": 4,
 "nbformat_minor": 2
}
