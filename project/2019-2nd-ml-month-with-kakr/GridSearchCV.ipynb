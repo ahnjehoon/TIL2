{
 "cells": [
  {
   "cell_type": "code",
   "execution_count": 1,
   "metadata": {},
   "outputs": [],
   "source": [
    "import warnings\n",
    "warnings.filterwarnings('ignore')\n",
    "import pandas as pd\n",
    "import numpy as np"
   ]
  },
  {
   "cell_type": "code",
   "execution_count": 2,
   "metadata": {},
   "outputs": [],
   "source": [
    "df_train = pd.read_csv(\"train.csv\")\n",
    "df_test = pd.read_csv(\"test.csv\")"
   ]
  },
  {
   "cell_type": "markdown",
   "metadata": {},
   "source": [
    "## 데이터 수정"
   ]
  },
  {
   "cell_type": "code",
   "execution_count": 3,
   "metadata": {},
   "outputs": [],
   "source": [
    "X_train = df_train.drop(['id', 'price'], axis=1)\n",
    "y_train = np.log1p(df_train['price'])\n",
    "X_test = df_test.drop(['id'], axis=1)"
   ]
  },
  {
   "cell_type": "code",
   "execution_count": 4,
   "metadata": {},
   "outputs": [],
   "source": [
    "# Adding features\n",
    "for df in [X_train, X_test]:\n",
    "    df['date(new)'] = df['date'].apply(lambda x: int(x[4:8])+800 if x[:4] == '2015' else int(x[4:8])-400)\n",
    "    df['how_old'] = df['date'].apply(lambda x: x[:4]).astype(int) - df[['yr_built', 'yr_renovated']].max(axis=1)\n",
    "    del df['date']\n",
    "    del df['yr_renovated']\n",
    "    df['yr_built'] = df['yr_built'] - 1900\n",
    "    df['sqft_floor'] = df['sqft_above'] / df['floors']\n",
    "    df['floor_area_ratio'] = df['sqft_living'] / df['sqft_lot']\n",
    "    del df['sqft_lot15']"
   ]
  },
  {
   "cell_type": "code",
   "execution_count": 5,
   "metadata": {},
   "outputs": [],
   "source": [
    "# Log Scaling\n",
    "log_features = ['bedrooms', 'bathrooms', 'sqft_lot', 'sqft_living', 'sqft_above', 'sqft_basement', 'sqft_living15', 'sqft_floor', 'floor_area_ratio', 'floor_area_ratio']\n",
    "for feature in log_features:\n",
    "    for df in [X_train, X_test]:\n",
    "        df[feature] = np.log1p(df[feature])"
   ]
  },
  {
   "cell_type": "code",
   "execution_count": 6,
   "metadata": {},
   "outputs": [],
   "source": [
    "from sklearn.model_selection import KFold, cross_val_score, cross_val_predict, RandomizedSearchCV, GridSearchCV, StratifiedKFold\n",
    "import xgboost as xgb"
   ]
  },
  {
   "cell_type": "code",
   "execution_count": 7,
   "metadata": {},
   "outputs": [],
   "source": [
    "# feval function에 사용하기 위해\n",
    "def rmse_exp(predictions, dmat):\n",
    "    labels = dmat.get_label()\n",
    "    error = np.expm1(predictions) - np.expm1(labels)\n",
    "    squared_error = np.square(error)\n",
    "    mean = np.mean(squared_error)\n",
    "    return ('rmse_exp', np.sqrt(mean))"
   ]
  },
  {
   "cell_type": "code",
   "execution_count": 15,
   "metadata": {},
   "outputs": [],
   "source": [
    "xgb_model = xgb.XGBRegressor()"
   ]
  },
  {
   "cell_type": "code",
   "execution_count": 16,
   "metadata": {},
   "outputs": [],
   "source": [
    "params = {\n",
    "    'learning_rate':[0.5, 0.1, 0.05, 0.01]\n",
    "    ,'n_estimators':[3000]\n",
    "    ,'num_boost_round':[1000, 3000, 5000, 10000]\n",
    "    ,'early_stopping_rounds':[50, 100, 500, 1000]\n",
    "    ,'max_depth':[5, 10, 30, 50]\n",
    "    ,'objective': ['reg:linear']\n",
    "    ,'eval_metric': ['rmse']\n",
    "    ,'silent': [True]\n",
    "    ,'subsample':[0.7]\n",
    "}"
   ]
  },
  {
   "cell_type": "code",
   "execution_count": 19,
   "metadata": {},
   "outputs": [],
   "source": [
    "dtrain = xgb.DMatrix(X_train, y_train)\n",
    "dtest = xgb.DMatrix(X_test)"
   ]
  },
  {
   "cell_type": "code",
   "execution_count": null,
   "metadata": {},
   "outputs": [
    {
     "name": "stdout",
     "output_type": "stream",
     "text": [
      "Fitting 5 folds for each of 256 candidates, totalling 1280 fits\n"
     ]
    },
    {
     "name": "stderr",
     "output_type": "stream",
     "text": [
      "[Parallel(n_jobs=4)]: Using backend LokyBackend with 4 concurrent workers.\n",
      "[Parallel(n_jobs=4)]: Done  33 tasks      | elapsed:  7.2min\n",
      "[Parallel(n_jobs=4)]: Done 154 tasks      | elapsed: 32.1min\n",
      "[Parallel(n_jobs=4)]: Done 357 tasks      | elapsed: 144.4min\n"
     ]
    }
   ],
   "source": [
    "folds = 3\n",
    "param_comb = 5\n",
    "clf = GridSearchCV(xgb_model\n",
    "                   ,params\n",
    "                   ,n_jobs=4\n",
    "                   ,cv=5\n",
    "                   ,verbose=2, refit=True)\n",
    "\n",
    "clf.fit(X_train, y_train)"
   ]
  },
  {
   "cell_type": "code",
   "execution_count": null,
   "metadata": {},
   "outputs": [],
   "source": [
    "best_est = clf.best_estimator_\n",
    "print(best_est)"
   ]
  },
  {
   "cell_type": "code",
   "execution_count": null,
   "metadata": {},
   "outputs": [],
   "source": []
  }
 ],
 "metadata": {
  "kernelspec": {
   "display_name": "Python 3",
   "language": "python",
   "name": "python3"
  },
  "language_info": {
   "codemirror_mode": {
    "name": "ipython",
    "version": 3
   },
   "file_extension": ".py",
   "mimetype": "text/x-python",
   "name": "python",
   "nbconvert_exporter": "python",
   "pygments_lexer": "ipython3",
   "version": "3.7.3"
  }
 },
 "nbformat": 4,
 "nbformat_minor": 2
}
