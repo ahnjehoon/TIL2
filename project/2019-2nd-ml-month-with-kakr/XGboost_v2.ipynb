{
 "cells": [
  {
   "cell_type": "code",
   "execution_count": 1,
   "metadata": {},
   "outputs": [],
   "source": [
    "import pandas as pd\n",
    "import numpy as np"
   ]
  },
  {
   "cell_type": "code",
   "execution_count": 2,
   "metadata": {},
   "outputs": [],
   "source": [
    "df_train = pd.read_csv(\"train.csv\")\n",
    "df_test = pd.read_csv(\"test.csv\")"
   ]
  },
  {
   "cell_type": "markdown",
   "metadata": {},
   "source": [
    "## 데이터 수정"
   ]
  },
  {
   "cell_type": "code",
   "execution_count": 3,
   "metadata": {},
   "outputs": [],
   "source": [
    "for df in [df_train,df_test]:\n",
    "    # df['date'] = df['date'].apply(lambda x: x[0:8])\n",
    "    # 일짜까지 되있는걸 월까지\n",
    "    df['date'] = df['date'].apply(lambda x: x[0:6])\n",
    "    df['yr_renovated'] = df['yr_renovated'].apply(lambda x: np.nan if x == 0 else x)\n",
    "    df['yr_renovated'] = df['yr_renovated'].fillna(df['yr_built'])"
   ]
  },
  {
   "cell_type": "code",
   "execution_count": 4,
   "metadata": {},
   "outputs": [],
   "source": [
    "for df in [df_train,df_test]:\n",
    "    df['total_rooms'] = df['bedrooms'] + df['bathrooms']\n",
    "    df['sqft_ratio'] = df['sqft_living'] / df['sqft_lot']\n",
    "    df['sqft_total_size'] = df['sqft_above'] + df['sqft_basement']\n",
    "    df['sqft_ratio15'] = df['sqft_living15'] / df['sqft_lot15'] \n",
    "    df['is_renovated'] = df['yr_renovated'] - df['yr_built']\n",
    "    df['is_renovated'] = df['is_renovated'].apply(lambda x: 0 if x == 0 else 1)\n",
    "    df['date'] = df['date'].astype('int')"
   ]
  },
  {
   "cell_type": "code",
   "execution_count": 5,
   "metadata": {},
   "outputs": [],
   "source": [
    "df_train['per_price'] = df_train['price']/df_train['sqft_total_size']\n",
    "zipcode_price = df_train.groupby(['zipcode'])['per_price'].agg({'mean','var'}).reset_index()\n",
    "df_train = pd.merge(df_train,zipcode_price,how='left',on='zipcode')\n",
    "df_test = pd.merge(df_test,zipcode_price,how='left',on='zipcode')\n",
    "\n",
    "for df in [df_train,df_test]:\n",
    "    df['mean'] = df['mean'] * df['sqft_total_size']\n",
    "    df['var'] = df['var'] * df['sqft_total_size']"
   ]
  },
  {
   "cell_type": "markdown",
   "metadata": {},
   "source": [
    "### 월별 + ZIPCODE를 활용한 더미변수 추가하여 테스트\n",
    "위도 + 경도로 위치값을 대신하고 싶었지만 어떻게 구역을 나눠야 할지 모르기때문에 ZIPCODE로 대신함"
   ]
  },
  {
   "cell_type": "code",
   "execution_count": 6,
   "metadata": {},
   "outputs": [
    {
     "name": "stderr",
     "output_type": "stream",
     "text": [
      "C:\\Users\\PC\\Anaconda3\\lib\\site-packages\\ipykernel_launcher.py:2: FutureWarning: Sorting because non-concatenation axis is not aligned. A future version\n",
      "of pandas will change to not sort by default.\n",
      "\n",
      "To accept the future behavior, pass 'sort=False'.\n",
      "\n",
      "To retain the current behavior and silence the warning, pass 'sort=True'.\n",
      "\n",
      "  \n"
     ]
    }
   ],
   "source": [
    "df_train_length = len(df_train)\n",
    "concat_dataset = pd.concat(objs=[df_train, df_test], axis=0)\n",
    "dataset_preprocessed = pd.get_dummies(concat_dataset, columns=['date', 'zipcode'])\n",
    "df_train = dataset_preprocessed[:df_train_length]\n",
    "df_test = dataset_preprocessed[df_train_length:]"
   ]
  },
  {
   "cell_type": "markdown",
   "metadata": {},
   "source": [
    "## XGboost"
   ]
  },
  {
   "cell_type": "code",
   "execution_count": 7,
   "metadata": {},
   "outputs": [],
   "source": [
    "from sklearn.model_selection import KFold, cross_val_score, cross_val_predict\n",
    "import xgboost as xgb\n",
    "from xgboost import XGBClassifier"
   ]
  },
  {
   "cell_type": "code",
   "execution_count": 8,
   "metadata": {},
   "outputs": [],
   "source": [
    "train_columns = [c for c in df_train.columns if c not in ['id','price','per_price']]\n",
    "y_reg = df_train['price']"
   ]
  },
  {
   "cell_type": "code",
   "execution_count": 9,
   "metadata": {},
   "outputs": [
    {
     "name": "stdout",
     "output_type": "stream",
     "text": [
      "[0]\tvalidation_0-rmse:645488\tvalidation_1-rmse:689314\n"
     ]
    },
    {
     "name": "stderr",
     "output_type": "stream",
     "text": [
      "C:\\Users\\PC\\Anaconda3\\lib\\site-packages\\xgboost\\core.py:587: FutureWarning: Series.base is deprecated and will be removed in a future version\n",
      "  if getattr(data, 'base', None) is not None and \\\n"
     ]
    },
    {
     "name": "stdout",
     "output_type": "stream",
     "text": [
      "[1000]\tvalidation_0-rmse:101797\tvalidation_1-rmse:129228\n",
      "[2000]\tvalidation_0-rmse:91135\tvalidation_1-rmse:124453\n",
      "[3000]\tvalidation_0-rmse:85431.1\tvalidation_1-rmse:122122\n",
      "[4000]\tvalidation_0-rmse:80812\tvalidation_1-rmse:120972\n",
      "[5000]\tvalidation_0-rmse:77188.8\tvalidation_1-rmse:119927\n",
      "[6000]\tvalidation_0-rmse:74155.8\tvalidation_1-rmse:118732\n",
      "[7000]\tvalidation_0-rmse:71602.9\tvalidation_1-rmse:117646\n",
      "[8000]\tvalidation_0-rmse:69361\tvalidation_1-rmse:116653\n",
      "[9000]\tvalidation_0-rmse:67342.1\tvalidation_1-rmse:116025\n",
      "[9999]\tvalidation_0-rmse:65498.3\tvalidation_1-rmse:115151\n",
      "[0]\tvalidation_0-rmse:645874\tvalidation_1-rmse:686032\n",
      "[1000]\tvalidation_0-rmse:102493\tvalidation_1-rmse:139569\n",
      "[2000]\tvalidation_0-rmse:92270.6\tvalidation_1-rmse:131216\n",
      "[3000]\tvalidation_0-rmse:86263.7\tvalidation_1-rmse:127779\n",
      "[4000]\tvalidation_0-rmse:81381.3\tvalidation_1-rmse:125916\n",
      "[5000]\tvalidation_0-rmse:77570\tvalidation_1-rmse:125053\n",
      "[6000]\tvalidation_0-rmse:74433.6\tvalidation_1-rmse:124380\n",
      "[7000]\tvalidation_0-rmse:71686.4\tvalidation_1-rmse:123534\n",
      "[8000]\tvalidation_0-rmse:69360.4\tvalidation_1-rmse:122699\n",
      "[9000]\tvalidation_0-rmse:67285.3\tvalidation_1-rmse:122197\n",
      "[9999]\tvalidation_0-rmse:65400.9\tvalidation_1-rmse:121762\n",
      "[0]\tvalidation_0-rmse:653362\tvalidation_1-rmse:618553\n",
      "[1000]\tvalidation_0-rmse:104414\tvalidation_1-rmse:113911\n",
      "[2000]\tvalidation_0-rmse:93310.7\tvalidation_1-rmse:108783\n",
      "[3000]\tvalidation_0-rmse:87130.2\tvalidation_1-rmse:107204\n",
      "[4000]\tvalidation_0-rmse:82238.6\tvalidation_1-rmse:106213\n",
      "[5000]\tvalidation_0-rmse:78449.9\tvalidation_1-rmse:105601\n",
      "[6000]\tvalidation_0-rmse:75194.8\tvalidation_1-rmse:105608\n",
      "[7000]\tvalidation_0-rmse:72548.1\tvalidation_1-rmse:105435\n",
      "[8000]\tvalidation_0-rmse:70163.6\tvalidation_1-rmse:105238\n",
      "[9000]\tvalidation_0-rmse:67852.7\tvalidation_1-rmse:105234\n",
      "[9999]\tvalidation_0-rmse:65896.3\tvalidation_1-rmse:105296\n",
      "[0]\tvalidation_0-rmse:648292\tvalidation_1-rmse:665259\n",
      "[1000]\tvalidation_0-rmse:102411\tvalidation_1-rmse:132774\n",
      "[2000]\tvalidation_0-rmse:91427.4\tvalidation_1-rmse:128794\n",
      "[3000]\tvalidation_0-rmse:85335.5\tvalidation_1-rmse:127853\n",
      "[4000]\tvalidation_0-rmse:80589\tvalidation_1-rmse:127508\n",
      "[5000]\tvalidation_0-rmse:76943.3\tvalidation_1-rmse:127332\n",
      "[6000]\tvalidation_0-rmse:73896.5\tvalidation_1-rmse:127586\n",
      "[7000]\tvalidation_0-rmse:71380.8\tvalidation_1-rmse:127452\n",
      "[8000]\tvalidation_0-rmse:69124.1\tvalidation_1-rmse:127416\n",
      "[9000]\tvalidation_0-rmse:67007.7\tvalidation_1-rmse:127567\n",
      "[9999]\tvalidation_0-rmse:65178.9\tvalidation_1-rmse:127694\n",
      "[0]\tvalidation_0-rmse:650170\tvalidation_1-rmse:648616\n",
      "[1000]\tvalidation_0-rmse:103254\tvalidation_1-rmse:124913\n",
      "[2000]\tvalidation_0-rmse:92264.2\tvalidation_1-rmse:119243\n",
      "[3000]\tvalidation_0-rmse:85643.9\tvalidation_1-rmse:116753\n",
      "[4000]\tvalidation_0-rmse:80842.4\tvalidation_1-rmse:115368\n",
      "[5000]\tvalidation_0-rmse:76906.3\tvalidation_1-rmse:114544\n",
      "[6000]\tvalidation_0-rmse:73796\tvalidation_1-rmse:113878\n",
      "[7000]\tvalidation_0-rmse:70986.2\tvalidation_1-rmse:113346\n",
      "[8000]\tvalidation_0-rmse:68650.8\tvalidation_1-rmse:113266\n",
      "[9000]\tvalidation_0-rmse:66450.8\tvalidation_1-rmse:113099\n",
      "[9999]\tvalidation_0-rmse:64566.8\tvalidation_1-rmse:112959\n",
      "[0]\tvalidation_0-rmse:652593\tvalidation_1-rmse:626193\n",
      "[1000]\tvalidation_0-rmse:104012\tvalidation_1-rmse:113627\n",
      "[2000]\tvalidation_0-rmse:93167.6\tvalidation_1-rmse:107540\n",
      "[3000]\tvalidation_0-rmse:87046.3\tvalidation_1-rmse:104807\n",
      "[4000]\tvalidation_0-rmse:82123.1\tvalidation_1-rmse:103345\n",
      "[5000]\tvalidation_0-rmse:78604.7\tvalidation_1-rmse:102429\n",
      "[6000]\tvalidation_0-rmse:75601.9\tvalidation_1-rmse:101664\n",
      "[7000]\tvalidation_0-rmse:72781.9\tvalidation_1-rmse:101213\n",
      "[8000]\tvalidation_0-rmse:70444\tvalidation_1-rmse:101113\n",
      "[9000]\tvalidation_0-rmse:68428.3\tvalidation_1-rmse:100835\n",
      "[9999]\tvalidation_0-rmse:66553.2\tvalidation_1-rmse:100657\n",
      "[0]\tvalidation_0-rmse:648091\tvalidation_1-rmse:666938\n",
      "[1000]\tvalidation_0-rmse:103860\tvalidation_1-rmse:119356\n",
      "[2000]\tvalidation_0-rmse:92542.6\tvalidation_1-rmse:113666\n",
      "[3000]\tvalidation_0-rmse:86565.7\tvalidation_1-rmse:110827\n",
      "[4000]\tvalidation_0-rmse:81774.1\tvalidation_1-rmse:108753\n",
      "[5000]\tvalidation_0-rmse:78045.3\tvalidation_1-rmse:107064\n",
      "[6000]\tvalidation_0-rmse:74812.4\tvalidation_1-rmse:106177\n",
      "[7000]\tvalidation_0-rmse:72131.8\tvalidation_1-rmse:105445\n",
      "[8000]\tvalidation_0-rmse:69900.9\tvalidation_1-rmse:105163\n",
      "[9000]\tvalidation_0-rmse:67888.4\tvalidation_1-rmse:105174\n",
      "[9999]\tvalidation_0-rmse:66139\tvalidation_1-rmse:104974\n",
      "[0]\tvalidation_0-rmse:654303\tvalidation_1-rmse:609867\n",
      "[1000]\tvalidation_0-rmse:104791\tvalidation_1-rmse:102547\n",
      "[2000]\tvalidation_0-rmse:94066.3\tvalidation_1-rmse:97405.1\n",
      "[3000]\tvalidation_0-rmse:87753.5\tvalidation_1-rmse:95607.4\n",
      "[4000]\tvalidation_0-rmse:82643.5\tvalidation_1-rmse:94686.3\n",
      "[5000]\tvalidation_0-rmse:78667.4\tvalidation_1-rmse:94384.9\n",
      "[6000]\tvalidation_0-rmse:75571.1\tvalidation_1-rmse:94667.5\n",
      "[7000]\tvalidation_0-rmse:72686.5\tvalidation_1-rmse:95313.1\n",
      "[8000]\tvalidation_0-rmse:70215.2\tvalidation_1-rmse:95883.5\n",
      "[9000]\tvalidation_0-rmse:68056.9\tvalidation_1-rmse:96562.3\n",
      "[9999]\tvalidation_0-rmse:66219.4\tvalidation_1-rmse:97001.8\n",
      "[0]\tvalidation_0-rmse:651447\tvalidation_1-rmse:636765\n",
      "[1000]\tvalidation_0-rmse:104287\tvalidation_1-rmse:123641\n",
      "[2000]\tvalidation_0-rmse:93492\tvalidation_1-rmse:119351\n",
      "[3000]\tvalidation_0-rmse:87574.7\tvalidation_1-rmse:117064\n",
      "[4000]\tvalidation_0-rmse:82606\tvalidation_1-rmse:115636\n",
      "[5000]\tvalidation_0-rmse:78639.1\tvalidation_1-rmse:114458\n",
      "[6000]\tvalidation_0-rmse:75779.1\tvalidation_1-rmse:113822\n",
      "[7000]\tvalidation_0-rmse:73138\tvalidation_1-rmse:113541\n",
      "[8000]\tvalidation_0-rmse:70676.5\tvalidation_1-rmse:113348\n",
      "[9000]\tvalidation_0-rmse:68498.9\tvalidation_1-rmse:112971\n",
      "[9999]\tvalidation_0-rmse:66554.5\tvalidation_1-rmse:112563\n",
      "[0]\tvalidation_0-rmse:650276\tvalidation_1-rmse:647470\n",
      "[1000]\tvalidation_0-rmse:104286\tvalidation_1-rmse:132404\n",
      "[2000]\tvalidation_0-rmse:93608.6\tvalidation_1-rmse:128792\n",
      "[3000]\tvalidation_0-rmse:87355.2\tvalidation_1-rmse:128150\n",
      "[4000]\tvalidation_0-rmse:82597.8\tvalidation_1-rmse:126217\n",
      "[5000]\tvalidation_0-rmse:78500.7\tvalidation_1-rmse:124975\n",
      "[6000]\tvalidation_0-rmse:75324.8\tvalidation_1-rmse:123585\n",
      "[7000]\tvalidation_0-rmse:72586.6\tvalidation_1-rmse:122918\n",
      "[8000]\tvalidation_0-rmse:69970\tvalidation_1-rmse:122093\n",
      "[9000]\tvalidation_0-rmse:67716.5\tvalidation_1-rmse:121510\n",
      "[9999]\tvalidation_0-rmse:65869.7\tvalidation_1-rmse:120978\n"
     ]
    }
   ],
   "source": [
    "model= xgb.XGBRegressor(\n",
    "    learning_rate=0.01,\n",
    "    n_estimators=10000,\n",
    "    random_state=2019,\n",
    "    num_boost_round=5000, \n",
    "    early_stopping_rounds=4000,\n",
    "    verbose_eval=3000, \n",
    "    show_stdv=False,\n",
    "    max_depth=20, \n",
    "    nthread=5\n",
    ")\n",
    "\n",
    "#prepare fit model with cross-validation\n",
    "folds = KFold(n_splits=10, shuffle=True, random_state=2019)\n",
    "\n",
    "for fold_, (trn_idx, val_idx) in enumerate(folds.split(df_train)):\n",
    "    X_train,X_validation=df_train.iloc[trn_idx][train_columns],df_train.iloc[val_idx][train_columns]\n",
    "    y_train,y_validation=y_reg.iloc[trn_idx],y_reg.iloc[val_idx]\n",
    "    \n",
    "    dtrain = xgb.DMatrix(X_train)\n",
    "    dtarget=xgb.DMatrix(y_train)\n",
    "    dtest = xgb.DMatrix(X_validation)\n",
    "    dtest_target=xgb.DMatrix(y_validation)\n",
    "    \n",
    "    model.fit(X_train,y_train\n",
    "              ,eval_set=[(X_train,y_train),(X_validation,y_validation)]\n",
    "              ,eval_metric='rmse'\n",
    "              ,verbose=1000)"
   ]
  },
  {
   "cell_type": "code",
   "execution_count": 10,
   "metadata": {},
   "outputs": [],
   "source": [
    "predictions=model.predict(df_test[train_columns])\n",
    "\n",
    "submission = pd.read_csv(\"sample_submission.csv\")\n",
    "submission['price']=predictions\n",
    "submission.to_csv('submission.csv',index=False)"
   ]
  },
  {
   "cell_type": "code",
   "execution_count": null,
   "metadata": {},
   "outputs": [],
   "source": []
  }
 ],
 "metadata": {
  "kernelspec": {
   "display_name": "Python 3",
   "language": "python",
   "name": "python3"
  },
  "language_info": {
   "codemirror_mode": {
    "name": "ipython",
    "version": 3
   },
   "file_extension": ".py",
   "mimetype": "text/x-python",
   "name": "python",
   "nbconvert_exporter": "python",
   "pygments_lexer": "ipython3",
   "version": "3.7.1"
  }
 },
 "nbformat": 4,
 "nbformat_minor": 2
}
