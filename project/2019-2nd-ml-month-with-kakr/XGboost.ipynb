{
 "cells": [
  {
   "cell_type": "code",
   "execution_count": 1,
   "metadata": {},
   "outputs": [],
   "source": [
    "import pandas as pd\n",
    "import numpy as np"
   ]
  },
  {
   "cell_type": "code",
   "execution_count": 2,
   "metadata": {},
   "outputs": [],
   "source": [
    "df_train = pd.read_csv(\"train.csv\")\n",
    "df_test = pd.read_csv(\"test.csv\")"
   ]
  },
  {
   "cell_type": "markdown",
   "metadata": {},
   "source": [
    "## 데이터 수정"
   ]
  },
  {
   "cell_type": "code",
   "execution_count": 3,
   "metadata": {},
   "outputs": [],
   "source": [
    "for df in [df_train,df_test]:\n",
    "    df['date'] = df['date'].apply(lambda x: x[0:8])\n",
    "    df['yr_renovated'] = df['yr_renovated'].apply(lambda x: np.nan if x == 0 else x)\n",
    "    df['yr_renovated'] = df['yr_renovated'].fillna(df['yr_built'])"
   ]
  },
  {
   "cell_type": "code",
   "execution_count": 4,
   "metadata": {},
   "outputs": [],
   "source": [
    "for df in [df_train,df_test]:\n",
    "    df['total_rooms'] = df['bedrooms'] + df['bathrooms']\n",
    "    df['sqft_ratio'] = df['sqft_living'] / df['sqft_lot']\n",
    "    df['sqft_total_size'] = df['sqft_above'] + df['sqft_basement']\n",
    "    df['sqft_ratio15'] = df['sqft_living15'] / df['sqft_lot15'] \n",
    "    df['is_renovated'] = df['yr_renovated'] - df['yr_built']\n",
    "    df['is_renovated'] = df['is_renovated'].apply(lambda x: 0 if x == 0 else 1)\n",
    "    df['date'] = df['date'].astype('int')"
   ]
  },
  {
   "cell_type": "code",
   "execution_count": 5,
   "metadata": {},
   "outputs": [],
   "source": [
    "df_train['per_price'] = df_train['price']/df_train['sqft_total_size']\n",
    "zipcode_price = df_train.groupby(['zipcode'])['per_price'].agg({'mean','var'}).reset_index()\n",
    "df_train = pd.merge(df_train,zipcode_price,how='left',on='zipcode')\n",
    "df_test = pd.merge(df_test,zipcode_price,how='left',on='zipcode')\n",
    "\n",
    "for df in [df_train,df_test]:\n",
    "    df['mean'] = df['mean'] * df['sqft_total_size']\n",
    "    df['var'] = df['var'] * df['sqft_total_size']"
   ]
  },
  {
   "cell_type": "markdown",
   "metadata": {},
   "source": [
    "## XGboost"
   ]
  },
  {
   "cell_type": "code",
   "execution_count": 8,
   "metadata": {},
   "outputs": [],
   "source": [
    "from sklearn.model_selection import KFold, cross_val_score, cross_val_predict\n",
    "import xgboost as xgb\n",
    "from xgboost import XGBClassifier"
   ]
  },
  {
   "cell_type": "code",
   "execution_count": 9,
   "metadata": {},
   "outputs": [],
   "source": [
    "train_columns = [c for c in df_train.columns if c not in ['id','price','per_price']]\n",
    "y_reg = df_train['price']"
   ]
  },
  {
   "cell_type": "code",
   "execution_count": 16,
   "metadata": {},
   "outputs": [
    {
     "name": "stdout",
     "output_type": "stream",
     "text": [
      "[0]\tvalidation_0-rmse:645488\tvalidation_1-rmse:689314\n"
     ]
    },
    {
     "name": "stderr",
     "output_type": "stream",
     "text": [
      "C:\\Users\\PC\\Anaconda3\\lib\\site-packages\\xgboost\\core.py:587: FutureWarning: Series.base is deprecated and will be removed in a future version\n",
      "  if getattr(data, 'base', None) is not None and \\\n"
     ]
    },
    {
     "name": "stdout",
     "output_type": "stream",
     "text": [
      "[1000]\tvalidation_0-rmse:100728\tvalidation_1-rmse:130650\n",
      "[2000]\tvalidation_0-rmse:90336\tvalidation_1-rmse:126648\n",
      "[3000]\tvalidation_0-rmse:85256.4\tvalidation_1-rmse:124521\n",
      "[4000]\tvalidation_0-rmse:83472.8\tvalidation_1-rmse:123956\n",
      "[5000]\tvalidation_0-rmse:83286.9\tvalidation_1-rmse:123979\n",
      "[6000]\tvalidation_0-rmse:83254.8\tvalidation_1-rmse:123967\n",
      "[7000]\tvalidation_0-rmse:83251.7\tvalidation_1-rmse:123965\n",
      "[7999]\tvalidation_0-rmse:83243.5\tvalidation_1-rmse:123964\n",
      "[0]\tvalidation_0-rmse:645873\tvalidation_1-rmse:686032\n",
      "[1000]\tvalidation_0-rmse:101789\tvalidation_1-rmse:137135\n",
      "[2000]\tvalidation_0-rmse:91447.3\tvalidation_1-rmse:129753\n",
      "[3000]\tvalidation_0-rmse:85615.5\tvalidation_1-rmse:125927\n",
      "[4000]\tvalidation_0-rmse:81059\tvalidation_1-rmse:124605\n",
      "[5000]\tvalidation_0-rmse:77656\tvalidation_1-rmse:123480\n",
      "[6000]\tvalidation_0-rmse:75557.5\tvalidation_1-rmse:122741\n",
      "[7000]\tvalidation_0-rmse:75046.2\tvalidation_1-rmse:122380\n",
      "[7999]\tvalidation_0-rmse:75024.4\tvalidation_1-rmse:122381\n",
      "[0]\tvalidation_0-rmse:653362\tvalidation_1-rmse:618553\n",
      "[1000]\tvalidation_0-rmse:103478\tvalidation_1-rmse:113620\n",
      "[2000]\tvalidation_0-rmse:92674.5\tvalidation_1-rmse:108238\n",
      "[3000]\tvalidation_0-rmse:87081.3\tvalidation_1-rmse:106926\n",
      "[4000]\tvalidation_0-rmse:84942.8\tvalidation_1-rmse:106721\n",
      "[5000]\tvalidation_0-rmse:83542\tvalidation_1-rmse:106661\n",
      "[6000]\tvalidation_0-rmse:82360.4\tvalidation_1-rmse:106545\n",
      "[7000]\tvalidation_0-rmse:81354.2\tvalidation_1-rmse:106515\n",
      "[7999]\tvalidation_0-rmse:80510.9\tvalidation_1-rmse:106622\n",
      "[0]\tvalidation_0-rmse:648292\tvalidation_1-rmse:665259\n",
      "[1000]\tvalidation_0-rmse:101447\tvalidation_1-rmse:132500\n",
      "[2000]\tvalidation_0-rmse:90911.7\tvalidation_1-rmse:128018\n",
      "[3000]\tvalidation_0-rmse:85079.1\tvalidation_1-rmse:127483\n",
      "[4000]\tvalidation_0-rmse:80892.8\tvalidation_1-rmse:126795\n",
      "[5000]\tvalidation_0-rmse:79496.2\tvalidation_1-rmse:126345\n",
      "[6000]\tvalidation_0-rmse:78911.3\tvalidation_1-rmse:126236\n",
      "[7000]\tvalidation_0-rmse:78717.9\tvalidation_1-rmse:126247\n",
      "[7999]\tvalidation_0-rmse:78691.1\tvalidation_1-rmse:126244\n",
      "[0]\tvalidation_0-rmse:650170\tvalidation_1-rmse:648616\n",
      "[1000]\tvalidation_0-rmse:101911\tvalidation_1-rmse:124879\n",
      "[2000]\tvalidation_0-rmse:91423.4\tvalidation_1-rmse:118638\n",
      "[3000]\tvalidation_0-rmse:85458.4\tvalidation_1-rmse:116632\n",
      "[4000]\tvalidation_0-rmse:81920\tvalidation_1-rmse:116068\n",
      "[5000]\tvalidation_0-rmse:80699.6\tvalidation_1-rmse:115902\n",
      "[6000]\tvalidation_0-rmse:79627.2\tvalidation_1-rmse:115728\n",
      "[7000]\tvalidation_0-rmse:78668.3\tvalidation_1-rmse:115618\n",
      "[7999]\tvalidation_0-rmse:78025.9\tvalidation_1-rmse:115545\n",
      "[0]\tvalidation_0-rmse:652593\tvalidation_1-rmse:626193\n",
      "[1000]\tvalidation_0-rmse:103020\tvalidation_1-rmse:112786\n",
      "[2000]\tvalidation_0-rmse:92896.8\tvalidation_1-rmse:106146\n",
      "[3000]\tvalidation_0-rmse:87322.7\tvalidation_1-rmse:103908\n",
      "[4000]\tvalidation_0-rmse:85564.9\tvalidation_1-rmse:103454\n",
      "[5000]\tvalidation_0-rmse:84165\tvalidation_1-rmse:103138\n",
      "[6000]\tvalidation_0-rmse:82973.7\tvalidation_1-rmse:102894\n",
      "[7000]\tvalidation_0-rmse:81855.3\tvalidation_1-rmse:102630\n",
      "[7999]\tvalidation_0-rmse:80897.7\tvalidation_1-rmse:102365\n",
      "[0]\tvalidation_0-rmse:648091\tvalidation_1-rmse:666938\n",
      "[1000]\tvalidation_0-rmse:102895\tvalidation_1-rmse:117709\n",
      "[2000]\tvalidation_0-rmse:91987.1\tvalidation_1-rmse:113328\n",
      "[3000]\tvalidation_0-rmse:85711\tvalidation_1-rmse:111477\n",
      "[4000]\tvalidation_0-rmse:81097.9\tvalidation_1-rmse:110143\n",
      "[5000]\tvalidation_0-rmse:77718.8\tvalidation_1-rmse:108542\n",
      "[6000]\tvalidation_0-rmse:75485.6\tvalidation_1-rmse:108108\n",
      "[7000]\tvalidation_0-rmse:74148.3\tvalidation_1-rmse:107838\n",
      "[7999]\tvalidation_0-rmse:74032.9\tvalidation_1-rmse:107858\n",
      "[0]\tvalidation_0-rmse:654303\tvalidation_1-rmse:609867\n",
      "[1000]\tvalidation_0-rmse:103807\tvalidation_1-rmse:102348\n",
      "[2000]\tvalidation_0-rmse:93301.6\tvalidation_1-rmse:96775.8\n",
      "[3000]\tvalidation_0-rmse:86891.6\tvalidation_1-rmse:94941.8\n",
      "[4000]\tvalidation_0-rmse:81921.9\tvalidation_1-rmse:94983.9\n",
      "[5000]\tvalidation_0-rmse:78559\tvalidation_1-rmse:94981.9\n",
      "[6000]\tvalidation_0-rmse:75698.6\tvalidation_1-rmse:94733.2\n",
      "[7000]\tvalidation_0-rmse:73320.2\tvalidation_1-rmse:94681.9\n",
      "[7999]\tvalidation_0-rmse:71628\tvalidation_1-rmse:94855.7\n",
      "[0]\tvalidation_0-rmse:651447\tvalidation_1-rmse:636765\n",
      "[1000]\tvalidation_0-rmse:103631\tvalidation_1-rmse:120953\n",
      "[2000]\tvalidation_0-rmse:92939.4\tvalidation_1-rmse:116011\n",
      "[3000]\tvalidation_0-rmse:87092.7\tvalidation_1-rmse:115122\n",
      "[4000]\tvalidation_0-rmse:82493.3\tvalidation_1-rmse:114162\n",
      "[5000]\tvalidation_0-rmse:78856\tvalidation_1-rmse:112995\n",
      "[6000]\tvalidation_0-rmse:77767\tvalidation_1-rmse:112835\n",
      "[7000]\tvalidation_0-rmse:77751.7\tvalidation_1-rmse:112836\n",
      "[7999]\tvalidation_0-rmse:77751.6\tvalidation_1-rmse:112838\n",
      "[0]\tvalidation_0-rmse:650276\tvalidation_1-rmse:647470\n",
      "[1000]\tvalidation_0-rmse:103037\tvalidation_1-rmse:139456\n",
      "[2000]\tvalidation_0-rmse:92724.6\tvalidation_1-rmse:135864\n",
      "[3000]\tvalidation_0-rmse:86798.8\tvalidation_1-rmse:134734\n",
      "[4000]\tvalidation_0-rmse:83597.6\tvalidation_1-rmse:133907\n",
      "[5000]\tvalidation_0-rmse:83196.6\tvalidation_1-rmse:133632\n",
      "[6000]\tvalidation_0-rmse:83166.1\tvalidation_1-rmse:133626\n",
      "[7000]\tvalidation_0-rmse:83159.5\tvalidation_1-rmse:133634\n",
      "[7999]\tvalidation_0-rmse:83157\tvalidation_1-rmse:133638\n"
     ]
    }
   ],
   "source": [
    "#prepare fit model with cross-validation\n",
    "folds = KFold(n_splits=10, shuffle=True, random_state=2019)\n",
    "\n",
    "for fold_, (trn_idx, val_idx) in enumerate(folds.split(df_train)):\n",
    "    X_train,X_validation=df_train.iloc[trn_idx][train_columns],df_train.iloc[val_idx][train_columns]\n",
    "    y_train,y_validation=y_reg.iloc[trn_idx],y_reg.iloc[val_idx]\n",
    "    \n",
    "    dtrain = xgb.DMatrix(X_train)\n",
    "    dtarget=xgb.DMatrix(y_train)\n",
    "    dtest = xgb.DMatrix(X_validation)\n",
    "    dtest_target=xgb.DMatrix(y_validation)\n",
    "    \n",
    "    model= xgb.XGBRegressor(\n",
    "        learning_rate=0.01,\n",
    "        n_estimators=8000,\n",
    "        random_state=2019,\n",
    "        num_boost_round=1000, \n",
    "        early_stopping_rounds=2000,\n",
    "        verbose_eval=1000, \n",
    "        show_stdv=False,\n",
    "        nthread=5\n",
    "    )\n",
    "    \n",
    "    model.fit(X_train,y_train\n",
    "              ,eval_set=[(X_train,y_train),(X_validation,y_validation)]\n",
    "              ,eval_metric='rmse'\n",
    "              ,verbose=1000)"
   ]
  },
  {
   "cell_type": "code",
   "execution_count": 11,
   "metadata": {},
   "outputs": [],
   "source": [
    "predictions=model.predict(df_test[train_columns])"
   ]
  },
  {
   "cell_type": "code",
   "execution_count": 15,
   "metadata": {},
   "outputs": [],
   "source": [
    "submission = pd.read_csv(\"sample_submission.csv\")\n",
    "submission['price']=predictions\n",
    "submission.to_csv('submission.csv',index=False)"
   ]
  },
  {
   "cell_type": "code",
   "execution_count": null,
   "metadata": {},
   "outputs": [],
   "source": []
  }
 ],
 "metadata": {
  "kernelspec": {
   "display_name": "Python 3",
   "language": "python",
   "name": "python3"
  },
  "language_info": {
   "codemirror_mode": {
    "name": "ipython",
    "version": 3
   },
   "file_extension": ".py",
   "mimetype": "text/x-python",
   "name": "python",
   "nbconvert_exporter": "python",
   "pygments_lexer": "ipython3",
   "version": "3.7.3"
  }
 },
 "nbformat": 4,
 "nbformat_minor": 2
}
