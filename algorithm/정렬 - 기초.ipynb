{
 "cells": [
  {
   "cell_type": "markdown",
   "metadata": {},
   "source": [
    "# 정렬"
   ]
  },
  {
   "cell_type": "markdown",
   "metadata": {},
   "source": [
    "### 선택정렬\n",
    "- O(n^2)"
   ]
  },
  {
   "cell_type": "code",
   "execution_count": 8,
   "metadata": {},
   "outputs": [
    {
     "name": "stdout",
     "output_type": "stream",
     "text": [
      "[5, 4, 3, 2, 1]\n"
     ]
    }
   ],
   "source": [
    "# 내림차순 선택 정렬\n",
    "# 입력: 리스트 a\n",
    "# 출력: 없음(입력으로 주어진 a가 정렬됨)\n",
    "\n",
    "def sel_sort(a):\n",
    "    for i in range(0, len(a) - 1):\n",
    "        max_idx = i\n",
    "        for j in range(i + 1, len(a)):\n",
    "            if a[j] > a[max_idx]:  # 낮은순번부터 정렬하려면 부등호 방향 뒤집기\n",
    "                max_idx = j\n",
    "        a[i], a[max_idx] = a[max_idx], a[i]\n",
    "\n",
    "d = [2, 4, 5, 1, 3]\n",
    "sel_sort(d)\n",
    "print(d)"
   ]
  },
  {
   "cell_type": "markdown",
   "metadata": {},
   "source": [
    "### 삽입정렬\n",
    "- 하나씩 빼서 새로운 배열에 박아넣으면서 비교해 정렬하는 방법(내 기준 기억하기 쉽게)\n",
    "- 실제로는 새로운 배열에 넣지는 않음"
   ]
  },
  {
   "cell_type": "code",
   "execution_count": 19,
   "metadata": {
    "scrolled": true
   },
   "outputs": [
    {
     "name": "stdout",
     "output_type": "stream",
     "text": [
      "[2] [4, 5, 1, 3]\n",
      "[2, 4] [5, 1, 3]\n",
      "[2, 4, 5] [1, 3]\n",
      "[1, 2, 4, 5] [3]\n",
      "[1, 2, 3, 4, 5] []\n",
      "[1, 2, 3, 4, 5]\n"
     ]
    }
   ],
   "source": [
    "# 원리\n",
    "def find_ins_idx(r, v):\n",
    "    # 이미 정렬된 리스트 r의 자료를 앞에서부터 차례로 확인하여\n",
    "    for i in range(0, len(r)):\n",
    "        # v 값보다 i번 위치에 있는 자료 값이 크면\n",
    "        # v가 그 값 바로 앞에 놓여야 정렬 순서가 유지됨\n",
    "        if v < r[i]:\n",
    "            return i\n",
    "    # 적절한 위치를 못 찾았을 때는\n",
    "    # v가 r의 모든 자료보다 크다는 뜻이므로 맨 뒤에 삽입\n",
    "    return len(r)\n",
    "\n",
    "def ins_sort(a):\n",
    "    result = []  # 새 리스트를 만들어 정렬된 값을 저장\n",
    "    while a:     # 기존 리스트에 값이 남아 있는 동안 반복\n",
    "        value = a.pop(0) # 기존 리스트에서 한 개를 꺼냄\n",
    "        ins_idx = find_ins_idx(result, value)  # 꺼낸 값이 들어갈 적당한 위치 찾기\n",
    "        result.insert(ins_idx, value)  # 찾은 위치에 값 삽입(이후 값은 한 칸씩 밀려남)\n",
    "        print(result, a) # 원리보기\n",
    "    return result\n",
    "\n",
    "d = [2, 4, 5, 1, 3]\n",
    "print(ins_sort(d))"
   ]
  },
  {
   "cell_type": "code",
   "execution_count": 15,
   "metadata": {},
   "outputs": [
    {
     "name": "stdout",
     "output_type": "stream",
     "text": [
      "[4, 2, 5, 1, 3]\n",
      "[5, 4, 2, 1, 3]\n",
      "[5, 4, 2, 1, 3]\n",
      "[5, 4, 3, 2, 1]\n",
      "[5, 4, 3, 2, 1]\n"
     ]
    }
   ],
   "source": [
    "# 삽입 정렬\n",
    "# 입력: 리스트 a\n",
    "# 출력: 없음(입력으로 주어진 a가 정렬됨)\n",
    "\n",
    "def ins_sort(a):\n",
    "    for i in range(1, len(a)):\n",
    "        key = a[i]\n",
    "        j = i - 1\n",
    "        while j >= 0 and a[j] < key:  # 부등호 방향 뒤집기\n",
    "            a[j + 1] = a[j]\n",
    "            j -= 1\n",
    "        a[j + 1] = key\n",
    "        print()\n",
    "d = [2, 4, 5, 1, 3]\n",
    "ins_sort(d)\n",
    "print(d)\n"
   ]
  },
  {
   "cell_type": "markdown",
   "metadata": {},
   "source": [
    "### 병합정렬(Merge sort)\n",
    "- O(n * logn)"
   ]
  },
  {
   "cell_type": "code",
   "execution_count": null,
   "metadata": {},
   "outputs": [],
   "source": [
    "# 내림차순 병합 정렬\n",
    "# 입력: 리스트 a\n",
    "# 출력: 없음(입력으로 주어진 a가 정렬됨)\n",
    "\n",
    "def merge_sort(a):\n",
    "    n = len(a)\n",
    "    # 종료 조건: 정렬할 리스트의 자료 개수가 한 개 이하이면 정렬할 필요가 없음\n",
    "    if n <= 1:\n",
    "        return\n",
    "    # 그룹을 나누어 각각 병합 정렬을 호출하는 과정\n",
    "    mid = n // 2\n",
    "    g1 = a[:mid]\n",
    "    g2 = a[mid:]\n",
    "    merge_sort(g1)\n",
    "    merge_sort(g2)\n",
    "    # 두 그룹을 합치는 과정(병합)\n",
    "    i1 = 0\n",
    "    i2 = 0\n",
    "    ia = 0\n",
    "    while i1 < len(g1) and i2 < len(g2):\n",
    "        if g1[i1] > g2[i2]:  # 부등호 방향 뒤집기\n",
    "            a[ia] = g1[i1]\n",
    "            i1 += 1\n",
    "            ia += 1\n",
    "        else:\n",
    "            a[ia] = g2[i2]\n",
    "            i2 += 1\n",
    "            ia += 1\n",
    "    while i1 < len(g1):\n",
    "        a[ia] = g1[i1]\n",
    "        i1 += 1\n",
    "        ia += 1\n",
    "    while i2 < len(g2):\n",
    "        a[ia] = g2[i2]\n",
    "        i2 += 1\n",
    "        ia += 1\n",
    "\n",
    "d = [6, 8, 3, 9, 10, 1, 2, 4, 7, 5]\n",
    "merge_sort(d)\n",
    "print(d)\n"
   ]
  },
  {
   "cell_type": "markdown",
   "metadata": {},
   "source": [
    "### 퀵정렬(Quicksort)"
   ]
  },
  {
   "cell_type": "code",
   "execution_count": null,
   "metadata": {},
   "outputs": [],
   "source": [
    "# 퀵 정렬\n",
    "# 입력: 리스트 a\n",
    "# 출력: 없음(입력으로 주어진 a가 정렬됨)\n",
    "# 리스트 a의 어디부터(start) 어디까지(end)가 정렬 대상인지\n",
    "# 범위를 지정하여 정렬하는 재귀 호출 함수\n",
    "def quick_sort_sub(a, start, end):\n",
    "    # 종료 조건: 정렬 대상이 1개 이하면 정렬할 필요 없음\n",
    "    if end - start <= 0:\n",
    "        return\n",
    "    # 기준 값을 정하고 기준 값에 맞춰 리스트 안에서 각 자료의 위치를 맞춤\n",
    "    # [기준 값보다 작은 값들, 기준 값, 기준 값보다 큰 값들]\n",
    "    pivot = a[end]    # 편의상 리스트의 마지막 값을 기준 값으로 정합\n",
    "    i = start\n",
    "    for j in range(start, end):\n",
    "        if a[j] <= pivot:\n",
    "            a[i], a[j] = a[j], a[i]\n",
    "            i += 1\n",
    "    a[i], a[end] = a[end], a[i]\n",
    "    # 재귀 호출 부분\n",
    "    quick_sort_sub(a, start, i - 1) # 기준 값보다 작은 그룹을 재귀 호출로 다시 정렬\n",
    "    quick_sort_sub(a, i + 1, end)   # 기준 값보다 큰 그룹을 재귀 호출로 다시 정렬\n",
    "\n",
    "# 리스트 전체(0 ~ len(a)-1)를 대상으로 재귀 호출 함수 호출\n",
    "def quick_sort(a):\n",
    "    quick_sort_sub(a, 0, len(a) - 1)\n",
    "\n",
    "d = [6, 8, 3, 9, 10, 1, 2, 4, 7, 5]\n",
    "quick_sort(d)\n",
    "print(d)\n"
   ]
  },
  {
   "cell_type": "code",
   "execution_count": null,
   "metadata": {},
   "outputs": [],
   "source": []
  },
  {
   "cell_type": "code",
   "execution_count": null,
   "metadata": {},
   "outputs": [],
   "source": []
  },
  {
   "cell_type": "code",
   "execution_count": null,
   "metadata": {},
   "outputs": [],
   "source": []
  }
 ],
 "metadata": {
  "kernelspec": {
   "display_name": "Python 3",
   "language": "python",
   "name": "python3"
  },
  "language_info": {
   "codemirror_mode": {
    "name": "ipython",
    "version": 3
   },
   "file_extension": ".py",
   "mimetype": "text/x-python",
   "name": "python",
   "nbconvert_exporter": "python",
   "pygments_lexer": "ipython3",
   "version": "3.6.8"
  }
 },
 "nbformat": 4,
 "nbformat_minor": 2
}
