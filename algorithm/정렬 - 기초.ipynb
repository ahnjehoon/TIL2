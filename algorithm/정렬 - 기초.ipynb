{
 "cells": [
  {
   "cell_type": "markdown",
   "metadata": {},
   "source": [
    "# 정렬"
   ]
  },
  {
   "cell_type": "markdown",
   "metadata": {},
   "source": [
    "## 순차탐색\n",
    "- 리스트에 있는거 하나하나 비교하면서 탐색하는거"
   ]
  },
  {
   "cell_type": "code",
   "execution_count": 1,
   "metadata": {},
   "outputs": [
    {
     "name": "stdout",
     "output_type": "stream",
     "text": [
      "[2]\n",
      "[3, 6]\n",
      "[]\n"
     ]
    }
   ],
   "source": [
    "def search_list(a, x):\n",
    "    result = []\n",
    "    for i in range(0, len(a)):\n",
    "        if x == a[i]:\n",
    "            result.append(i)\n",
    "\n",
    "    return result\n",
    "\n",
    "v = [17, 92, 18, 33, 58, 7, 33, 42]\n",
    "print(search_list(v, 18))\n",
    "print(search_list(v, 33))\n",
    "print(search_list(v, 900))"
   ]
  },
  {
   "cell_type": "code",
   "execution_count": null,
   "metadata": {},
   "outputs": [],
   "source": [
    "# 리스트로 반환하게 하는거\n",
    "def search_list(a, x):\n",
    "    result = []\n",
    "    for i in range(0, len(a)):\n",
    "        if x == a[i]:\n",
    "            result.append(i)\n",
    "\n",
    "    return result"
   ]
  },
  {
   "cell_type": "code",
   "execution_count": null,
   "metadata": {},
   "outputs": [],
   "source": [
    "# 학생 번호에 해당하는 학생 이름 찾기\n",
    "# 입력: 학생 번호 리스트 s_no, 학생 이름 리스트 s_name, 찾는 학생 번호 find_no\n",
    "# 출력: 해당하는 학생 이름, 학생 이름이 없으면 물음표 \"?\"\n",
    "\n",
    "def get_name(s_no, s_name, find_no):\n",
    "    n = len(s_no)  # 입력 크기 n\n",
    "    for i in range(0, n):\n",
    "        if find_no == s_no[i]: # 학생 번호가 찾는 학생 번호와 같으면\n",
    "            return s_name[i]   # 해당하는 학생 이름을 결과로 반환\n",
    "\n",
    "    return \"?\"  # 자료를 다 뒤져서 못 찾았으면 물음표 반환\n",
    "\n",
    "sample_no = [39, 14, 67, 105]\n",
    "sample_name = [\"Justin\", \"John\", \"Mike\", \"Summer\"]\n",
    "print(get_name(sample_no, sample_name, 105))\n",
    "print(get_name(sample_no, sample_name, 777))"
   ]
  },
  {
   "cell_type": "code",
   "execution_count": null,
   "metadata": {},
   "outputs": [],
   "source": [
    "# 내림차순 선택 정렬\n",
    "# 입력: 리스트 a\n",
    "# 출력: 없음(입력으로 주어진 a가 정렬됨)\n",
    "\n",
    "def sel_sort(a):\n",
    "    n = len(a)\n",
    "    for i in range(0, n - 1):\n",
    "        max_idx = i  # 최솟값(min) 대신 최댓값(max)을 찾아야 함\n",
    "        for j in range(i + 1, n):\n",
    "            if a[j] > a[max_idx]:  # 부등호 방향 뒤집기\n",
    "                max_idx = j\n",
    "        a[i], a[max_idx] = a[max_idx], a[i]\n",
    "\n",
    "d = [2, 4, 5, 1, 3]\n",
    "sel_sort(d)\n",
    "print(d)"
   ]
  },
  {
   "cell_type": "code",
   "execution_count": null,
   "metadata": {},
   "outputs": [],
   "source": []
  },
  {
   "cell_type": "code",
   "execution_count": null,
   "metadata": {},
   "outputs": [],
   "source": []
  },
  {
   "cell_type": "code",
   "execution_count": null,
   "metadata": {},
   "outputs": [],
   "source": []
  },
  {
   "cell_type": "code",
   "execution_count": null,
   "metadata": {},
   "outputs": [],
   "source": []
  },
  {
   "cell_type": "code",
   "execution_count": null,
   "metadata": {},
   "outputs": [],
   "source": []
  }
 ],
 "metadata": {
  "kernelspec": {
   "display_name": "Python 3",
   "language": "python",
   "name": "python3"
  },
  "language_info": {
   "codemirror_mode": {
    "name": "ipython",
    "version": 3
   },
   "file_extension": ".py",
   "mimetype": "text/x-python",
   "name": "python",
   "nbconvert_exporter": "python",
   "pygments_lexer": "ipython3",
   "version": "3.6.8"
  }
 },
 "nbformat": 4,
 "nbformat_minor": 2
}
