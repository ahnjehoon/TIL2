{
 "cells": [
  {
   "cell_type": "markdown",
   "metadata": {},
   "source": [
    "# 탐색"
   ]
  },
  {
   "cell_type": "markdown",
   "metadata": {},
   "source": [
    "## 순차탐색\n",
    "- 리스트에 있는거 하나하나 비교하면서 탐색하는거\n",
    "- 시간복잡도 O(n)"
   ]
  },
  {
   "cell_type": "code",
   "execution_count": 1,
   "metadata": {},
   "outputs": [
    {
     "name": "stdout",
     "output_type": "stream",
     "text": [
      "[2]\n",
      "[3, 6]\n",
      "[]\n"
     ]
    }
   ],
   "source": [
    "def search_list(a, x):\n",
    "    result = []\n",
    "    for i in range(0, len(a)):\n",
    "        if x == a[i]:\n",
    "            result.append(i)\n",
    "\n",
    "    return result\n",
    "\n",
    "v = [17, 92, 18, 33, 58, 7, 33, 42]\n",
    "print(search_list(v, 18))\n",
    "print(search_list(v, 33))\n",
    "print(search_list(v, 900))"
   ]
  },
  {
   "cell_type": "code",
   "execution_count": 1,
   "metadata": {
    "scrolled": true
   },
   "outputs": [
    {
     "name": "stdout",
     "output_type": "stream",
     "text": [
      "Summer\n",
      "?\n"
     ]
    }
   ],
   "source": [
    "# 학생 번호에 해당하는 학생 이름 찾기\n",
    "# 입력: 학생 번호 리스트 s_no, 학생 이름 리스트 s_name, 찾는 학생 번호 find_no\n",
    "# 출력: 해당하는 학생 이름, 학생 이름이 없으면 물음표 \"?\"\n",
    "\n",
    "def get_name(s_no, s_name, find_no):\n",
    "    n = len(s_no)  # 입력 크기 n\n",
    "    for i in range(0, n):\n",
    "        if find_no == s_no[i]: # 학생 번호가 찾는 학생 번호와 같으면\n",
    "            return s_name[i]   # 해당하는 학생 이름을 결과로 반환\n",
    "\n",
    "    return \"?\"  # 자료를 다 뒤져서 못 찾았으면 물음표 반환\n",
    "\n",
    "sample_no = [39, 14, 67, 105]\n",
    "sample_name = [\"Justin\", \"John\", \"Mike\", \"Summer\"]\n",
    "print(get_name(sample_no, sample_name, 105))\n",
    "print(get_name(sample_no, sample_name, 777))"
   ]
  },
  {
   "cell_type": "markdown",
   "metadata": {},
   "source": [
    "## 이분탐색\n",
    "- O(logn)\n",
    "- 일단 정렬되어야 함"
   ]
  },
  {
   "cell_type": "code",
   "execution_count": 20,
   "metadata": {},
   "outputs": [
    {
     "name": "stdout",
     "output_type": "stream",
     "text": [
      "5\n",
      "-1\n"
     ]
    }
   ],
   "source": [
    "def binary_search(a, x):\n",
    "    # 탐색할 범위를 저장하는 변수 start, end\n",
    "    # 리스트 전체를 범위로 탐색 시작(0 ~ len(a)-1)\n",
    "    start = 0\n",
    "    end = len(a) - 1\n",
    "\n",
    "    while start <= end: # 탐색할 범위가 남아 있는 동안 반복\n",
    "        mid = (start + end) // 2  # 탐색 범위의 중간 위치\n",
    "        if x == a[mid]:   # 발견!\n",
    "            return mid\n",
    "        elif x > a[mid]:  # 찾는 값이 더 크면 오른쪽으로 범위를 좁혀 계속 탐색\n",
    "            start = mid + 1\n",
    "        else:             # 찾는 값이 더 작으면 왼쪽으로 범위를 좁혀 계속 탐색\n",
    "            end = mid - 1\n",
    "\n",
    "    return -1  # 찾지 못했을 때\n",
    "\n",
    "d = [1, 4, 9, 16, 25, 36, 49, 64, 81]\n",
    "print(binary_search(d, 36))\n",
    "print(binary_search(d, 50))"
   ]
  },
  {
   "cell_type": "code",
   "execution_count": 22,
   "metadata": {},
   "outputs": [
    {
     "name": "stdout",
     "output_type": "stream",
     "text": [
      "5\n",
      "-1\n"
     ]
    }
   ],
   "source": [
    "# 재귀로\n",
    "# 리스트에서 특정 숫자 위치 찾기(이분 탐색과 재귀 호출)\n",
    "# 입력: 리스트 a, 찾는 값 x \n",
    "# 출력: 특정 숫자를 찾으면 그 값의 위치, 찾지 못하면 -1\n",
    "\n",
    "# 리스트 a의 어디부터(start) 어디까지(end)가 탐색 범위인지 지정하여\n",
    "# 그 범위 안에서 x를 찾는 재귀 함수\n",
    "def binary_search_sub(a, x, start, end):\n",
    "    # 종료 조건: 남은 탐색 범위가 비었으면 종료\n",
    "    if start > end:\n",
    "        return -1\n",
    "    \n",
    "    mid = (start + end) // 2  # 탐색 범위의 중간 위치\n",
    "    if x == a[mid]:   # 발견!\n",
    "        return mid\n",
    "    elif x > a[mid]:  # 찾는 값이 더 크면 중간을 기준으로 오른쪽 값을 대상으로 재귀 호출\n",
    "        return binary_search_sub(a, x, mid + 1, end)\n",
    "    else:             # 찾는 값이 더 작으면 중간을 기준으로 왼쪽 값을 대상으로 재귀 호출\n",
    "        return binary_search_sub(a, x, start, mid - 1)\n",
    "    \n",
    "    return -1         # 찾지 못했을 때\n",
    "\n",
    "d = [1, 4, 9, 16, 25, 36, 49, 64, 81]\n",
    "print(binary_search_sub(d, 36, 0, len(d) - 1))\n",
    "print(binary_search_sub(d, 50, 0, len(d) - 1))"
   ]
  }
 ],
 "metadata": {
  "kernelspec": {
   "display_name": "Python 3",
   "language": "python",
   "name": "python3"
  },
  "language_info": {
   "codemirror_mode": {
    "name": "ipython",
    "version": 3
   },
   "file_extension": ".py",
   "mimetype": "text/x-python",
   "name": "python",
   "nbconvert_exporter": "python",
   "pygments_lexer": "ipython3",
   "version": "3.6.8"
  }
 },
 "nbformat": 4,
 "nbformat_minor": 2
}
