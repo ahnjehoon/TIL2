{
 "cells": [
  {
   "cell_type": "markdown",
   "metadata": {},
   "source": [
    "# 알고리즘 기초"
   ]
  },
  {
   "cell_type": "markdown",
   "metadata": {},
   "source": [
    "## 최대값 구하기"
   ]
  },
  {
   "cell_type": "markdown",
   "metadata": {},
   "source": [
    "### 일반적인 거"
   ]
  },
  {
   "cell_type": "code",
   "execution_count": 36,
   "metadata": {},
   "outputs": [
    {
     "name": "stdout",
     "output_type": "stream",
     "text": [
      "92\n"
     ]
    }
   ],
   "source": [
    "def findMax(arr):\n",
    "    maxIndex = 0\n",
    "    for i, v in enumerate(arr):\n",
    "        if(arr[maxIndex] < arr[i]):\n",
    "            maxIndex = i\n",
    "    print(arr[maxIndex])\n",
    "    \n",
    "v = [17, 92, 18, 33, 58, 7, 33, 42]\n",
    "\n",
    "findMax(v)"
   ]
  },
  {
   "cell_type": "markdown",
   "metadata": {},
   "source": [
    "### 재귀"
   ]
  },
  {
   "cell_type": "code",
   "execution_count": 28,
   "metadata": {},
   "outputs": [
    {
     "data": {
      "text/plain": [
       "92"
      ]
     },
     "execution_count": 28,
     "metadata": {},
     "output_type": "execute_result"
    }
   ],
   "source": [
    "# 최대값 재귀로 구하기\n",
    "def findMaxRecursion(a, i):\n",
    "    \n",
    "    if i == 0:\n",
    "        return a[i]\n",
    "    maxValue = findMaxRecursion(a, i - 1)\n",
    "    if maxValue > a[i-1]:\n",
    "        return maxValue\n",
    "    else:\n",
    "        return a[i-1]\n",
    "\n",
    "v = [17, 92, 18, 33, 58, 7, 33, 42]\n",
    "\n",
    "findMaxRecursion(v, len(v))"
   ]
  },
  {
   "cell_type": "markdown",
   "metadata": {},
   "source": [
    "## 최대 공약수"
   ]
  },
  {
   "cell_type": "code",
   "execution_count": 38,
   "metadata": {},
   "outputs": [
    {
     "name": "stdout",
     "output_type": "stream",
     "text": [
      "1\n",
      "5\n",
      "4\n"
     ]
    }
   ],
   "source": [
    "def gcd(a, b):\n",
    "    i = min(a, b)\n",
    "    while True:\n",
    "        if a % i == 0 and b % i == 0:\n",
    "            return i\n",
    "        i = i - 1\n",
    "print(gcd(1, 5))\n",
    "print(gcd(15, 5))\n",
    "print(gcd(32, 12))"
   ]
  },
  {
   "cell_type": "code",
   "execution_count": null,
   "metadata": {},
   "outputs": [],
   "source": []
  }
 ],
 "metadata": {
  "kernelspec": {
   "display_name": "Python 3",
   "language": "python",
   "name": "python3"
  },
  "language_info": {
   "codemirror_mode": {
    "name": "ipython",
    "version": 3
   },
   "file_extension": ".py",
   "mimetype": "text/x-python",
   "name": "python",
   "nbconvert_exporter": "python",
   "pygments_lexer": "ipython3",
   "version": "3.6.8"
  }
 },
 "nbformat": 4,
 "nbformat_minor": 2
}
