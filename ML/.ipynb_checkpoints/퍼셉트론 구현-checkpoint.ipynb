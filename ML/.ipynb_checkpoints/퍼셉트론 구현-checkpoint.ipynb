{
 "cells": [
  {
   "cell_type": "code",
   "execution_count": 1,
   "metadata": {},
   "outputs": [],
   "source": [
    "import numpy as np"
   ]
  },
  {
   "cell_type": "code",
   "execution_count": 2,
   "metadata": {},
   "outputs": [],
   "source": [
    "class Perceptron:\n",
    "    \n",
    "    # 생성자 함수\n",
    "    # thresholds : 임계값\n",
    "    # learn_rate : 학습률\n",
    "    # n_iter : 최대 학습 횟수\n",
    "    def __init__(self, thresholds=0, learn_rate=0.1, n_iter=10):\n",
    "        self.thresholds = thresholds\n",
    "        self.learn_rate = learn_rate\n",
    "        self.n_iter = n_iter\n",
    "        pass\n",
    "    \n",
    "    # 학습 함수\n",
    "    def fit(self, X, y):\n",
    "        # 가중치\n",
    "        self.w_ = np.zeros(1 + X.shape[1])\n",
    "        \n",
    "        # 학습 횟수 만큼 반복\n",
    "        for _ in range(self.n_iter):\n",
    "            # 입력 데이터의 로우의 수 만큼 반복\n",
    "            for idx in range(len(X)):\n",
    "                X_sub = X[idx]\n",
    "                y_sub = y[idx]\n",
    "                # 예측 결과 값 계산\n",
    "                a1 = self.predict(X_sub)\n",
    "                # 예측 결과와 실제 결과가 다르면 가중치 업데이트\n",
    "                if y_sub != a1:\n",
    "                    # 학습률(실제값 - 예측값)\n",
    "                    update = self.learn_rate * (y_sub - a1)\n",
    "                    # x0는 무조건 1이니깐 w0에는 X_sub안곱해줌\n",
    "                    self.w_[0] += update\n",
    "                    # 가중치 + 학습률(실제값 - 예측값) * x값\n",
    "                    self.w_[1:] += update * X_sub\n",
    "                    print(f'{_} / {idx} / {self.w_[0]} {self.w_[1]} {self.w_[2]}')\n",
    "        pass\n",
    "    \n",
    "    # 가중치와 입력데이터의 총 합을 구하는 함수\n",
    "    def set_input(self, X):\n",
    "        pass\n",
    "    \n",
    "    # 예측 결과를 계산하는 함수\n",
    "    def predict(self, X):\n",
    "        # 각 자리의 값과 가중치를 곱한 총합\n",
    "        a1 = np.dot(X, self.w_[1:]) + self.w_[0]\n",
    "        # 임계값과 비교하여 1이나 -1을 반환\n",
    "        a2 = np.where(a1 > self.thresholds, 1, -1)\n",
    "        return a2\n",
    "        pass\n"
   ]
  },
  {
   "cell_type": "code",
   "execution_count": 3,
   "metadata": {},
   "outputs": [],
   "source": [
    "# 입력 데이터\n",
    "X = np.array([\n",
    "     [0, 0]\n",
    "    ,[1, 0]\n",
    "    ,[0, 1]\n",
    "    ,[1, 1]\n",
    "])\n",
    "# 결과 데이터\n",
    "y = [-1,-1,-1,1]"
   ]
  },
  {
   "cell_type": "code",
   "execution_count": 4,
   "metadata": {},
   "outputs": [
    {
     "name": "stdout",
     "output_type": "stream",
     "text": [
      "0 / 3 / 0.2 0.2 0.2\n",
      "1 / 0 / 0.0 0.2 0.2\n",
      "1 / 1 / -0.2 0.0 0.2\n",
      "1 / 3 / 0.0 0.2 0.4\n",
      "2 / 1 / -0.2 0.0 0.4\n",
      "2 / 2 / -0.4 0.0 0.2\n",
      "2 / 3 / -0.2 0.2 0.4\n",
      "3 / 2 / -0.4 0.2 0.2\n",
      "3 / 3 / -0.2 0.4 0.4\n",
      "4 / 1 / -0.4 0.2 0.4\n"
     ]
    },
    {
     "data": {
      "text/plain": [
       "array([-1, -1, -1,  1])"
      ]
     },
     "execution_count": 4,
     "metadata": {},
     "output_type": "execute_result"
    }
   ],
   "source": [
    "model = Perceptron()\n",
    "model.fit(X, y)\n",
    "\n",
    "a1 = model.predict(X)\n",
    "a1"
   ]
  },
  {
   "cell_type": "code",
   "execution_count": null,
   "metadata": {},
   "outputs": [],
   "source": []
  }
 ],
 "metadata": {
  "kernelspec": {
   "display_name": "Python 3",
   "language": "python",
   "name": "python3"
  },
  "language_info": {
   "codemirror_mode": {
    "name": "ipython",
    "version": 3
   },
   "file_extension": ".py",
   "mimetype": "text/x-python",
   "name": "python",
   "nbconvert_exporter": "python",
   "pygments_lexer": "ipython3",
   "version": "3.7.3"
  }
 },
 "nbformat": 4,
 "nbformat_minor": 2
}
