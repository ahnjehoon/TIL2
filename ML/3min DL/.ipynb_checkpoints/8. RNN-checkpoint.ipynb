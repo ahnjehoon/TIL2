{
 "cells": [
  {
   "cell_type": "markdown",
   "metadata": {},
   "source": [
    "# RNN"
   ]
  },
  {
   "cell_type": "markdown",
   "metadata": {},
   "source": [
    "- 이미지 인식에 CNN이 있다면 자연어 인식에는 RNN이 있음\n",
    "- RNN은 상태가 고정된 데이터를 처리하는 다른 신경망과는 달리 자연어 처리나 음성인식처럼 순서가 있는 데이터를 처리하는데 강점을 갖음"
   ]
  },
  {
   "cell_type": "markdown",
   "metadata": {},
   "source": [
    "### 개념\n",
    "- 학습한 결과를 다음단계의 학습에 이용하는 구조\n",
    "- RNN에서 신경망을 셀(cell)이라고 하며 RNN은 이 셀을 여러개 중첩해서 심층 신경망을 구성\n",
    "- 이런 구조로 인해 학습 데이터를 단계별로 구분하여 입력하여야 함"
   ]
  },
  {
   "cell_type": "markdown",
   "metadata": {},
   "source": [
    "### MNIST 구현"
   ]
  },
  {
   "cell_type": "code",
   "execution_count": 1,
   "metadata": {},
   "outputs": [
    {
     "name": "stdout",
     "output_type": "stream",
     "text": [
      "WARNING:tensorflow:From <ipython-input-1-bed9dddec7b6>:4: read_data_sets (from tensorflow.contrib.learn.python.learn.datasets.mnist) is deprecated and will be removed in a future version.\n",
      "Instructions for updating:\n",
      "Please use alternatives such as official/mnist/dataset.py from tensorflow/models.\n",
      "WARNING:tensorflow:From C:\\Users\\PC\\AppData\\Local\\Continuum\\anaconda3\\lib\\site-packages\\tensorflow\\contrib\\learn\\python\\learn\\datasets\\mnist.py:260: maybe_download (from tensorflow.contrib.learn.python.learn.datasets.base) is deprecated and will be removed in a future version.\n",
      "Instructions for updating:\n",
      "Please write your own downloading logic.\n",
      "WARNING:tensorflow:From C:\\Users\\PC\\AppData\\Local\\Continuum\\anaconda3\\lib\\site-packages\\tensorflow\\contrib\\learn\\python\\learn\\datasets\\mnist.py:262: extract_images (from tensorflow.contrib.learn.python.learn.datasets.mnist) is deprecated and will be removed in a future version.\n",
      "Instructions for updating:\n",
      "Please use tf.data to implement this functionality.\n",
      "Extracting ./mnist/data/train-images-idx3-ubyte.gz\n",
      "WARNING:tensorflow:From C:\\Users\\PC\\AppData\\Local\\Continuum\\anaconda3\\lib\\site-packages\\tensorflow\\contrib\\learn\\python\\learn\\datasets\\mnist.py:267: extract_labels (from tensorflow.contrib.learn.python.learn.datasets.mnist) is deprecated and will be removed in a future version.\n",
      "Instructions for updating:\n",
      "Please use tf.data to implement this functionality.\n",
      "Extracting ./mnist/data/train-labels-idx1-ubyte.gz\n",
      "WARNING:tensorflow:From C:\\Users\\PC\\AppData\\Local\\Continuum\\anaconda3\\lib\\site-packages\\tensorflow\\contrib\\learn\\python\\learn\\datasets\\mnist.py:110: dense_to_one_hot (from tensorflow.contrib.learn.python.learn.datasets.mnist) is deprecated and will be removed in a future version.\n",
      "Instructions for updating:\n",
      "Please use tf.one_hot on tensors.\n",
      "Extracting ./mnist/data/t10k-images-idx3-ubyte.gz\n",
      "Extracting ./mnist/data/t10k-labels-idx1-ubyte.gz\n",
      "WARNING:tensorflow:From C:\\Users\\PC\\AppData\\Local\\Continuum\\anaconda3\\lib\\site-packages\\tensorflow\\contrib\\learn\\python\\learn\\datasets\\mnist.py:290: DataSet.__init__ (from tensorflow.contrib.learn.python.learn.datasets.mnist) is deprecated and will be removed in a future version.\n",
      "Instructions for updating:\n",
      "Please use alternatives such as official/mnist/dataset.py from tensorflow/models.\n"
     ]
    }
   ],
   "source": [
    "import tensorflow as tf\n",
    "\n",
    "from tensorflow.examples.tutorials.mnist import input_data\n",
    "mnist = input_data.read_data_sets(\"./mnist/data/\", one_hot=True)"
   ]
  },
  {
   "cell_type": "code",
   "execution_count": 2,
   "metadata": {},
   "outputs": [],
   "source": [
    "# 옵션 설정\n",
    "learning_rate = 0.001\n",
    "total_epoch = 30\n",
    "batch_size = 128\n",
    "\n",
    "# RNN 은 순서가 있는 자료를 다루므로,\n",
    "# 한 번에 입력받는 갯수와, 총 몇 단계로 이루어져있는 데이터를 받을지를 설정\n",
    "# 이를 위해 가로 픽셀수를 n_input 으로, 세로 픽셀수를 입력 단계인 n_step 으로 설정\n",
    "n_input = 28\n",
    "n_step = 28\n",
    "n_hidden = 128\n",
    "n_class = 10"
   ]
  },
  {
   "cell_type": "code",
   "execution_count": 3,
   "metadata": {},
   "outputs": [
    {
     "name": "stdout",
     "output_type": "stream",
     "text": [
      "WARNING:tensorflow:From C:\\Users\\PC\\AppData\\Local\\Continuum\\anaconda3\\lib\\site-packages\\tensorflow\\python\\framework\\op_def_library.py:263: colocate_with (from tensorflow.python.framework.ops) is deprecated and will be removed in a future version.\n",
      "Instructions for updating:\n",
      "Colocations handled automatically by placer.\n",
      "WARNING:tensorflow:From <ipython-input-3-76edf7e21696>:11: BasicRNNCell.__init__ (from tensorflow.python.ops.rnn_cell_impl) is deprecated and will be removed in a future version.\n",
      "Instructions for updating:\n",
      "This class is equivalent as tf.keras.layers.SimpleRNNCell, and will be replaced by that in Tensorflow 2.0.\n",
      "WARNING:tensorflow:From <ipython-input-3-76edf7e21696>:22: dynamic_rnn (from tensorflow.python.ops.rnn) is deprecated and will be removed in a future version.\n",
      "Instructions for updating:\n",
      "Please use `keras.layers.RNN(cell)`, which is equivalent to this API\n"
     ]
    }
   ],
   "source": [
    "# 신경망 모델 구성\n",
    "X = tf.placeholder(tf.float32, [None, n_step, n_input])\n",
    "Y = tf.placeholder(tf.float32, [None, n_class])\n",
    "\n",
    "W = tf.Variable(tf.random_normal([n_hidden, n_class]))\n",
    "b = tf.Variable(tf.random_normal([n_class]))\n",
    "\n",
    "# RNN 에 학습에 사용할 셀을 생성합니다\n",
    "# 다음 함수들을 사용하면 다른 구조의 셀로 간단하게 변경할 수 있습니다\n",
    "# BasicRNNCell,BasicLSTMCell,GRUCell\n",
    "cell = tf.nn.rnn_cell.BasicRNNCell(n_hidden)\n",
    "\n",
    "# RNN 신경망을 생성합니다\n",
    "# 원래는 다음과 같은 과정을 거쳐야 하지만\n",
    "# states = tf.zeros(batch_size)\n",
    "# for i in range(n_step):\n",
    "#     outputs, states = cell(X[[:, i]], states)\n",
    "# ...\n",
    "# 다음처럼 tf.nn.dynamic_rnn 함수를 사용하면\n",
    "# CNN 의 tf.nn.conv2d 함수처럼 간단하게 RNN 신경망을 만들어줍니다.\n",
    "# 겁나 매직!!\n",
    "outputs, states = tf.nn.dynamic_rnn(cell, X, dtype=tf.float32)\n",
    "\n",
    "# 결과를 Y의 다음 형식과 바꿔야 하기 때문에\n",
    "# Y : [batch_size, n_class]\n",
    "# outputs 의 형태를 이에 맞춰 변경해야합니다.\n",
    "# outputs : [batch_size, n_step, n_hidden]\n",
    "#        -> [n_step, batch_size, n_hidden]\n",
    "#        -> [batch_size, n_hidden]\n",
    "outputs = tf.transpose(outputs, [1, 0, 2])\n",
    "outputs = outputs[-1]\n",
    "model = tf.matmul(outputs, W) + b\n",
    "\n",
    "cost = tf.reduce_mean(tf.nn.softmax_cross_entropy_with_logits_v2(logits=model, labels=Y))\n",
    "optimizer = tf.train.AdamOptimizer(learning_rate).minimize(cost)"
   ]
  },
  {
   "cell_type": "code",
   "execution_count": 4,
   "metadata": {
    "scrolled": true
   },
   "outputs": [
    {
     "name": "stdout",
     "output_type": "stream",
     "text": [
      "Epoch: 0001 Avg. cost = 0.528\n",
      "Epoch: 0002 Avg. cost = 0.243\n",
      "Epoch: 0003 Avg. cost = 0.188\n",
      "Epoch: 0004 Avg. cost = 0.157\n",
      "Epoch: 0005 Avg. cost = 0.146\n",
      "Epoch: 0006 Avg. cost = 0.136\n",
      "Epoch: 0007 Avg. cost = 0.125\n",
      "Epoch: 0008 Avg. cost = 0.111\n",
      "Epoch: 0009 Avg. cost = 0.109\n",
      "Epoch: 0010 Avg. cost = 0.106\n",
      "Epoch: 0011 Avg. cost = 0.100\n",
      "Epoch: 0012 Avg. cost = 0.096\n",
      "Epoch: 0013 Avg. cost = 0.091\n",
      "Epoch: 0014 Avg. cost = 0.087\n",
      "Epoch: 0015 Avg. cost = 0.093\n",
      "Epoch: 0016 Avg. cost = 0.079\n",
      "Epoch: 0017 Avg. cost = 0.081\n",
      "Epoch: 0018 Avg. cost = 0.082\n",
      "Epoch: 0019 Avg. cost = 0.071\n",
      "Epoch: 0020 Avg. cost = 0.073\n",
      "Epoch: 0021 Avg. cost = 0.078\n",
      "Epoch: 0022 Avg. cost = 0.077\n",
      "Epoch: 0023 Avg. cost = 0.065\n",
      "Epoch: 0024 Avg. cost = 0.064\n",
      "Epoch: 0025 Avg. cost = 0.068\n",
      "Epoch: 0026 Avg. cost = 0.068\n",
      "Epoch: 0027 Avg. cost = 0.061\n",
      "Epoch: 0028 Avg. cost = 0.067\n",
      "Epoch: 0029 Avg. cost = 0.067\n",
      "Epoch: 0030 Avg. cost = 0.060\n",
      "최적화 완료!\n"
     ]
    }
   ],
   "source": [
    "# 신경망 모델 학습\n",
    "sess = tf.Session()\n",
    "sess.run(tf.global_variables_initializer())\n",
    "\n",
    "total_batch = int(mnist.train.num_examples/batch_size)\n",
    "\n",
    "for epoch in range(total_epoch):\n",
    "    total_cost = 0\n",
    "\n",
    "    for i in range(total_batch):\n",
    "        batch_xs, batch_ys = mnist.train.next_batch(batch_size)\n",
    "        # X 데이터를 RNN 입력 데이터에 맞게 [batch_size, n_step, n_input] 형태로 변환\n",
    "        batch_xs = batch_xs.reshape((batch_size, n_step, n_input))\n",
    "\n",
    "        _, cost_val = sess.run([optimizer, cost],\n",
    "                               feed_dict={X: batch_xs, Y: batch_ys})\n",
    "        total_cost += cost_val\n",
    "\n",
    "    print('Epoch:', '%04d' % (epoch + 1),\n",
    "          'Avg. cost =', '{:.3f}'.format(total_cost / total_batch))\n",
    "\n",
    "print('최적화 완료!')"
   ]
  },
  {
   "cell_type": "code",
   "execution_count": 5,
   "metadata": {},
   "outputs": [
    {
     "name": "stdout",
     "output_type": "stream",
     "text": [
      "정확도: 0.9686\n"
     ]
    }
   ],
   "source": [
    "# 결과 확인\n",
    "is_correct = tf.equal(tf.argmax(model, 1), tf.argmax(Y, 1))\n",
    "accuracy = tf.reduce_mean(tf.cast(is_correct, tf.float32))\n",
    "\n",
    "test_batch_size = len(mnist.test.images)\n",
    "test_xs = mnist.test.images.reshape(test_batch_size, n_step, n_input)\n",
    "test_ys = mnist.test.labels\n",
    "\n",
    "print('정확도:', sess.run(accuracy, feed_dict={X: test_xs, Y: test_ys}))"
   ]
  },
  {
   "cell_type": "markdown",
   "metadata": {},
   "source": [
    "### 단어 자동완성 구현\n",
    "- 영문자 4개로 구성된 단어를 학습시켜 3글자만 주어지면 나머지 한글자를 추천하여 단어를 완성하는 코드\n",
    "- dynamic_rnn의 sequence_length 옵션을 사용하면 가변 길이 단어 학습 가능\n",
    "- 짧은 단어는 가장 긴 단어의 길이 만큼 뒷부분을 0으로 채우고, 해단 단어의 길이를 계산해 sequence_length로 넘겨주면 됨(batch_size만큼의 배열로)\n",
    "- 하지만 코드가 복잡해지므로 고정길이 단어를 사용함"
   ]
  },
  {
   "cell_type": "code",
   "execution_count": 6,
   "metadata": {},
   "outputs": [],
   "source": [
    "import tensorflow as tf\n",
    "import numpy as np\n",
    "\n",
    "\n",
    "char_arr = ['a', 'b', 'c', 'd', 'e', 'f', 'g',\n",
    "            'h', 'i', 'j', 'k', 'l', 'm', 'n',\n",
    "            'o', 'p', 'q', 'r', 's', 't', 'u',\n",
    "            'v', 'w', 'x', 'y', 'z']\n",
    "\n",
    "# one-hot 인코딩 사용 및 디코딩을 하기 위해 연관 배열 생성\n",
    "# {'a': 0, 'b': 1, 'c': 2, ..., 'j': 9, 'k', 10, ...}\n",
    "num_dic = {n: i for i, n in enumerate(char_arr)}\n",
    "dic_len = len(num_dic)\n",
    "\n",
    "# 다음 배열은 입력값과 출력값으로 다음처럼 사용할 것임\n",
    "# wor -> X, d -> Y\n",
    "# woo -> X, d -> Y\n",
    "seq_data = ['word', 'wood', 'deep', 'dive', 'cold', 'cool', 'load', 'love', 'kiss', 'kind']"
   ]
  },
  {
   "cell_type": "code",
   "execution_count": 7,
   "metadata": {},
   "outputs": [],
   "source": [
    "# 단어들을 학습에 사용할 수 있는 형식으로 변환해주는 유틸리티 함수 작성\n",
    "def make_batch(seq_data):\n",
    "    input_batch = []\n",
    "    target_batch = []\n",
    "\n",
    "    for seq in seq_data:\n",
    "        # 입력값용으로 단어의 처음 세 글자의 알파벳 인덱스를 구한 배열을 만듦\n",
    "        # 여기서 생성하는 input_batch 와 target_batch 는 알파벳 배열의 인덱스 번호\n",
    "        input = [num_dic[n] for n in seq[:-1]]\n",
    "        # 출력값용으로 마지막 글자의 알파벳 인덱스를 구함\n",
    "        target = num_dic[seq[-1]]\n",
    "        # 입력값을 one-hot 인코딩으로 변환\n",
    "        input_batch.append(np.eye(dic_len)[input])\n",
    "        # 지금까지 손실함수로 사용하던 softmax_cross_entropy_with_logits 함수는\n",
    "        # label 값을 one-hot 인코딩으로 넘겨줘야 하지만,\n",
    "        # 이 예제에서 사용할 손실 함수인 sparse_softmax_cross_entropy_with_logits 는\n",
    "        # one-hot 인코딩을 사용하지 않으므로 index 를 그냥 넘겨줌\n",
    "        target_batch.append(target)\n",
    "\n",
    "    return input_batch, target_batch"
   ]
  },
  {
   "cell_type": "code",
   "execution_count": 8,
   "metadata": {},
   "outputs": [],
   "source": [
    "# 옵션 설정\n",
    "learning_rate = 0.01\n",
    "n_hidden = 128\n",
    "total_epoch = 30\n",
    "# RNN 을 구성하는 시퀀스의 갯수\n",
    "n_step = 3\n",
    "n_input = n_class = dic_len"
   ]
  },
  {
   "cell_type": "code",
   "execution_count": 9,
   "metadata": {},
   "outputs": [
    {
     "name": "stdout",
     "output_type": "stream",
     "text": [
      "WARNING:tensorflow:From <ipython-input-9-2b45620b77da>:9: BasicLSTMCell.__init__ (from tensorflow.python.ops.rnn_cell_impl) is deprecated and will be removed in a future version.\n",
      "Instructions for updating:\n",
      "This class is equivalent as tf.keras.layers.LSTMCell, and will be replaced by that in Tensorflow 2.0.\n",
      "WARNING:tensorflow:From <ipython-input-9-2b45620b77da>:16: MultiRNNCell.__init__ (from tensorflow.python.ops.rnn_cell_impl) is deprecated and will be removed in a future version.\n",
      "Instructions for updating:\n",
      "This class is equivalent as tf.keras.layers.StackedRNNCells, and will be replaced by that in Tensorflow 2.0.\n",
      "WARNING:tensorflow:From C:\\Users\\PC\\AppData\\Local\\Continuum\\anaconda3\\lib\\site-packages\\tensorflow\\python\\ops\\rnn_cell_impl.py:1259: calling dropout (from tensorflow.python.ops.nn_ops) with keep_prob is deprecated and will be removed in a future version.\n",
      "Instructions for updating:\n",
      "Please use `rate` instead of `keep_prob`. Rate should be set to `rate = 1 - keep_prob`.\n"
     ]
    }
   ],
   "source": [
    "# 신경망 모델 구성\n",
    "X = tf.placeholder(tf.float32, [None, n_step, n_input])\n",
    "Y = tf.placeholder(tf.int32, [None])\n",
    "\n",
    "W = tf.Variable(tf.random_normal([n_hidden, n_class]))\n",
    "b = tf.Variable(tf.random_normal([n_class]))\n",
    "\n",
    "# RNN 셀을 생성\n",
    "cell1 = tf.nn.rnn_cell.BasicLSTMCell(n_hidden)\n",
    "# 과적합 방지를 위한 Dropout 기법을 사용\n",
    "cell1 = tf.nn.rnn_cell.DropoutWrapper(cell1, output_keep_prob=0.5)\n",
    "# 여러개의 셀을 조합해서 사용하기 위해 셀을 추가로 생성\n",
    "cell2 = tf.nn.rnn_cell.BasicLSTMCell(n_hidden)\n",
    "\n",
    "# 앞서 만든 셀들을 MultiRNNCell 함수를 사용하여 조합\n",
    "multi_cell = tf.nn.rnn_cell.MultiRNNCell([cell1, cell2])\n",
    "\n",
    "# tf.nn.dynamic_rnn 함수를 이용해 순환 신경망, 즉 Deep RNN 생성\n",
    "outputs, states = tf.nn.dynamic_rnn(multi_cell, X, dtype=tf.float32)\n",
    "\n",
    "# 최종 결과는 one-hot 인코딩 형식으로 최종 출력층을 만듦\n",
    "outputs = tf.transpose(outputs, [1, 0, 2])\n",
    "outputs = outputs[-1]\n",
    "model = tf.matmul(outputs, W) + b\n",
    "\n",
    "# 손실함수는 sparse_softmax_cross_entropy_with_logits\n",
    "cost = tf.reduce_mean(tf.nn.sparse_softmax_cross_entropy_with_logits(logits=model, labels=Y))\n",
    "# 최적화 함수로 AdamOptimizer\n",
    "optimizer = tf.train. AdamOptimizer(learning_rate).minimize(cost)"
   ]
  },
  {
   "cell_type": "code",
   "execution_count": 10,
   "metadata": {},
   "outputs": [
    {
     "name": "stdout",
     "output_type": "stream",
     "text": [
      "Epoch: 0001 cost = 3.096714\n",
      "Epoch: 0002 cost = 2.225318\n",
      "Epoch: 0003 cost = 1.243832\n",
      "Epoch: 0004 cost = 1.443959\n",
      "Epoch: 0005 cost = 0.551919\n",
      "Epoch: 0006 cost = 0.739340\n",
      "Epoch: 0007 cost = 0.621329\n",
      "Epoch: 0008 cost = 0.484964\n",
      "Epoch: 0009 cost = 0.269593\n",
      "Epoch: 0010 cost = 0.456929\n",
      "Epoch: 0011 cost = 0.430645\n",
      "Epoch: 0012 cost = 0.290627\n",
      "Epoch: 0013 cost = 0.270127\n",
      "Epoch: 0014 cost = 0.192583\n",
      "Epoch: 0015 cost = 0.218338\n",
      "Epoch: 0016 cost = 0.072985\n",
      "Epoch: 0017 cost = 0.208441\n",
      "Epoch: 0018 cost = 0.088683\n",
      "Epoch: 0019 cost = 0.094963\n",
      "Epoch: 0020 cost = 0.101590\n",
      "Epoch: 0021 cost = 0.026482\n",
      "Epoch: 0022 cost = 0.040599\n",
      "Epoch: 0023 cost = 0.066047\n",
      "Epoch: 0024 cost = 0.031698\n",
      "Epoch: 0025 cost = 0.031522\n",
      "Epoch: 0026 cost = 0.092112\n",
      "Epoch: 0027 cost = 0.072789\n",
      "Epoch: 0028 cost = 0.009336\n",
      "Epoch: 0029 cost = 0.070365\n",
      "Epoch: 0030 cost = 0.048173\n",
      "최적화 완료!\n"
     ]
    }
   ],
   "source": [
    "# 신경망 모델 학습\n",
    "sess = tf.Session()\n",
    "sess.run(tf.global_variables_initializer())\n",
    "\n",
    "input_batch, target_batch = make_batch(seq_data)\n",
    "\n",
    "for epoch in range(total_epoch):\n",
    "    _, loss = sess.run([optimizer, cost], feed_dict={X: input_batch, Y: target_batch})\n",
    "\n",
    "    print('Epoch:', '%04d' % (epoch + 1),'cost =', '{:.6f}'.format(loss))\n",
    "\n",
    "print('최적화 완료!')"
   ]
  },
  {
   "cell_type": "code",
   "execution_count": 11,
   "metadata": {},
   "outputs": [
    {
     "name": "stdout",
     "output_type": "stream",
     "text": [
      "\n",
      "=== 예측 결과 ===\n",
      "입력값: ['wor ', 'woo ', 'dee ', 'div ', 'col ', 'coo ', 'loa ', 'lov ', 'kis ', 'kin ']\n",
      "예측값: ['word', 'wood', 'deep', 'dive', 'cold', 'cool', 'load', 'love', 'kiss', 'kind']\n",
      "정확도: 1.0\n"
     ]
    }
   ],
   "source": [
    "# 결과 확인\n",
    "# 레이블값이 정수이므로 예측값도 정수로 변경\n",
    "prediction = tf.cast(tf.argmax(model, 1), tf.int32)\n",
    "# one-hot 인코딩이 아니므로 입력값을 그대로 비교함\n",
    "prediction_check = tf.equal(prediction, Y)\n",
    "accuracy = tf.reduce_mean(tf.cast(prediction_check, tf.float32))\n",
    "\n",
    "input_batch, target_batch = make_batch(seq_data)\n",
    "\n",
    "predict, accuracy_val = sess.run([prediction, accuracy], feed_dict={X: input_batch, Y: target_batch})\n",
    "\n",
    "predict_words = []\n",
    "\n",
    "for idx, val in enumerate(seq_data):\n",
    "    last_char = char_arr[predict[idx]]\n",
    "    predict_words.append(val[:3] + last_char)\n",
    "\n",
    "print('\\n=== 예측 결과 ===')\n",
    "print('입력값:', [w[:3] + ' ' for w in seq_data])\n",
    "print('예측값:', predict_words)\n",
    "print('정확도:', accuracy_val)"
   ]
  },
  {
   "cell_type": "markdown",
   "metadata": {},
   "source": [
    "### Sequence to Sequence\n",
    "- 구글이 기계번역에 사용하는 신경망 모델. 줄여서 Seq2Seq라고도 함\n",
    "- 순차적인 정보를 입력받는 신경망(RNN)과 출력하는 신경망을 조합한 모델\n",
    "- 번역이나 챗봇 등 문장을 입력받아 다른 문장을 출력하는 프로그램에서 많이 사용함"
   ]
  },
  {
   "cell_type": "markdown",
   "metadata": {},
   "source": [
    "### 구성\n",
    "- 입력을 위한 신경망인 인코더와 출력을 위한 신경망인 디코더로 구성\n",
    "- 인코더는 원문을, 디코더는 인코더가 번역한 결과물을 입력받음\n",
    "- 그 후 디코더가 출력한 결과물을 번역된 결과물과 비교하면서 학습함"
   ]
  },
  {
   "cell_type": "markdown",
   "metadata": {},
   "source": [
    "### 구현\n",
    "- Seq2Seq 모델을 이용해 번역 프로그램 구현\n",
    "- 네글자의 영단어를 입력받아 두 글자의 한 단어로 번역하는 프로그램\n",
    "\n",
    "- 특수한 심볼이 필요\n",
    "- 디코더에 입력이 시작됨을 알려주는 심볼\n",
    "- 디코더의 출력이 끝났음을 알려주는 심볼\n",
    "- 빈 데이터를 채울 때 사용하는 아무 의미가 없는 심볼"
   ]
  },
  {
   "cell_type": "code",
   "execution_count": 12,
   "metadata": {},
   "outputs": [],
   "source": [
    "import tensorflow as tf\n",
    "import numpy as np\n",
    "\n",
    "# S: 디코딩 입력의 시작을 나타내는 심볼\n",
    "# E: 디코딩 출력을 끝을 나타내는 심볼\n",
    "# P: 현재 배치 데이터의 time step 크기보다 작은 경우 빈 시퀀스를 채우는 심볼\n",
    "#    예) 현재 배치 데이터의 최대 크기가 4 인 경우\n",
    "#       word -> ['w', 'o', 'r', 'd']\n",
    "#       to   -> ['t', 'o', 'P', 'P']\n",
    "char_arr = [c for c in 'SEPabcdefghijklmnopqrstuvwxyz단어나무놀이소녀키스사랑']\n",
    "num_dic = {n: i for i, n in enumerate(char_arr)}\n",
    "dic_len = len(num_dic)\n",
    "\n",
    "# 영어를 한글로 번역하기 위한 학습 데이터\n",
    "seq_data = [['word', '단어'], ['wood', '나무'],\n",
    "            ['game', '놀이'], ['girl', '소녀'],\n",
    "            ['kiss', '키스'], ['love', '사랑']]\n",
    "\n",
    "# 입력 단어와 출력 단어를 한 글자씩 떼어낸 뒤 배열로 만든 후 one-hot 인코딩 형식으로 만들어주는 유틸리티 함수 작성\n",
    "# 데이터는 인코더의 입력값, 디코더의 입력값과 출력값 3개로 구성됨\n",
    "def make_batch(seq_data):\n",
    "    input_batch = []\n",
    "    output_batch = []\n",
    "    target_batch = []\n",
    "\n",
    "    for seq in seq_data:\n",
    "        # 인코더 셀의 입력값. 입력단어의 글자들을 한글자씩 떼어 배열로 만듦\n",
    "        input = [num_dic[n] for n in seq[0]]\n",
    "        # 디코더 셀의 입력값. 시작을 나타내는 S 심볼을 맨 앞에 붙여줌\n",
    "        output = [num_dic[n] for n in ('S' + seq[1])]\n",
    "        # 학습을 위해 비교할 디코더 셀의 출력값. 끝나는 것을 알려주기 위해 마지막에 E 를 붙여줌\n",
    "        target = [num_dic[n] for n in (seq[1] + 'E')]\n",
    "\n",
    "        input_batch.append(np.eye(dic_len)[input])\n",
    "        output_batch.append(np.eye(dic_len)[output])\n",
    "        # 출력값만 one-hot 인코딩이 아님 (sparse_softmax_cross_entropy_with_logits 사용)\n",
    "        target_batch.append(target)\n",
    "\n",
    "    return input_batch, output_batch, target_batch"
   ]
  },
  {
   "cell_type": "code",
   "execution_count": 13,
   "metadata": {},
   "outputs": [
    {
     "name": "stdout",
     "output_type": "stream",
     "text": [
      "WARNING:tensorflow:From <ipython-input-13-8383e67434db>:26: dense (from tensorflow.python.layers.core) is deprecated and will be removed in a future version.\n",
      "Instructions for updating:\n",
      "Use keras.layers.dense instead.\n"
     ]
    }
   ],
   "source": [
    "# 옵션 설정\n",
    "learning_rate = 0.01\n",
    "n_hidden = 128\n",
    "total_epoch = 100\n",
    "n_class = n_input = dic_len\n",
    "\n",
    "# 신경망 모델 구성\n",
    "enc_input = tf.placeholder(tf.float32, [None, None, n_input])\n",
    "dec_input = tf.placeholder(tf.float32, [None, None, n_input])\n",
    "targets = tf.placeholder(tf.int64, [None, None])\n",
    "\n",
    "# 인코더 셀을 구성\n",
    "with tf.variable_scope('encode'):\n",
    "    enc_cell = tf.nn.rnn_cell.BasicRNNCell(n_hidden)\n",
    "    enc_cell = tf.nn.rnn_cell.DropoutWrapper(enc_cell, output_keep_prob=0.5)\n",
    "    outputs, enc_states = tf.nn.dynamic_rnn(enc_cell, enc_input,dtype=tf.float32)\n",
    "\n",
    "# 디코더 셀을 구성\n",
    "with tf.variable_scope('decode'):\n",
    "    dec_cell = tf.nn.rnn_cell.BasicRNNCell(n_hidden)\n",
    "    dec_cell = tf.nn.rnn_cell.DropoutWrapper(dec_cell, output_keep_prob=0.5)\n",
    "\n",
    "    # Seq2Seq 모델은 인코더 셀의 최종 상태값을 디코더 셀의 초기 상태값으로 넣어주는 것이 핵심\n",
    "    outputs, dec_states = tf.nn.dynamic_rnn(dec_cell, dec_input, initial_state=enc_states, dtype=tf.float32)\n",
    "\n",
    "model = tf.layers.dense(outputs, n_class, activation=None)\n",
    "\n",
    "cost = tf.reduce_mean(tf.nn.sparse_softmax_cross_entropy_with_logits(logits=model, labels=targets))\n",
    "\n",
    "optimizer = tf.train.AdamOptimizer(learning_rate).minimize(cost)"
   ]
  },
  {
   "cell_type": "code",
   "execution_count": 14,
   "metadata": {},
   "outputs": [
    {
     "name": "stdout",
     "output_type": "stream",
     "text": [
      "Epoch: 0001 cost = 3.716231\n",
      "Epoch: 0002 cost = 2.545332\n",
      "Epoch: 0003 cost = 1.364257\n",
      "Epoch: 0004 cost = 1.279100\n",
      "Epoch: 0005 cost = 0.718221\n",
      "Epoch: 0006 cost = 0.412528\n",
      "Epoch: 0007 cost = 0.530755\n",
      "Epoch: 0008 cost = 0.331317\n",
      "Epoch: 0009 cost = 0.354214\n",
      "Epoch: 0010 cost = 0.263098\n",
      "Epoch: 0011 cost = 0.200787\n",
      "Epoch: 0012 cost = 0.067855\n",
      "Epoch: 0013 cost = 0.286764\n",
      "Epoch: 0014 cost = 0.085576\n",
      "Epoch: 0015 cost = 0.079821\n",
      "Epoch: 0016 cost = 0.075864\n",
      "Epoch: 0017 cost = 0.057984\n",
      "Epoch: 0018 cost = 0.029934\n",
      "Epoch: 0019 cost = 0.025458\n",
      "Epoch: 0020 cost = 0.098907\n",
      "Epoch: 0021 cost = 0.017394\n",
      "Epoch: 0022 cost = 0.018796\n",
      "Epoch: 0023 cost = 0.044315\n",
      "Epoch: 0024 cost = 0.049872\n",
      "Epoch: 0025 cost = 0.006104\n",
      "Epoch: 0026 cost = 0.014634\n",
      "Epoch: 0027 cost = 0.025819\n",
      "Epoch: 0028 cost = 0.006335\n",
      "Epoch: 0029 cost = 0.010885\n",
      "Epoch: 0030 cost = 0.006798\n",
      "Epoch: 0031 cost = 0.004003\n",
      "Epoch: 0032 cost = 0.004879\n",
      "Epoch: 0033 cost = 0.002377\n",
      "Epoch: 0034 cost = 0.002356\n",
      "Epoch: 0035 cost = 0.007388\n",
      "Epoch: 0036 cost = 0.004080\n",
      "Epoch: 0037 cost = 0.001019\n",
      "Epoch: 0038 cost = 0.002767\n",
      "Epoch: 0039 cost = 0.002418\n",
      "Epoch: 0040 cost = 0.003985\n",
      "Epoch: 0041 cost = 0.002375\n",
      "Epoch: 0042 cost = 0.014114\n",
      "Epoch: 0043 cost = 0.001949\n",
      "Epoch: 0044 cost = 0.002049\n",
      "Epoch: 0045 cost = 0.003787\n",
      "Epoch: 0046 cost = 0.001932\n",
      "Epoch: 0047 cost = 0.000974\n",
      "Epoch: 0048 cost = 0.002547\n",
      "Epoch: 0049 cost = 0.000824\n",
      "Epoch: 0050 cost = 0.001272\n",
      "Epoch: 0051 cost = 0.000653\n",
      "Epoch: 0052 cost = 0.000906\n",
      "Epoch: 0053 cost = 0.001652\n",
      "Epoch: 0054 cost = 0.005586\n",
      "Epoch: 0055 cost = 0.001910\n",
      "Epoch: 0056 cost = 0.001221\n",
      "Epoch: 0057 cost = 0.001246\n",
      "Epoch: 0058 cost = 0.000847\n",
      "Epoch: 0059 cost = 0.000729\n",
      "Epoch: 0060 cost = 0.000950\n",
      "Epoch: 0061 cost = 0.002689\n",
      "Epoch: 0062 cost = 0.000760\n",
      "Epoch: 0063 cost = 0.001014\n",
      "Epoch: 0064 cost = 0.000379\n",
      "Epoch: 0065 cost = 0.000611\n",
      "Epoch: 0066 cost = 0.002415\n",
      "Epoch: 0067 cost = 0.000259\n",
      "Epoch: 0068 cost = 0.002267\n",
      "Epoch: 0069 cost = 0.000542\n",
      "Epoch: 0070 cost = 0.002148\n",
      "Epoch: 0071 cost = 0.000435\n",
      "Epoch: 0072 cost = 0.001433\n",
      "Epoch: 0073 cost = 0.000579\n",
      "Epoch: 0074 cost = 0.000339\n",
      "Epoch: 0075 cost = 0.000764\n",
      "Epoch: 0076 cost = 0.000375\n",
      "Epoch: 0077 cost = 0.000239\n",
      "Epoch: 0078 cost = 0.000264\n",
      "Epoch: 0079 cost = 0.000558\n",
      "Epoch: 0080 cost = 0.000184\n",
      "Epoch: 0081 cost = 0.000458\n",
      "Epoch: 0082 cost = 0.001285\n",
      "Epoch: 0083 cost = 0.000142\n",
      "Epoch: 0084 cost = 0.000530\n",
      "Epoch: 0085 cost = 0.000758\n",
      "Epoch: 0086 cost = 0.000575\n",
      "Epoch: 0087 cost = 0.001439\n",
      "Epoch: 0088 cost = 0.000600\n",
      "Epoch: 0089 cost = 0.001689\n",
      "Epoch: 0090 cost = 0.000339\n",
      "Epoch: 0091 cost = 0.000421\n",
      "Epoch: 0092 cost = 0.000396\n",
      "Epoch: 0093 cost = 0.000470\n",
      "Epoch: 0094 cost = 0.000706\n",
      "Epoch: 0095 cost = 0.000958\n",
      "Epoch: 0096 cost = 0.000491\n",
      "Epoch: 0097 cost = 0.000322\n",
      "Epoch: 0098 cost = 0.000568\n",
      "Epoch: 0099 cost = 0.000532\n",
      "Epoch: 0100 cost = 0.000150\n",
      "최적화 완료!\n"
     ]
    }
   ],
   "source": [
    "# 신경망 모델 학습\n",
    "sess = tf.Session()\n",
    "sess.run(tf.global_variables_initializer())\n",
    "\n",
    "input_batch, output_batch, target_batch = make_batch(seq_data)\n",
    "\n",
    "for epoch in range(total_epoch):\n",
    "    _, loss = sess.run([optimizer, cost], feed_dict={enc_input: input_batch, dec_input: output_batch, targets: target_batch})\n",
    "\n",
    "    print('Epoch:', '%04d' % (epoch + 1), 'cost =', '{:.6f}'.format(loss))\n",
    "\n",
    "print('최적화 완료!')"
   ]
  },
  {
   "cell_type": "code",
   "execution_count": 15,
   "metadata": {},
   "outputs": [
    {
     "name": "stdout",
     "output_type": "stream",
     "text": [
      "\n",
      "=== 번역 테스트 ===\n",
      "word -> 단어\n",
      "wodr -> 나무\n",
      "love -> 사랑\n",
      "loev -> 사랑\n",
      "abcd -> 소녀\n"
     ]
    }
   ],
   "source": [
    "# 번역 테스트\n",
    "# 단어를 입력받아 번역 단어를 예측하고 디코딩하는 함수\n",
    "def translate(word):\n",
    "    # 이 모델은 입력값과 출력값 데이터로 [영어단어, 한글단어] 사용하지만,\n",
    "    # 예측시에는 한글단어를 알지 못하므로, 디코더의 입출력값을 의미 없는 값인 P 값으로 채움\n",
    "    seq_data = [word, 'P' * len(word)]\n",
    "\n",
    "    input_batch, output_batch, target_batch = make_batch([seq_data])\n",
    "\n",
    "    # 결과가 [batch size, time step, input] 으로 나오기 때문에,\n",
    "    # 2번째 차원인 input 차원을 argmax 로 취해 가장 확률이 높은 글자를 예측 값으로 만듦\n",
    "    prediction = tf.argmax(model, 2)\n",
    "\n",
    "    result = sess.run(prediction, feed_dict={enc_input: input_batch, dec_input: output_batch, targets: target_batch})\n",
    "\n",
    "    # 결과 값인 숫자의 인덱스에 해당하는 글자를 가져와 글자 배열을 만듦\n",
    "    decoded = [char_arr[i] for i in result[0]]\n",
    "\n",
    "    # 출력의 끝을 의미하는 'E' 이후의 글자들을 제거하고 문자열로 만듦\n",
    "    end = decoded.index('E')\n",
    "    translated = ''.join(decoded[:end])\n",
    "\n",
    "    return translated\n",
    "\n",
    "\n",
    "print('\\n=== 번역 테스트 ===')\n",
    "\n",
    "print('word ->', translate('word'))\n",
    "print('wodr ->', translate('wodr'))\n",
    "print('love ->', translate('love'))\n",
    "print('loev ->', translate('loev'))\n",
    "print('abcd ->', translate('abcd'))"
   ]
  }
 ],
 "metadata": {
  "kernelspec": {
   "display_name": "Python 3",
   "language": "python",
   "name": "python3"
  },
  "language_info": {
   "codemirror_mode": {
    "name": "ipython",
    "version": 3
   },
   "file_extension": ".py",
   "mimetype": "text/x-python",
   "name": "python",
   "nbconvert_exporter": "python",
   "pygments_lexer": "ipython3",
   "version": "3.7.3"
  }
 },
 "nbformat": 4,
 "nbformat_minor": 2
}
