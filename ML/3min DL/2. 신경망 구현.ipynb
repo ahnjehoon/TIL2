{
 "cells": [
  {
   "cell_type": "markdown",
   "metadata": {},
   "source": [
    "# 인공신경망\n",
    "- 뇌를 구성하는 신경세포, 즉 뉴런(neuron)의 동작 원리에 기초\n",
    "- 뉴런의 기본 동작은 가지돌기에서 신호를 받아들이고, 신호가 축삭돌기를 지나 축삭말단으로 전달\n",
    "- 하지만 신호가 너무 약해서 축삭말단까지 전달되지 않거나 강하게 전달됨\n",
    "- 또 이런 신호가 다음 뉴런에 전달되고 이런 수십억개 뉴런들의 조합으로 인간은 살고있음\n",
    "- 인공뉴런이란 입력값 X에 가중치(Weight)를 곱하고 편향(bias)을 더해 활성화함수를 거쳐 결과값y를 만들어내는 것\n",
    "- W와 b의 값을 변경해가면서 적절한 값을 찾아내는 과정을 학습(learning) 또는 훈련(training)이라고 함\n",
    "- 활성화 함수는 대표적으로 Sigmoid, ReLU, tanh가 있음"
   ]
  },
  {
   "cell_type": "markdown",
   "metadata": {},
   "source": [
    "## 간단한 분류 모델 구현\n",
    "- 패턴을 파악해 여러 종류로 구분하는 작업을 분류(classification)라고 함\n",
    "- 아래 예제에서는 수치해석용 파이썬 라이브러리인 NumPy와 텐서플로를 사용함"
   ]
  },
  {
   "cell_type": "code",
   "execution_count": 1,
   "metadata": {},
   "outputs": [],
   "source": [
    "import tensorflow as tf\n",
    "import numpy as np"
   ]
  },
  {
   "cell_type": "code",
   "execution_count": 2,
   "metadata": {},
   "outputs": [],
   "source": [
    "# 학습에 사용할 데이터 정의\n",
    "x_data = np.array([\n",
    "     [0,0]\n",
    "    ,[1,0]\n",
    "    ,[1,1]\n",
    "    ,[0,0]\n",
    "    ,[0,0]\n",
    "    ,[0,1]\n",
    "])"
   ]
  },
  {
   "cell_type": "markdown",
   "metadata": {},
   "source": [
    "# 원-핫 인코딩(one-hot encoding)\n",
    "- 데이터가 가질 수 있는 값들을 일렬로 나열한 배열로 만들고, 표현하려는 값의 인덱스만 1로 표기하고 나머지는 0으로 채우는 기법\n",
    "- A, B, C의 분류가 있다고 했을시\n",
    "    - A = [1,0,0]\n",
    "    - B = [0,1,0]\n",
    "    - C = [0,0,1]"
   ]
  },
  {
   "cell_type": "code",
   "execution_count": 3,
   "metadata": {},
   "outputs": [],
   "source": [
    "y_data = np.array([\n",
    "     [1,0,0] # A\n",
    "    ,[0,1,0] # B\n",
    "    ,[0,0,1] # C\n",
    "    ,[1,0,0] # A\n",
    "    ,[1,0,0] # A\n",
    "    ,[0,0,1] # C\n",
    "])"
   ]
  },
  {
   "cell_type": "code",
   "execution_count": 4,
   "metadata": {},
   "outputs": [
    {
     "name": "stdout",
     "output_type": "stream",
     "text": [
      "WARNING:tensorflow:From C:\\Users\\PC\\Anaconda3\\lib\\site-packages\\tensorflow\\python\\framework\\op_def_library.py:263: colocate_with (from tensorflow.python.framework.ops) is deprecated and will be removed in a future version.\n",
      "Instructions for updating:\n",
      "Colocations handled automatically by placer.\n",
      "WARNING:tensorflow:From C:\\Users\\PC\\Anaconda3\\lib\\site-packages\\tensorflow\\python\\ops\\math_ops.py:3066: to_int32 (from tensorflow.python.ops.math_ops) is deprecated and will be removed in a future version.\n",
      "Instructions for updating:\n",
      "Use tf.cast instead.\n"
     ]
    }
   ],
   "source": [
    "# 신경망 모델 구성\n",
    "X = tf.placeholder(tf.float32)\n",
    "Y = tf.placeholder(tf.float32)\n",
    "\n",
    "W = tf.Variable(tf.random_uniform([2, 3],-1, 1))\n",
    "b = tf.Variable(tf.zeros([3]))\n",
    "\n",
    "L = tf.add(tf.matmul(X, W),b)\n",
    "L = tf.nn.relu(L)\n",
    "\n",
    "# softmax 함수는 배열 내 결괏값들의 전체을 1로 만들어줌\n",
    "model = tf.nn.softmax(L)\n",
    "\n",
    "# 손실함수 교차 엔트로피(Cross-Entropy) 작성\n",
    "# 교차 엔트로피란 예측값과 실제값 사이의 확률 분포 차이를 계산한 값\n",
    "cost = tf.reduce_mean(-tf.reduce_sum(Y * tf.log(model), axis=1))\n",
    "\n",
    "# 경사하강법으로 최적화\n",
    "optimizer = tf.train.GradientDescentOptimizer(learning_rate=0.05)\n",
    "train_op = optimizer.minimize(cost)"
   ]
  },
  {
   "cell_type": "code",
   "execution_count": 5,
   "metadata": {},
   "outputs": [
    {
     "name": "stdout",
     "output_type": "stream",
     "text": [
      "10 1.2734615\n",
      "20 1.2183881\n",
      "30 1.1797624\n",
      "40 1.1547443\n",
      "50 1.1328558\n",
      "60 1.1173621\n",
      "70 1.1083374\n",
      "80 1.1017635\n",
      "90 1.0986123\n",
      "100 1.0986123\n",
      "예측값:  [0 0 0 0 0 0]\n",
      "실제값:  [0 1 2 0 0 2]\n",
      "정확도 50.00\n"
     ]
    }
   ],
   "source": [
    "# 텐서플로 세션 초기화\n",
    "init = tf.global_variables_initializer()\n",
    "\n",
    "\n",
    "# 학습 진행\n",
    "with tf.Session() as sess:\n",
    "    sess.run(init)\n",
    "    for step in range(100):\n",
    "        sess.run(train_op, feed_dict={X: x_data, Y: y_data})\n",
    "        if (step + 1) % 10 == 0: print(step + 1, sess.run(cost, feed_dict={X: x_data, Y: y_data}))\n",
    "\n",
    "    # 학습결과 확인\n",
    "    # argmax는 요소 중 가장 큰값의 인덱스를 찾아줌\n",
    "    prediction = tf.argmax(model, axis = 1)\n",
    "    target = tf.argmax(Y, axis=1)\n",
    "    print('예측값: ', sess.run(prediction,feed_dict={X: x_data}))\n",
    "    print('실제값: ', sess.run(target,feed_dict={Y: y_data}))\n",
    "    \n",
    "    # 정확도 출력\n",
    "    is_correct = tf.equal(prediction, target)\n",
    "    accuracy = tf.reduce_mean(tf.cast(is_correct, tf.float32))\n",
    "    print('정확도 %.2f' % sess.run(accuracy * 100, feed_dict={X:x_data, Y:y_data}))"
   ]
  },
  {
   "cell_type": "markdown",
   "metadata": {},
   "source": [
    "## 심층 신경망 구현\n",
    "- 앞서 만든 모델에 가중치와 편향 추가"
   ]
  },
  {
   "cell_type": "code",
   "execution_count": 6,
   "metadata": {},
   "outputs": [
    {
     "name": "stdout",
     "output_type": "stream",
     "text": [
      "WARNING:tensorflow:From <ipython-input-6-ff74361a9277>:14: softmax_cross_entropy_with_logits (from tensorflow.python.ops.nn_ops) is deprecated and will be removed in a future version.\n",
      "Instructions for updating:\n",
      "\n",
      "Future major versions of TensorFlow will allow gradients to flow\n",
      "into the labels input on backprop by default.\n",
      "\n",
      "See `tf.nn.softmax_cross_entropy_with_logits_v2`.\n",
      "\n"
     ]
    }
   ],
   "source": [
    "W1 = tf.Variable(tf.random_uniform([2, 10],-1, 1))\n",
    "b1 = tf.Variable(tf.zeros([10]))\n",
    "\n",
    "W2 = tf.Variable(tf.random_uniform([10, 3],-1, 1))\n",
    "b2 = tf.Variable(tf.zeros([3]))\n",
    "\n",
    "L1 = tf.add(tf.matmul(X, W1),b1)\n",
    "L1 = tf.nn.relu(L1)\n",
    "\n",
    "model = tf.add(tf.matmul(L1, W2),b2)\n",
    "\n",
    "# 손실함수 교차 엔트로피(Cross-Entropy) 작성\n",
    "# 교차 엔트로피란 예측값과 실제값 사이의 확률 분포 차이를 계산한 값\n",
    "cost = tf.reduce_mean(tf.nn.softmax_cross_entropy_with_logits(labels=Y, logits=model))\n",
    "\n",
    "# 경사하강법으로 최적화\n",
    "optimizer = tf.train.GradientDescentOptimizer(learning_rate=0.05)\n",
    "train_op = optimizer.minimize(cost)"
   ]
  },
  {
   "cell_type": "code",
   "execution_count": 7,
   "metadata": {},
   "outputs": [
    {
     "name": "stdout",
     "output_type": "stream",
     "text": [
      "10 1.1244994\n",
      "20 0.9011033\n",
      "30 0.7798414\n",
      "40 0.6913305\n",
      "50 0.62037057\n",
      "60 0.5644677\n",
      "70 0.5176734\n",
      "80 0.47700858\n",
      "90 0.4406085\n",
      "100 0.40823135\n",
      "예측값:  [0 1 2 0 0 2]\n",
      "실제값:  [0 1 2 0 0 2]\n",
      "정확도 100.00\n"
     ]
    }
   ],
   "source": [
    "# 텐서플로 세션 초기화\n",
    "init = tf.global_variables_initializer()\n",
    "\n",
    "\n",
    "# 학습 진행\n",
    "with tf.Session() as sess:\n",
    "    sess.run(init)\n",
    "    for step in range(100):\n",
    "        sess.run(train_op, feed_dict={X: x_data, Y: y_data})\n",
    "        if (step + 1) % 10 == 0: print(step + 1, sess.run(cost, feed_dict={X: x_data, Y: y_data}))\n",
    "\n",
    "    # 학습결과 확인\n",
    "    # argmax는 요소 중 가장 큰값의 인덱스를 찾아줌\n",
    "    prediction = tf.argmax(model, axis = 1)\n",
    "    target = tf.argmax(Y, axis=1)\n",
    "    print('예측값: ', sess.run(prediction,feed_dict={X: x_data}))\n",
    "    print('실제값: ', sess.run(target,feed_dict={Y: y_data}))\n",
    "    \n",
    "    # 정확도 출력\n",
    "    is_correct = tf.equal(prediction, target)\n",
    "    accuracy = tf.reduce_mean(tf.cast(is_correct, tf.float32))\n",
    "    print('정확도 %.2f' % sess.run(accuracy * 100, feed_dict={X:x_data, Y:y_data}))"
   ]
  },
  {
   "cell_type": "code",
   "execution_count": null,
   "metadata": {},
   "outputs": [],
   "source": []
  }
 ],
 "metadata": {
  "kernelspec": {
   "display_name": "Python 3",
   "language": "python",
   "name": "python3"
  },
  "language_info": {
   "codemirror_mode": {
    "name": "ipython",
    "version": 3
   },
   "file_extension": ".py",
   "mimetype": "text/x-python",
   "name": "python",
   "nbconvert_exporter": "python",
   "pygments_lexer": "ipython3",
   "version": "3.7.3"
  }
 },
 "nbformat": 4,
 "nbformat_minor": 2
}
