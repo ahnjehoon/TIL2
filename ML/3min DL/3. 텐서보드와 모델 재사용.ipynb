{
 "cells": [
  {
   "cell_type": "markdown",
   "metadata": {},
   "source": [
    "# 텐서보드와 모델 재사용"
   ]
  },
  {
   "cell_type": "markdown",
   "metadata": {},
   "source": [
    "### 학습 모델 저장후 재사용"
   ]
  },
  {
   "cell_type": "code",
   "execution_count": 1,
   "metadata": {},
   "outputs": [
    {
     "name": "stderr",
     "output_type": "stream",
     "text": [
      "C:\\Users\\PC\\AppData\\Local\\Continuum\\anaconda3\\lib\\site-packages\\sklearn\\preprocessing\\_encoders.py:371: FutureWarning: The handling of integer data will change in version 0.22. Currently, the categories are determined based on the range [0, max(values)], while in the future they will be determined based on the unique values.\n",
      "If you want the future behaviour and silence this warning, you can specify \"categories='auto'\".\n",
      "In case you used a LabelEncoder before this OneHotEncoder to convert the categories to integers, then you can now use the OneHotEncoder directly.\n",
      "  warnings.warn(msg, FutureWarning)\n"
     ]
    }
   ],
   "source": [
    "import tensorflow as tf\n",
    "import numpy as np\n",
    "from sklearn import datasets\n",
    "\n",
    "# iris 데이터로 실습\n",
    "# print(data.DESCR) 설명을 보고 싶다면\n",
    "x_data = datasets.load_iris().data\n",
    "y_data = datasets.load_iris().target\n",
    "\n",
    "from sklearn.preprocessing import OneHotEncoder\n",
    "onehot_encoder = OneHotEncoder(sparse=False)\n",
    "y_data = y_data.reshape(len(y_data), 1)\n",
    "y_data = onehot_encoder.fit_transform(y_data)\n",
    "\n",
    "from sklearn.model_selection import train_test_split\n",
    "x_train, x_test, y_train, y_test = train_test_split(x_data, y_data, test_size=0.3, random_state=2019)"
   ]
  },
  {
   "cell_type": "markdown",
   "metadata": {},
   "source": [
    "### 신경망 모델 구성"
   ]
  },
  {
   "cell_type": "code",
   "execution_count": 16,
   "metadata": {},
   "outputs": [],
   "source": [
    "# 학습 횟수를 카운트 하는 변수\n",
    "global_step = tf.Variable(0, trainable=False, name='global_step')\n",
    "\n",
    "X = tf.placeholder(tf.float32)\n",
    "Y = tf.placeholder(tf.float32)\n",
    "\n",
    "W1 = tf.Variable(tf.random_uniform([x_train.shape[1], 10], -1., 1.))\n",
    "b1 = tf.Variable(tf.zeros([10]))\n",
    "L1 = tf.nn.relu(tf.add(tf.matmul(X, W1),b1))\n",
    "\n",
    "W2 = tf.Variable(tf.random_uniform([10, 5], -1., 1.))\n",
    "b2 = tf.Variable(tf.zeros([5]))\n",
    "L2 = tf.nn.relu(tf.add(tf.matmul(L1, W2),b2))\n",
    "\n",
    "W3 = tf.Variable(tf.random_uniform([5, 3], -1., 1.))\n",
    "b3 = tf.Variable(tf.zeros([3]))\n",
    "\n",
    "model = tf.add(tf.matmul(L2, W3),b3)\n",
    "\n",
    "cost = tf.reduce_mean(tf.nn.softmax_cross_entropy_with_logits_v2(labels=Y, logits=model))\n",
    "optimizer = tf.train.AdamOptimizer(learning_rate=0.005)\n",
    "train_op = optimizer.minimize(cost, global_step=global_step)"
   ]
  },
  {
   "cell_type": "code",
   "execution_count": 18,
   "metadata": {},
   "outputs": [
    {
     "name": "stdout",
     "output_type": "stream",
     "text": [
      "Step: 1000,  Cost: 0.059\n",
      "Step: 2000,  Cost: 0.054\n",
      "Step: 3000,  Cost: 0.051\n",
      "예측값:  [0 0 2 1 2 0 2 0 1 2 2 2 2 1 0 1 2 1 0 2 0 2 0 1 0 0 1 2 0 0 2 0 0 2 2 0 0\n",
      " 2 0 1 0 1 0 2 1]\n",
      "실제값:  [0 0 2 1 2 0 2 0 1 2 2 2 2 1 0 1 2 1 0 2 0 2 0 1 0 0 1 2 0 0 2 0 0 2 2 0 0\n",
      " 2 0 1 0 1 0 2 1]\n",
      "정확도 98.67\n"
     ]
    }
   ],
   "source": [
    "with tf.Session() as sess:\n",
    "    # tf.global_variables는 앞서 정의한 변수들을 가져오는 함수\n",
    "    saver = tf.train.Saver(tf.global_variables())\n",
    "    # ./model 디렉토리에 기존에 학습해둔 모델이 있는지 확인\n",
    "    ckpt = tf.train.get_checkpoint_state('./model')\n",
    "    if ckpt and tf.train.checkpoint_exists(ckpt.model_checkpoint_path):\n",
    "        saver.restore(sess, ckpt.model_checkpoint_path)\n",
    "    else:\n",
    "        sess.run(tf.global_variables_initializer())\n",
    "        \n",
    "    for step in range(3000):\n",
    "        sess.run(train_op, feed_dict={X: x_train, Y: y_train})\n",
    "        if (step + 1) % 1000 == 0:\n",
    "            print('Step: %d, ' % sess.run(global_step), 'Cost: %.3f' % sess.run(cost, feed_dict={X: x_train, Y: y_train}))\n",
    "        \n",
    "    # 최적화가 끝난 뒤 학습 변수들 저장\n",
    "    saver.save(sess, './model/dnn.ckpt', global_step=global_step)\n",
    "    \n",
    "    prediction = tf.argmax(model, axis = 1)\n",
    "    target = tf.argmax(Y, axis=1)\n",
    "    print('예측값: ', sess.run(prediction,feed_dict={X: x_test}))\n",
    "    print('실제값: ', sess.run(target,feed_dict={Y: y_test}))\n",
    "\n",
    "    # 정확도 출력\n",
    "    is_correct = tf.equal(prediction, target)\n",
    "    accuracy = tf.reduce_mean(tf.cast(is_correct, tf.float32))\n",
    "    print('정확도 %.2f' % sess.run(accuracy * 100, feed_dict={X:x_data, Y:y_data}))"
   ]
  },
  {
   "cell_type": "markdown",
   "metadata": {},
   "source": [
    "# 텐서보드 사용\n",
    "- 학습과정을 추적하려면 번거로운 작업을 많이 해야함\n",
    "- 이런 문제를 해결하기 위해, 학습중간 손실값, 정확도, 결과물로 나온 이미지나 사운드 파일들을 시각화해서 보여줌"
   ]
  },
  {
   "cell_type": "markdown",
   "metadata": {},
   "source": [
    "### 사용방법\n",
    "1. 신경망의 각 계층에 다음 코드를 덧 붙임\n",
    "```python\n",
    "with tf.name_scope('[name지정]'):\n",
    "```\n",
    "2. 이후 변수 뒤에 이름을 붙임<br>\n",
    "    텐서보드에서 해당 이름의 변수가 어디서 사용되는지 쉽게 확인가능"
   ]
  },
  {
   "cell_type": "code",
   "execution_count": null,
   "metadata": {},
   "outputs": [],
   "source": [
    "# 학습 횟수를 카운트 하는 변수\n",
    "global_step = tf.Variable(0, trainable=False, name='global_step')\n",
    "\n",
    "X = tf.placeholder(tf.float32)\n",
    "Y = tf.placeholder(tf.float32)\n",
    "with tf.name_scope('layer1'):\n",
    "    W1 = tf.Variable(tf.random_uniform([x_train.shape[1], 10], -1., 1.),name='W1')\n",
    "    b1 = tf.Variable(tf.zeros([10]))\n",
    "    L1 = tf.nn.relu(tf.add(tf.matmul(X, W1),b1))\n",
    "with tf.name_scope('layer2'):\n",
    "    W2 = tf.Variable(tf.random_uniform([10, 5], -1., 1.),name='W2')\n",
    "    b2 = tf.Variable(tf.zeros([5]))\n",
    "    L2 = tf.nn.relu(tf.add(tf.matmul(L1, W2),b2))\n",
    "with tf.name_scope('output'):\n",
    "    W3 = tf.Variable(tf.random_uniform([5, 3], -1., 1.),name='W3')\n",
    "    b3 = tf.Variable(tf.zeros([3]))\n",
    "    model = tf.add(tf.matmul(L2, W3),b3)\n",
    "with tf.name_scope('optimizer'):\n",
    "    cost = tf.reduce_mean(tf.nn.softmax_cross_entropy_with_logits_v2(labels=Y, logits=model))\n",
    "    optimizer = tf.train.AdamOptimizer(learning_rate=0.05)\n",
    "    train_op = optimizer.minimize(cost, global_step=global_step)\n",
    "    # 손실값을 추적하기 위해 수집할 값을 지정하는 코드\n",
    "    tf.summary.scalar('cost',cost)"
   ]
  },
  {
   "cell_type": "code",
   "execution_count": null,
   "metadata": {},
   "outputs": [],
   "source": [
    "with tf.Session() as sess:\n",
    "    sess.run(tf.global_variables_initializer())\n",
    "    # 지정한 텐서 수집\n",
    "    merged = tf.summary.merge_all()\n",
    "    # 그래프와 텐서들의 값 저장\n",
    "    writer = tf.summary.FileWriter('./logs', sess.graph)\n",
    "    \n",
    "    for step in range(10000):\n",
    "        sess.run(train_op, feed_dict={X: x_train, Y: y_train})\n",
    "        summary = sess.run(merged, feed_dict={X:x_train, Y: y_train})\n",
    "        writer.add_summary(summary, global_step=sess.run(global_step))\n",
    "        if (step + 1) % 1000 == 0:\n",
    "            print('Step: %d, ' % sess.run(global_step), 'Cost: %.3f' % sess.run(cost, feed_dict={X: x_train, Y: y_train}))\n",
    "        \n",
    "    prediction = tf.argmax(model, axis = 1)\n",
    "    target = tf.argmax(Y, axis=1)\n",
    "    print('예측값: ', sess.run(prediction,feed_dict={X: x_test}))\n",
    "    print('실제값: ', sess.run(target,feed_dict={Y: y_test}))\n",
    "\n",
    "    # 정확도 출력\n",
    "    is_correct = tf.equal(prediction, target)\n",
    "    accuracy = tf.reduce_mean(tf.cast(is_correct, tf.float32))\n",
    "    print('정확도 %.2f' % sess.run(accuracy * 100, feed_dict={X:x_data, Y:y_data}))"
   ]
  },
  {
   "cell_type": "markdown",
   "metadata": {},
   "source": [
    "### Anaconda 명령 프롬포트에서 아래와 같이 입력\n",
    "작업중인 폴더로 먼저 이동후에 실행해야됨\n",
    "\n",
    "- cd \"Desktop\\TIL\\ML\\3min DL\"\n",
    "- tensorboard --logdir=./logs\n",
    "- http://localhost:6006"
   ]
  },
  {
   "cell_type": "markdown",
   "metadata": {},
   "source": [
    "#### 각 가중치와 편향 등의 변화를 그래프로 살펴보고 싶을때\n",
    "- 텐서보드의 [DISTRIBUTIONS], [HISTOGRAMS] 메뉴 확인\n",
    "- tf.summary.histogram(\"Weights\", W1)"
   ]
  },
  {
   "cell_type": "markdown",
   "metadata": {},
   "source": [
    "구글에서는 텐서플로로 만들고 학습시킨 모델을 실제 서비스에 적용하기 쉽게 만들어주는 서버환경인 텐서플로 서빙(Tensorflow Serving)을 제공\n",
    "\n",
    "학습된 모델을 사용하는 프로그램을 텐서플로로 직접 만들수 있겠지만\n",
    "\n",
    "쉽게 모델을 변경하거나, 여러 모델을 한 서버에서 서비스하는 등의 다양한 편의 기능을 제공함"
   ]
  },
  {
   "cell_type": "code",
   "execution_count": null,
   "metadata": {},
   "outputs": [],
   "source": []
  }
 ],
 "metadata": {
  "kernelspec": {
   "display_name": "Python 3",
   "language": "python",
   "name": "python3"
  },
  "language_info": {
   "codemirror_mode": {
    "name": "ipython",
    "version": 3
   },
   "file_extension": ".py",
   "mimetype": "text/x-python",
   "name": "python",
   "nbconvert_exporter": "python",
   "pygments_lexer": "ipython3",
   "version": "3.7.3"
  }
 },
 "nbformat": 4,
 "nbformat_minor": 2
}
